{
 "cells": [
  {
   "cell_type": "code",
   "execution_count": 1,
   "id": "d46f1342",
   "metadata": {},
   "outputs": [],
   "source": [
    "import numpy as np\n",
    "import pandas as pd\n",
    "from IPython.display import display, HTML \n",
    "from sklearn import metrics\n",
    "import tensorflow as tf\n",
    "from tensorflow.keras.models import Sequential\n",
    "from tensorflow.keras.layers import Dense, Activation"
   ]
  },
  {
   "cell_type": "code",
   "execution_count": 2,
   "id": "e5e5fcfe",
   "metadata": {},
   "outputs": [],
   "source": [
    "import matplotlib.pyplot as plt\n",
    "from sklearn.metrics import accuracy_score\n",
    "from tensorflow.keras.optimizers import Adam\n",
    "from sklearn.preprocessing import MinMaxScaler\n",
    "from tensorflow.keras import Model, Sequential\n",
    "from tensorflow.keras.layers import Dense, Dropout\n",
    "from sklearn.model_selection import train_test_split\n",
    "from tensorflow.keras.losses import MeanSquaredLogarithmicError"
   ]
  },
  {
   "cell_type": "code",
   "execution_count": 3,
   "id": "854cfb63",
   "metadata": {},
   "outputs": [],
   "source": [
    "from sklearn.metrics import confusion_matrix"
   ]
  },
  {
   "cell_type": "markdown",
   "id": "0b5efe7b",
   "metadata": {},
   "source": [
    "# TO DO ANOMALY DETECTION \n",
    "- Perform anomaly detection, \n",
    "- Data need to divide by two grouop (\"Normal\", \"various Attack \")"
   ]
  },
  {
   "cell_type": "code",
   "execution_count": 4,
   "id": "8ee5d888",
   "metadata": {},
   "outputs": [],
   "source": [
    "data = pd.read_csv(\"ins_fraud.csv\")"
   ]
  },
  {
   "cell_type": "code",
   "execution_count": 5,
   "id": "d5ab27ab",
   "metadata": {},
   "outputs": [],
   "source": [
    "# last column is the target\n",
    "# 1 = anomaly, 0 = normal\n",
    "TARGET = \"fraud\"\n",
    "\n",
    "features = data.drop(TARGET, axis=1)\n",
    "target = data[TARGET]\n",
    "\n",
    "x_train, x_test, y_train, y_test = train_test_split(\n",
    "    features, target, test_size=0.2, stratify=target\n",
    ")\n",
    "\n",
    "# use case is novelty detection so use only the normal data\n",
    "# for training\n",
    "train_index = y_train[y_train == 0].index\n",
    "train_data = x_train.loc[train_index]"
   ]
  },
  {
   "cell_type": "code",
   "execution_count": 6,
   "id": "a044e801",
   "metadata": {},
   "outputs": [
    {
     "name": "stdout",
     "output_type": "stream",
     "text": [
      "Normal count: 15959\n",
      "Attack count: 41\n"
     ]
    }
   ],
   "source": [
    "normal_mask = data['fraud']== 0\n",
    "attack_mask = data['fraud']== 1\n",
    "\n",
    "data.drop('fraud',axis=1,inplace=True)\n",
    "\n",
    "\n",
    "\n",
    "df_normal = data[normal_mask]\n",
    "df_attack = data[attack_mask]\n",
    "\n",
    "print(f\"Normal count: {len(df_normal)}\")\n",
    "print(f\"Attack count: {len(df_attack)}\")"
   ]
  },
  {
   "cell_type": "code",
   "execution_count": 7,
   "id": "2bec5d47",
   "metadata": {},
   "outputs": [],
   "source": [
    "# Convert DataFrame into Numpy arrays, keras need numpy\n",
    "x_normal = df_normal.values\n",
    "x_attack = df_attack.values"
   ]
  },
  {
   "cell_type": "markdown",
   "id": "58910f40",
   "metadata": {},
   "source": [
    "## Training the Autoencoder "
   ]
  },
  {
   "cell_type": "code",
   "execution_count": 8,
   "id": "d27eb08c",
   "metadata": {},
   "outputs": [],
   "source": [
    "from sklearn.model_selection import train_test_split"
   ]
  },
  {
   "cell_type": "markdown",
   "id": "dbd64212",
   "metadata": {},
   "source": [
    "- important to note that we are not using the outcome column as a label to predict\n",
    "- This anomaly detection is unsupervised\n",
    "- **no target (y)**\n",
    "- train an autoencoder on the normal data \n",
    "- see how well it can detect that the data not flagged as \"normal\" represents an anomaly"
   ]
  },
  {
   "cell_type": "code",
   "execution_count": 9,
   "id": "023a01c8",
   "metadata": {},
   "outputs": [],
   "source": [
    "x_normal_train, x_normal_test = train_test_split(\n",
    "    x_normal, test_size=0.3, random_state=77)"
   ]
  },
  {
   "cell_type": "code",
   "execution_count": 10,
   "id": "423739e8",
   "metadata": {},
   "outputs": [
    {
     "name": "stdout",
     "output_type": "stream",
     "text": [
      "Normal train count: 11171\n",
      "Normal test count: 4788\n"
     ]
    }
   ],
   "source": [
    "print(f\"Normal train count: {len(x_normal_train)}\")\n",
    "print(f\"Normal test count: {len(x_normal_test)}\")"
   ]
  },
  {
   "cell_type": "markdown",
   "id": "f4f425ec",
   "metadata": {},
   "source": [
    "# How to learn?"
   ]
  },
  {
   "cell_type": "markdown",
   "id": "e6461de1",
   "metadata": {},
   "source": [
    "- The autoencoder will learn to compress the data to a vector of just three numbers\n",
    "- autoencoder should be able to also decompress with reasonable accuracy"
   ]
  },
  {
   "cell_type": "code",
   "execution_count": 11,
   "id": "8c08ca3e",
   "metadata": {},
   "outputs": [],
   "source": [
    "class AutoEncoder(Model):\n",
    "  \"\"\"\n",
    "  Parameters\n",
    "  ----------\n",
    "  output_units: int\n",
    "    Number of output units\n",
    "  \n",
    "  code_size: int\n",
    "    Number of units in bottle neck\n",
    "  \"\"\"\n",
    "\n",
    "  def __init__(self, output_units, code_size=8):\n",
    "    super().__init__()\n",
    "    self.encoder = Sequential([\n",
    "      Dense(64, activation='relu'),\n",
    "      Dropout(0.1),\n",
    "      Dense(32, activation='relu'),\n",
    "      Dropout(0.1),\n",
    "      Dense(16, activation='relu'),\n",
    "      Dropout(0.1),\n",
    "      Dense(code_size, activation='relu')\n",
    "    ])\n",
    "    self.decoder = Sequential([\n",
    "      Dense(16, activation='relu'),\n",
    "      Dropout(0.1),\n",
    "      Dense(32, activation='relu'),\n",
    "      Dropout(0.1),\n",
    "      Dense(64, activation='relu'),\n",
    "      Dropout(0.1),\n",
    "      Dense(output_units, activation='sigmoid')\n",
    "    ])\n",
    "  \n",
    "  def call(self, inputs):\n",
    "    encoded = self.encoder(inputs)\n",
    "    decoded = self.decoder(encoded)\n",
    "    return decoded"
   ]
  },
  {
   "cell_type": "code",
   "execution_count": 12,
   "id": "39d539e0",
   "metadata": {
    "scrolled": true
   },
   "outputs": [
    {
     "name": "stdout",
     "output_type": "stream",
     "text": [
      "Epoch 1/100\n",
      "22/22 [==============================] - 1s 10ms/step - loss: 7.6576 - mse: 423447166976.0000 - val_loss: 7.5557 - val_mse: 493758545920.0000\n",
      "Epoch 2/100\n",
      "22/22 [==============================] - 0s 4ms/step - loss: 7.5135 - mse: 423447265280.0000 - val_loss: 7.4719 - val_mse: 493758545920.0000\n",
      "Epoch 3/100\n",
      "22/22 [==============================] - 0s 4ms/step - loss: 7.4586 - mse: 423447265280.0000 - val_loss: 7.4408 - val_mse: 493758545920.0000\n",
      "Epoch 4/100\n",
      "22/22 [==============================] - 0s 4ms/step - loss: 7.4273 - mse: 423447199744.0000 - val_loss: 7.4231 - val_mse: 493758545920.0000\n",
      "Epoch 5/100\n",
      "22/22 [==============================] - 0s 4ms/step - loss: 7.4104 - mse: 423447298048.0000 - val_loss: 7.4187 - val_mse: 493758545920.0000\n",
      "Epoch 6/100\n",
      "22/22 [==============================] - 0s 4ms/step - loss: 7.4007 - mse: 423447166976.0000 - val_loss: 7.4123 - val_mse: 493758545920.0000\n",
      "Epoch 7/100\n",
      "22/22 [==============================] - 0s 4ms/step - loss: 7.3923 - mse: 423447166976.0000 - val_loss: 7.4038 - val_mse: 493758545920.0000\n",
      "Epoch 8/100\n",
      "22/22 [==============================] - 0s 4ms/step - loss: 7.3855 - mse: 423447199744.0000 - val_loss: 7.3930 - val_mse: 493758545920.0000\n",
      "Epoch 9/100\n",
      "22/22 [==============================] - 0s 4ms/step - loss: 7.3826 - mse: 423447166976.0000 - val_loss: 7.3918 - val_mse: 493758545920.0000\n",
      "Epoch 10/100\n",
      "22/22 [==============================] - 0s 4ms/step - loss: 7.3804 - mse: 423447199744.0000 - val_loss: 7.3907 - val_mse: 493758545920.0000\n",
      "Epoch 11/100\n",
      "22/22 [==============================] - 0s 4ms/step - loss: 7.3791 - mse: 423447199744.0000 - val_loss: 7.3904 - val_mse: 493758545920.0000\n",
      "Epoch 12/100\n",
      "22/22 [==============================] - 0s 4ms/step - loss: 7.3773 - mse: 423447199744.0000 - val_loss: 7.3899 - val_mse: 493758545920.0000\n",
      "Epoch 13/100\n",
      "22/22 [==============================] - 0s 3ms/step - loss: 7.3778 - mse: 423447199744.0000 - val_loss: 7.3867 - val_mse: 493758545920.0000\n",
      "Epoch 14/100\n",
      "22/22 [==============================] - 0s 3ms/step - loss: 7.3764 - mse: 423447199744.0000 - val_loss: 7.3872 - val_mse: 493758545920.0000\n",
      "Epoch 15/100\n",
      "22/22 [==============================] - 0s 4ms/step - loss: 7.3746 - mse: 423447199744.0000 - val_loss: 7.3857 - val_mse: 493758545920.0000\n",
      "Epoch 16/100\n",
      "22/22 [==============================] - 0s 4ms/step - loss: 7.3756 - mse: 423447199744.0000 - val_loss: 7.3855 - val_mse: 493758545920.0000\n",
      "Epoch 17/100\n",
      "22/22 [==============================] - 0s 4ms/step - loss: 7.3760 - mse: 423447265280.0000 - val_loss: 7.3854 - val_mse: 493758545920.0000\n",
      "Epoch 18/100\n",
      "22/22 [==============================] - 0s 4ms/step - loss: 7.3776 - mse: 423447199744.0000 - val_loss: 7.3852 - val_mse: 493758545920.0000\n",
      "Epoch 19/100\n",
      "22/22 [==============================] - 0s 4ms/step - loss: 7.3807 - mse: 423447265280.0000 - val_loss: 7.3850 - val_mse: 493758545920.0000\n",
      "Epoch 20/100\n",
      "22/22 [==============================] - 0s 4ms/step - loss: 7.3805 - mse: 423447199744.0000 - val_loss: 7.3849 - val_mse: 493758545920.0000\n",
      "Epoch 21/100\n",
      "22/22 [==============================] - 0s 4ms/step - loss: 7.3778 - mse: 423447199744.0000 - val_loss: 7.3847 - val_mse: 493758545920.0000\n",
      "Epoch 22/100\n",
      "22/22 [==============================] - 0s 4ms/step - loss: 7.3732 - mse: 423447199744.0000 - val_loss: 7.3847 - val_mse: 493758545920.0000\n",
      "Epoch 23/100\n",
      "22/22 [==============================] - 0s 4ms/step - loss: 7.3724 - mse: 423447265280.0000 - val_loss: 7.3845 - val_mse: 493758545920.0000\n",
      "Epoch 24/100\n",
      "22/22 [==============================] - 0s 4ms/step - loss: 7.3730 - mse: 423447199744.0000 - val_loss: 7.3844 - val_mse: 493758545920.0000\n",
      "Epoch 25/100\n",
      "22/22 [==============================] - 0s 3ms/step - loss: 7.3728 - mse: 423447199744.0000 - val_loss: 7.3843 - val_mse: 493758545920.0000\n",
      "Epoch 26/100\n",
      "22/22 [==============================] - 0s 3ms/step - loss: 7.3729 - mse: 423447199744.0000 - val_loss: 7.3842 - val_mse: 493758545920.0000\n",
      "Epoch 27/100\n",
      "22/22 [==============================] - 0s 3ms/step - loss: 7.3728 - mse: 423447199744.0000 - val_loss: 7.3841 - val_mse: 493758545920.0000\n",
      "Epoch 28/100\n",
      "22/22 [==============================] - 0s 3ms/step - loss: 7.3740 - mse: 423447199744.0000 - val_loss: 7.3840 - val_mse: 493758545920.0000\n",
      "Epoch 29/100\n",
      "22/22 [==============================] - 0s 3ms/step - loss: 7.3741 - mse: 423447199744.0000 - val_loss: 7.3839 - val_mse: 493758545920.0000\n",
      "Epoch 30/100\n",
      "22/22 [==============================] - 0s 4ms/step - loss: 7.3745 - mse: 423447265280.0000 - val_loss: 7.3839 - val_mse: 493758545920.0000\n",
      "Epoch 31/100\n",
      "22/22 [==============================] - 0s 4ms/step - loss: 7.3746 - mse: 423447199744.0000 - val_loss: 7.3838 - val_mse: 493758545920.0000\n",
      "Epoch 32/100\n",
      "22/22 [==============================] - 0s 4ms/step - loss: 7.3767 - mse: 423447199744.0000 - val_loss: 7.3837 - val_mse: 493758545920.0000\n",
      "Epoch 33/100\n",
      "22/22 [==============================] - 0s 3ms/step - loss: 7.4415 - mse: 423447199744.0000 - val_loss: 7.5069 - val_mse: 493758545920.0000\n",
      "Epoch 34/100\n",
      "22/22 [==============================] - 0s 3ms/step - loss: 7.4908 - mse: 423447265280.0000 - val_loss: 7.5096 - val_mse: 493758545920.0000\n",
      "Epoch 35/100\n",
      "22/22 [==============================] - 0s 3ms/step - loss: 7.4937 - mse: 423447199744.0000 - val_loss: 7.5111 - val_mse: 493758545920.0000\n",
      "Epoch 36/100\n",
      "22/22 [==============================] - 0s 3ms/step - loss: 7.4800 - mse: 423447199744.0000 - val_loss: 7.5039 - val_mse: 493758545920.0000\n",
      "Epoch 37/100\n",
      "22/22 [==============================] - 0s 4ms/step - loss: 7.4686 - mse: 423447265280.0000 - val_loss: 7.5026 - val_mse: 493758545920.0000\n",
      "Epoch 38/100\n",
      "22/22 [==============================] - 0s 4ms/step - loss: 7.4689 - mse: 423447199744.0000 - val_loss: 7.5025 - val_mse: 493758545920.0000\n",
      "Epoch 39/100\n",
      "22/22 [==============================] - 0s 3ms/step - loss: 7.4688 - mse: 423447199744.0000 - val_loss: 7.5025 - val_mse: 493758545920.0000\n",
      "Epoch 40/100\n",
      "22/22 [==============================] - 0s 3ms/step - loss: 7.4590 - mse: 423447199744.0000 - val_loss: 7.4849 - val_mse: 493758545920.0000\n",
      "Epoch 41/100\n",
      "22/22 [==============================] - 0s 4ms/step - loss: 7.4506 - mse: 423447166976.0000 - val_loss: 7.4827 - val_mse: 493758545920.0000\n",
      "Epoch 42/100\n",
      "22/22 [==============================] - 0s 4ms/step - loss: 7.4472 - mse: 423447199744.0000 - val_loss: 7.4816 - val_mse: 493758545920.0000\n",
      "Epoch 43/100\n",
      "22/22 [==============================] - 0s 4ms/step - loss: 7.4479 - mse: 423447265280.0000 - val_loss: 7.4823 - val_mse: 493758545920.0000\n",
      "Epoch 44/100\n",
      "22/22 [==============================] - 0s 3ms/step - loss: 7.4488 - mse: 423447199744.0000 - val_loss: 7.4824 - val_mse: 493758545920.0000\n",
      "Epoch 45/100\n",
      "22/22 [==============================] - 0s 3ms/step - loss: 7.4471 - mse: 423447199744.0000 - val_loss: 7.4825 - val_mse: 493758545920.0000\n",
      "Epoch 46/100\n",
      "22/22 [==============================] - 0s 3ms/step - loss: 7.4515 - mse: 423447265280.0000 - val_loss: 7.4824 - val_mse: 493758545920.0000\n",
      "Epoch 47/100\n",
      "22/22 [==============================] - 0s 4ms/step - loss: 7.4481 - mse: 423447166976.0000 - val_loss: 7.4822 - val_mse: 493758545920.0000\n",
      "Epoch 48/100\n",
      "22/22 [==============================] - 0s 4ms/step - loss: 7.4475 - mse: 423447265280.0000 - val_loss: 7.4823 - val_mse: 493758545920.0000\n",
      "Epoch 49/100\n",
      "22/22 [==============================] - 0s 4ms/step - loss: 7.4495 - mse: 423447265280.0000 - val_loss: 7.4832 - val_mse: 493758545920.0000\n",
      "Epoch 50/100\n",
      "22/22 [==============================] - 0s 4ms/step - loss: 7.4480 - mse: 423447265280.0000 - val_loss: 7.4799 - val_mse: 493758545920.0000\n",
      "Epoch 51/100\n",
      "22/22 [==============================] - 0s 3ms/step - loss: 7.4452 - mse: 423447265280.0000 - val_loss: 7.4791 - val_mse: 493758545920.0000\n",
      "Epoch 52/100\n",
      "22/22 [==============================] - 0s 3ms/step - loss: 7.4445 - mse: 423447199744.0000 - val_loss: 7.4758 - val_mse: 493758545920.0000\n",
      "Epoch 53/100\n",
      "22/22 [==============================] - 0s 4ms/step - loss: 7.4429 - mse: 423447199744.0000 - val_loss: 7.4819 - val_mse: 493758545920.0000\n",
      "Epoch 54/100\n"
     ]
    },
    {
     "name": "stdout",
     "output_type": "stream",
     "text": [
      "22/22 [==============================] - 0s 4ms/step - loss: 7.4440 - mse: 423447265280.0000 - val_loss: 7.4744 - val_mse: 493758545920.0000\n",
      "Epoch 55/100\n",
      "22/22 [==============================] - 0s 4ms/step - loss: 7.4345 - mse: 423447265280.0000 - val_loss: 7.4742 - val_mse: 493758545920.0000\n",
      "Epoch 56/100\n",
      "22/22 [==============================] - 0s 4ms/step - loss: 7.4352 - mse: 423447199744.0000 - val_loss: 7.4743 - val_mse: 493758545920.0000\n",
      "Epoch 57/100\n",
      "22/22 [==============================] - 0s 3ms/step - loss: 7.4353 - mse: 423447199744.0000 - val_loss: 7.4744 - val_mse: 493758545920.0000\n",
      "Epoch 58/100\n",
      "22/22 [==============================] - 0s 4ms/step - loss: 7.4359 - mse: 423447265280.0000 - val_loss: 7.4748 - val_mse: 493758545920.0000\n",
      "Epoch 59/100\n",
      "22/22 [==============================] - 0s 4ms/step - loss: 7.4359 - mse: 423447265280.0000 - val_loss: 7.4751 - val_mse: 493758545920.0000\n",
      "Epoch 60/100\n",
      "22/22 [==============================] - 0s 4ms/step - loss: 7.4376 - mse: 423447298048.0000 - val_loss: 7.4749 - val_mse: 493758545920.0000\n",
      "Epoch 61/100\n",
      "22/22 [==============================] - 0s 4ms/step - loss: 7.4360 - mse: 423447199744.0000 - val_loss: 7.4730 - val_mse: 493758545920.0000\n",
      "Epoch 62/100\n",
      "22/22 [==============================] - 0s 3ms/step - loss: 7.4335 - mse: 423447199744.0000 - val_loss: 7.4701 - val_mse: 493758545920.0000\n",
      "Epoch 63/100\n",
      "22/22 [==============================] - 0s 3ms/step - loss: 7.4338 - mse: 423447166976.0000 - val_loss: 7.4702 - val_mse: 493758545920.0000\n",
      "Epoch 64/100\n",
      "22/22 [==============================] - 0s 3ms/step - loss: 7.4336 - mse: 423447265280.0000 - val_loss: 7.4705 - val_mse: 493758545920.0000\n",
      "Epoch 65/100\n",
      "22/22 [==============================] - 0s 3ms/step - loss: 7.4339 - mse: 423447199744.0000 - val_loss: 7.4705 - val_mse: 493758545920.0000\n",
      "Epoch 66/100\n",
      "22/22 [==============================] - 0s 4ms/step - loss: 7.4348 - mse: 423447199744.0000 - val_loss: 7.4703 - val_mse: 493758545920.0000\n",
      "Epoch 67/100\n",
      "22/22 [==============================] - 0s 4ms/step - loss: 7.3988 - mse: 423447265280.0000 - val_loss: 7.3800 - val_mse: 493758545920.0000\n",
      "Epoch 68/100\n",
      "22/22 [==============================] - 0s 4ms/step - loss: 7.3774 - mse: 423447199744.0000 - val_loss: 7.3823 - val_mse: 493758545920.0000\n",
      "Epoch 69/100\n",
      "22/22 [==============================] - 0s 4ms/step - loss: 7.3790 - mse: 423447199744.0000 - val_loss: 7.3810 - val_mse: 493758545920.0000\n",
      "Epoch 70/100\n",
      "22/22 [==============================] - 0s 3ms/step - loss: 7.3820 - mse: 423447199744.0000 - val_loss: 7.3826 - val_mse: 493758545920.0000\n",
      "Epoch 71/100\n",
      "22/22 [==============================] - 0s 4ms/step - loss: 7.3842 - mse: 423447265280.0000 - val_loss: 7.3953 - val_mse: 493758545920.0000\n",
      "Epoch 72/100\n",
      "22/22 [==============================] - 0s 4ms/step - loss: 7.3878 - mse: 423447199744.0000 - val_loss: 7.4008 - val_mse: 493758545920.0000\n",
      "Epoch 73/100\n",
      "22/22 [==============================] - 0s 3ms/step - loss: 7.3977 - mse: 423447199744.0000 - val_loss: 7.4400 - val_mse: 493758545920.0000\n",
      "Epoch 74/100\n",
      "22/22 [==============================] - 0s 3ms/step - loss: 7.4168 - mse: 423447265280.0000 - val_loss: 7.4461 - val_mse: 493758545920.0000\n",
      "Epoch 75/100\n",
      "22/22 [==============================] - 0s 3ms/step - loss: 7.4258 - mse: 423447265280.0000 - val_loss: 7.4917 - val_mse: 493758545920.0000\n",
      "Epoch 76/100\n",
      "22/22 [==============================] - 0s 3ms/step - loss: 7.4721 - mse: 423447166976.0000 - val_loss: 7.5032 - val_mse: 493758545920.0000\n",
      "Epoch 77/100\n",
      "22/22 [==============================] - 0s 4ms/step - loss: 7.4765 - mse: 423447199744.0000 - val_loss: 7.4966 - val_mse: 493758545920.0000\n",
      "Epoch 78/100\n",
      "22/22 [==============================] - 0s 4ms/step - loss: 7.4727 - mse: 423447199744.0000 - val_loss: 7.4955 - val_mse: 493758545920.0000\n",
      "Epoch 79/100\n",
      "22/22 [==============================] - 0s 3ms/step - loss: 7.4723 - mse: 423447199744.0000 - val_loss: 7.4955 - val_mse: 493758545920.0000\n",
      "Epoch 80/100\n",
      "22/22 [==============================] - 0s 3ms/step - loss: 7.4722 - mse: 423447199744.0000 - val_loss: 7.4955 - val_mse: 493758545920.0000\n",
      "Epoch 81/100\n",
      "22/22 [==============================] - 0s 4ms/step - loss: 7.4729 - mse: 423447199744.0000 - val_loss: 7.4955 - val_mse: 493758545920.0000\n",
      "Epoch 82/100\n",
      "22/22 [==============================] - 0s 4ms/step - loss: 7.4741 - mse: 423447199744.0000 - val_loss: 7.4955 - val_mse: 493758545920.0000\n",
      "Epoch 83/100\n",
      "22/22 [==============================] - 0s 3ms/step - loss: 7.4729 - mse: 423447265280.0000 - val_loss: 7.4955 - val_mse: 493758545920.0000\n",
      "Epoch 84/100\n",
      "22/22 [==============================] - 0s 4ms/step - loss: 7.4724 - mse: 423447265280.0000 - val_loss: 7.4944 - val_mse: 493758545920.0000\n",
      "Epoch 85/100\n",
      "22/22 [==============================] - 0s 4ms/step - loss: 7.4736 - mse: 423447199744.0000 - val_loss: 7.5014 - val_mse: 493758545920.0000\n",
      "Epoch 86/100\n",
      "22/22 [==============================] - 0s 3ms/step - loss: 7.4755 - mse: 423447199744.0000 - val_loss: 7.5019 - val_mse: 493758545920.0000\n",
      "Epoch 87/100\n",
      "22/22 [==============================] - 0s 4ms/step - loss: 7.4757 - mse: 423447166976.0000 - val_loss: 7.5021 - val_mse: 493758545920.0000\n",
      "Epoch 88/100\n",
      "22/22 [==============================] - 0s 3ms/step - loss: 7.4775 - mse: 423447199744.0000 - val_loss: 7.5017 - val_mse: 493758545920.0000\n",
      "Epoch 89/100\n",
      "22/22 [==============================] - 0s 4ms/step - loss: 7.4766 - mse: 423447265280.0000 - val_loss: 7.5017 - val_mse: 493758545920.0000\n",
      "Epoch 90/100\n",
      "22/22 [==============================] - 0s 3ms/step - loss: 7.4761 - mse: 423447265280.0000 - val_loss: 7.5018 - val_mse: 493758545920.0000\n",
      "Epoch 91/100\n",
      "22/22 [==============================] - 0s 4ms/step - loss: 7.4798 - mse: 423447265280.0000 - val_loss: 7.5077 - val_mse: 493758545920.0000\n",
      "Epoch 92/100\n",
      "22/22 [==============================] - 0s 3ms/step - loss: 7.4853 - mse: 423447199744.0000 - val_loss: 7.5086 - val_mse: 493758545920.0000\n",
      "Epoch 93/100\n",
      "22/22 [==============================] - 0s 3ms/step - loss: 7.4866 - mse: 423447265280.0000 - val_loss: 7.5084 - val_mse: 493758545920.0000\n",
      "Epoch 94/100\n",
      "22/22 [==============================] - 0s 3ms/step - loss: 7.4840 - mse: 423447199744.0000 - val_loss: 7.5024 - val_mse: 493758545920.0000\n",
      "Epoch 95/100\n",
      "22/22 [==============================] - 0s 4ms/step - loss: 7.4675 - mse: 423447199744.0000 - val_loss: 7.4858 - val_mse: 493758545920.0000\n",
      "Epoch 96/100\n",
      "22/22 [==============================] - 0s 4ms/step - loss: 7.4624 - mse: 423447199744.0000 - val_loss: 7.4837 - val_mse: 493758545920.0000\n",
      "Epoch 97/100\n",
      "22/22 [==============================] - 0s 4ms/step - loss: 7.4605 - mse: 423447199744.0000 - val_loss: 7.4837 - val_mse: 493758545920.0000\n",
      "Epoch 98/100\n",
      "22/22 [==============================] - 0s 4ms/step - loss: 7.4598 - mse: 423447199744.0000 - val_loss: 7.4832 - val_mse: 493758545920.0000\n",
      "Epoch 99/100\n",
      "22/22 [==============================] - 0s 4ms/step - loss: 7.4578 - mse: 423447166976.0000 - val_loss: 7.4824 - val_mse: 493758545920.0000\n",
      "Epoch 100/100\n",
      "22/22 [==============================] - 0s 4ms/step - loss: 7.4607 - mse: 423447199744.0000 - val_loss: 7.4821 - val_mse: 493758545920.0000\n"
     ]
    }
   ],
   "source": [
    "model = AutoEncoder(output_units=x_normal_train.shape[1])\n",
    "# configurations of model\n",
    "model.compile(loss='msle', metrics=['mse'], optimizer='adam')\n",
    "\n",
    "history = model.fit(\n",
    "    x_normal_train,\n",
    "    x_normal_train,\n",
    "    epochs=100,\n",
    "    batch_size=512,\n",
    "    validation_data=(x_normal_test, x_normal_test)\n",
    ")"
   ]
  },
  {
   "cell_type": "code",
   "execution_count": 13,
   "id": "9c2c0d7a",
   "metadata": {
    "scrolled": true
   },
   "outputs": [
    {
     "data": {
      "image/png": "[encoded data removed]",
      "text/plain": [
       "<Figure size 432x288 with 1 Axes>"
      ]
     },
     "metadata": {
      "image/png": {
       "height": 266,
       "width": 395
      }
     },
     "output_type": "display_data"
    }
   ],
   "source": [
    "plt.plot(history.history['loss'])\n",
    "plt.plot(history.history['val_loss'])\n",
    "plt.xlabel('Epochs')\n",
    "plt.ylabel('MSLE Loss')\n",
    "plt.legend(['loss', 'val_loss'])\n",
    "plt.show()"
   ]
  },
  {
   "cell_type": "markdown",
   "id": "34adcec1",
   "metadata": {},
   "source": [
    "# Detecting an Anomaly "
   ]
  },
  {
   "cell_type": "markdown",
   "id": "61e87cfe",
   "metadata": {},
   "source": [
    "- encoding data that represents an attack. This higher error indicates an anomaly."
   ]
  },
  {
   "cell_type": "code",
   "execution_count": 14,
   "id": "1006a295",
   "metadata": {
    "scrolled": true
   },
   "outputs": [
    {
     "name": "stdout",
     "output_type": "stream",
     "text": [
      "Out of Sample Normal Score (RMSE): 702679.5540404909\n",
      "Insample Normal Score (RMSE): 666739.7863877318\n",
      "Anormal Data (RMSE): 586363.0034770189\n"
     ]
    }
   ],
   "source": [
    "pred = model.predict(x_normal_test)\n",
    "score1 = np.sqrt(metrics.mean_squared_error(pred,x_normal_test))\n",
    "pred = model.predict(x_normal)\n",
    "score2 = np.sqrt(metrics.mean_squared_error(pred,x_normal))\n",
    "pred = model.predict(x_attack)\n",
    "score3 = np.sqrt(metrics.mean_squared_error(pred,x_attack))\n",
    "print(f\"Out of Sample Normal Score (RMSE): {score1}\")\n",
    "print(f\"Insample Normal Score (RMSE): {score2}\")\n",
    "print(f\"Anormal Data (RMSE): {score3}\")"
   ]
  },
  {
   "cell_type": "code",
   "execution_count": 15,
   "id": "0fcf7fd0",
   "metadata": {},
   "outputs": [],
   "source": [
    "def find_threshold(model, x_train):\n",
    "  reconstructions = model.predict(x_train)\n",
    "  # provides losses of individual instances\n",
    "  reconstruction_errors = tf.keras.losses.msle(reconstructions, x_train)\n",
    "  # threshold for anomaly scores\n",
    "  threshold = np.mean(reconstruction_errors.numpy()) \\\n",
    "      + np.std(reconstruction_errors.numpy())\n",
    "  return threshold\n",
    "\n",
    "def get_predictions(model, x_test, threshold):\n",
    "  predictions = model.predict(x_test)\n",
    "  # provides losses of individual instances\n",
    "  errors = tf.keras.losses.msle(predictions, x_test)\n",
    "  # 0 = anomaly, 1 = normal\n",
    "  anomaly_mask = pd.Series(errors) > threshold\n",
    "  preds = anomaly_mask.map(lambda x: 1.0 if x == True else 0.0)\n",
    "  return preds"
   ]
  },
  {
   "cell_type": "code",
   "execution_count": 16,
   "id": "b56eabd0",
   "metadata": {},
   "outputs": [
    {
     "name": "stdout",
     "output_type": "stream",
     "text": [
      "Threshold: 12.863562743210668\n"
     ]
    },
    {
     "data": {
      "text/plain": [
       "0.7771875"
      ]
     },
     "execution_count": 16,
     "metadata": {},
     "output_type": "execute_result"
    }
   ],
   "source": [
    "threshold = find_threshold(model, x_normal_train)\n",
    "print(f\"Threshold: {threshold}\")\n",
    "# Threshold: 0.01001314025746261\n",
    "predictions = get_predictions(model, x_test, threshold)\n",
    "accuracy_score(y_test, predictions)"
   ]
  },
  {
   "cell_type": "code",
   "execution_count": 17,
   "id": "c73bd7c9",
   "metadata": {},
   "outputs": [
    {
     "data": {
      "text/plain": [
       "array([[2484,  708],\n",
       "       [   5,    3]])"
      ]
     },
     "execution_count": 17,
     "metadata": {},
     "output_type": "execute_result"
    }
   ],
   "source": [
    "confusion_matrix(y_test, predictions)"
   ]
  },
  {
   "cell_type": "code",
   "execution_count": 18,
   "id": "664cfab6",
   "metadata": {},
   "outputs": [],
   "source": [
    "# 한개 맞췄당 "
   ]
  },
  {
   "cell_type": "markdown",
   "id": "9824a4bd",
   "metadata": {},
   "source": [
    "# Autoencoder Scaled"
   ]
  },
  {
   "cell_type": "code",
   "execution_count": 19,
   "id": "fbe2b6a1",
   "metadata": {},
   "outputs": [],
   "source": [
    "data = pd.read_csv(\"ins_fraud.csv\")"
   ]
  },
  {
   "cell_type": "code",
   "execution_count": 20,
   "id": "2fb836a3",
   "metadata": {},
   "outputs": [],
   "source": [
    "x_normal = data[data[\"fraud\"]==0].values\n",
    "x_attack = data[data[\"fraud\"]==1].values"
   ]
  },
  {
   "cell_type": "code",
   "execution_count": 21,
   "id": "88f2e059",
   "metadata": {},
   "outputs": [],
   "source": [
    "# last column is the target\n",
    "# 0 = anomaly, 1 = normal\n",
    "TARGET = \"fraud\"\n",
    "\n",
    "features = data.drop(TARGET, axis=1)\n",
    "target = data[TARGET]\n",
    "\n",
    "x_train, x_test, y_train, y_test = train_test_split(\n",
    "    features, target, test_size=0.2, stratify=target\n",
    ")\n",
    "\n",
    "# use case is novelty detection so use only the normal data\n",
    "# for training\n",
    "train_index = y_train[y_train == 0].index\n",
    "train_data = x_train.loc[train_index]\n",
    "\n",
    "# min max scale the input data\n",
    "min_max_scaler = MinMaxScaler(feature_range=(0, 1))\n",
    "x_train_scaled = min_max_scaler.fit_transform(train_data.copy())\n",
    "x_test_scaled = min_max_scaler.transform(x_test.copy())"
   ]
  },
  {
   "cell_type": "code",
   "execution_count": 22,
   "id": "f546ac3b",
   "metadata": {
    "scrolled": true
   },
   "outputs": [
    {
     "name": "stdout",
     "output_type": "stream",
     "text": [
      "Epoch 1/100\n",
      "25/25 [==============================] - 1s 8ms/step - loss: 0.1129 - mse: 0.1917 - val_loss: 0.1040 - val_mse: 0.1754\n",
      "Epoch 2/100\n",
      "25/25 [==============================] - 0s 4ms/step - loss: 0.0766 - mse: 0.1356 - val_loss: 0.0514 - val_mse: 0.1047\n",
      "Epoch 3/100\n",
      "25/25 [==============================] - 0s 4ms/step - loss: 0.0507 - mse: 0.1020 - val_loss: 0.0448 - val_mse: 0.0902\n",
      "Epoch 4/100\n",
      "25/25 [==============================] - 0s 4ms/step - loss: 0.0460 - mse: 0.0931 - val_loss: 0.0415 - val_mse: 0.0848\n",
      "Epoch 5/100\n",
      "25/25 [==============================] - 0s 3ms/step - loss: 0.0435 - mse: 0.0888 - val_loss: 0.0403 - val_mse: 0.0827\n",
      "Epoch 6/100\n",
      "25/25 [==============================] - 0s 3ms/step - loss: 0.0419 - mse: 0.0860 - val_loss: 0.0382 - val_mse: 0.0791\n",
      "Epoch 7/100\n",
      "25/25 [==============================] - 0s 3ms/step - loss: 0.0396 - mse: 0.0816 - val_loss: 0.0354 - val_mse: 0.0735\n",
      "Epoch 8/100\n",
      "25/25 [==============================] - 0s 3ms/step - loss: 0.0376 - mse: 0.0777 - val_loss: 0.0344 - val_mse: 0.0718\n",
      "Epoch 9/100\n",
      "25/25 [==============================] - 0s 3ms/step - loss: 0.0366 - mse: 0.0760 - val_loss: 0.0336 - val_mse: 0.0704\n",
      "Epoch 10/100\n",
      "25/25 [==============================] - 0s 3ms/step - loss: 0.0358 - mse: 0.0744 - val_loss: 0.0326 - val_mse: 0.0682\n",
      "Epoch 11/100\n",
      "25/25 [==============================] - 0s 3ms/step - loss: 0.0349 - mse: 0.0726 - val_loss: 0.0315 - val_mse: 0.0658\n",
      "Epoch 12/100\n",
      "25/25 [==============================] - 0s 3ms/step - loss: 0.0338 - mse: 0.0702 - val_loss: 0.0301 - val_mse: 0.0631\n",
      "Epoch 13/100\n",
      "25/25 [==============================] - 0s 3ms/step - loss: 0.0327 - mse: 0.0678 - val_loss: 0.0291 - val_mse: 0.0607\n",
      "Epoch 14/100\n",
      "25/25 [==============================] - 0s 3ms/step - loss: 0.0316 - mse: 0.0657 - val_loss: 0.0283 - val_mse: 0.0590\n",
      "Epoch 15/100\n",
      "25/25 [==============================] - 0s 3ms/step - loss: 0.0308 - mse: 0.0640 - val_loss: 0.0277 - val_mse: 0.0577\n",
      "Epoch 16/100\n",
      "25/25 [==============================] - 0s 3ms/step - loss: 0.0303 - mse: 0.0629 - val_loss: 0.0273 - val_mse: 0.0569\n",
      "Epoch 17/100\n",
      "25/25 [==============================] - 0s 3ms/step - loss: 0.0299 - mse: 0.0622 - val_loss: 0.0268 - val_mse: 0.0559\n",
      "Epoch 18/100\n",
      "25/25 [==============================] - 0s 3ms/step - loss: 0.0295 - mse: 0.0613 - val_loss: 0.0264 - val_mse: 0.0551\n",
      "Epoch 19/100\n",
      "25/25 [==============================] - 0s 3ms/step - loss: 0.0291 - mse: 0.0604 - val_loss: 0.0258 - val_mse: 0.0540\n",
      "Epoch 20/100\n",
      "25/25 [==============================] - 0s 4ms/step - loss: 0.0287 - mse: 0.0597 - val_loss: 0.0252 - val_mse: 0.0529\n",
      "Epoch 21/100\n",
      "25/25 [==============================] - 0s 3ms/step - loss: 0.0282 - mse: 0.0588 - val_loss: 0.0246 - val_mse: 0.0517\n",
      "Epoch 22/100\n",
      "25/25 [==============================] - 0s 3ms/step - loss: 0.0278 - mse: 0.0579 - val_loss: 0.0240 - val_mse: 0.0504\n",
      "Epoch 23/100\n",
      "25/25 [==============================] - 0s 3ms/step - loss: 0.0272 - mse: 0.0567 - val_loss: 0.0235 - val_mse: 0.0492\n",
      "Epoch 24/100\n",
      "25/25 [==============================] - 0s 3ms/step - loss: 0.0267 - mse: 0.0557 - val_loss: 0.0229 - val_mse: 0.0482\n",
      "Epoch 25/100\n",
      "25/25 [==============================] - 0s 3ms/step - loss: 0.0263 - mse: 0.0547 - val_loss: 0.0224 - val_mse: 0.0470\n",
      "Epoch 26/100\n",
      "25/25 [==============================] - 0s 3ms/step - loss: 0.0258 - mse: 0.0536 - val_loss: 0.0219 - val_mse: 0.0460\n",
      "Epoch 27/100\n",
      "25/25 [==============================] - 0s 4ms/step - loss: 0.0254 - mse: 0.0530 - val_loss: 0.0215 - val_mse: 0.0451\n",
      "Epoch 28/100\n",
      "25/25 [==============================] - 0s 3ms/step - loss: 0.0250 - mse: 0.0520 - val_loss: 0.0211 - val_mse: 0.0440\n",
      "Epoch 29/100\n",
      "25/25 [==============================] - 0s 3ms/step - loss: 0.0246 - mse: 0.0511 - val_loss: 0.0206 - val_mse: 0.0431\n",
      "Epoch 30/100\n",
      "25/25 [==============================] - 0s 3ms/step - loss: 0.0243 - mse: 0.0504 - val_loss: 0.0203 - val_mse: 0.0424\n",
      "Epoch 31/100\n",
      "25/25 [==============================] - 0s 3ms/step - loss: 0.0239 - mse: 0.0496 - val_loss: 0.0200 - val_mse: 0.0417\n",
      "Epoch 32/100\n",
      "25/25 [==============================] - 0s 3ms/step - loss: 0.0237 - mse: 0.0491 - val_loss: 0.0197 - val_mse: 0.0413\n",
      "Epoch 33/100\n",
      "25/25 [==============================] - 0s 3ms/step - loss: 0.0235 - mse: 0.0487 - val_loss: 0.0195 - val_mse: 0.0407\n",
      "Epoch 34/100\n",
      "25/25 [==============================] - 0s 3ms/step - loss: 0.0233 - mse: 0.0484 - val_loss: 0.0193 - val_mse: 0.0403\n",
      "Epoch 35/100\n",
      "25/25 [==============================] - 0s 3ms/step - loss: 0.0230 - mse: 0.0477 - val_loss: 0.0192 - val_mse: 0.0399\n",
      "Epoch 36/100\n",
      "25/25 [==============================] - 0s 3ms/step - loss: 0.0229 - mse: 0.0474 - val_loss: 0.0191 - val_mse: 0.0396\n",
      "Epoch 37/100\n",
      "25/25 [==============================] - 0s 3ms/step - loss: 0.0227 - mse: 0.0470 - val_loss: 0.0189 - val_mse: 0.0393\n",
      "Epoch 38/100\n",
      "25/25 [==============================] - 0s 3ms/step - loss: 0.0225 - mse: 0.0466 - val_loss: 0.0188 - val_mse: 0.0392\n",
      "Epoch 39/100\n",
      "25/25 [==============================] - 0s 3ms/step - loss: 0.0223 - mse: 0.0463 - val_loss: 0.0186 - val_mse: 0.0388\n",
      "Epoch 40/100\n",
      "25/25 [==============================] - 0s 4ms/step - loss: 0.0222 - mse: 0.0460 - val_loss: 0.0185 - val_mse: 0.0385\n",
      "Epoch 41/100\n",
      "25/25 [==============================] - 0s 3ms/step - loss: 0.0222 - mse: 0.0460 - val_loss: 0.0185 - val_mse: 0.0383\n",
      "Epoch 42/100\n",
      "25/25 [==============================] - 0s 3ms/step - loss: 0.0219 - mse: 0.0454 - val_loss: 0.0183 - val_mse: 0.0381\n",
      "Epoch 43/100\n",
      "25/25 [==============================] - 0s 3ms/step - loss: 0.0219 - mse: 0.0453 - val_loss: 0.0182 - val_mse: 0.0379\n",
      "Epoch 44/100\n",
      "25/25 [==============================] - 0s 3ms/step - loss: 0.0217 - mse: 0.0450 - val_loss: 0.0181 - val_mse: 0.0376\n",
      "Epoch 45/100\n",
      "25/25 [==============================] - 0s 3ms/step - loss: 0.0216 - mse: 0.0447 - val_loss: 0.0180 - val_mse: 0.0374\n",
      "Epoch 46/100\n",
      "25/25 [==============================] - 0s 3ms/step - loss: 0.0215 - mse: 0.0445 - val_loss: 0.0179 - val_mse: 0.0371\n",
      "Epoch 47/100\n",
      "25/25 [==============================] - 0s 3ms/step - loss: 0.0214 - mse: 0.0442 - val_loss: 0.0178 - val_mse: 0.0369\n",
      "Epoch 48/100\n",
      "25/25 [==============================] - 0s 3ms/step - loss: 0.0214 - mse: 0.0443 - val_loss: 0.0177 - val_mse: 0.0365\n",
      "Epoch 49/100\n",
      "25/25 [==============================] - 0s 3ms/step - loss: 0.0212 - mse: 0.0439 - val_loss: 0.0176 - val_mse: 0.0366\n",
      "Epoch 50/100\n",
      "25/25 [==============================] - 0s 3ms/step - loss: 0.0211 - mse: 0.0437 - val_loss: 0.0175 - val_mse: 0.0365\n",
      "Epoch 51/100\n",
      "25/25 [==============================] - 0s 3ms/step - loss: 0.0210 - mse: 0.0436 - val_loss: 0.0174 - val_mse: 0.0362\n",
      "Epoch 52/100\n",
      "25/25 [==============================] - 0s 3ms/step - loss: 0.0209 - mse: 0.0433 - val_loss: 0.0174 - val_mse: 0.0363\n",
      "Epoch 53/100\n",
      "25/25 [==============================] - 0s 3ms/step - loss: 0.0208 - mse: 0.0430 - val_loss: 0.0173 - val_mse: 0.0358\n",
      "Epoch 54/100\n",
      "25/25 [==============================] - 0s 3ms/step - loss: 0.0207 - mse: 0.0428 - val_loss: 0.0171 - val_mse: 0.0355\n",
      "Epoch 55/100\n",
      "25/25 [==============================] - 0s 3ms/step - loss: 0.0207 - mse: 0.0428 - val_loss: 0.0170 - val_mse: 0.0354\n",
      "Epoch 56/100\n",
      "25/25 [==============================] - 0s 3ms/step - loss: 0.0206 - mse: 0.0427 - val_loss: 0.0169 - val_mse: 0.0352\n",
      "Epoch 57/100\n",
      "25/25 [==============================] - 0s 3ms/step - loss: 0.0206 - mse: 0.0425 - val_loss: 0.0169 - val_mse: 0.0351\n",
      "Epoch 58/100\n",
      "25/25 [==============================] - 0s 3ms/step - loss: 0.0204 - mse: 0.0423 - val_loss: 0.0168 - val_mse: 0.0348\n",
      "Epoch 59/100\n",
      "25/25 [==============================] - 0s 3ms/step - loss: 0.0204 - mse: 0.0422 - val_loss: 0.0167 - val_mse: 0.0346\n",
      "Epoch 60/100\n",
      "25/25 [==============================] - 0s 3ms/step - loss: 0.0202 - mse: 0.0419 - val_loss: 0.0166 - val_mse: 0.0344\n",
      "Epoch 61/100\n",
      "25/25 [==============================] - 0s 3ms/step - loss: 0.0202 - mse: 0.0418 - val_loss: 0.0165 - val_mse: 0.0342\n",
      "Epoch 62/100\n",
      "25/25 [==============================] - 0s 3ms/step - loss: 0.0201 - mse: 0.0417 - val_loss: 0.0165 - val_mse: 0.0344\n",
      "Epoch 63/100\n"
     ]
    },
    {
     "name": "stdout",
     "output_type": "stream",
     "text": [
      "25/25 [==============================] - 0s 3ms/step - loss: 0.0200 - mse: 0.0415 - val_loss: 0.0164 - val_mse: 0.0340\n",
      "Epoch 64/100\n",
      "25/25 [==============================] - 0s 3ms/step - loss: 0.0201 - mse: 0.0415 - val_loss: 0.0163 - val_mse: 0.0339\n",
      "Epoch 65/100\n",
      "25/25 [==============================] - 0s 3ms/step - loss: 0.0199 - mse: 0.0411 - val_loss: 0.0162 - val_mse: 0.0337\n",
      "Epoch 66/100\n",
      "25/25 [==============================] - 0s 3ms/step - loss: 0.0199 - mse: 0.0412 - val_loss: 0.0162 - val_mse: 0.0335\n",
      "Epoch 67/100\n",
      "25/25 [==============================] - 0s 3ms/step - loss: 0.0198 - mse: 0.0410 - val_loss: 0.0161 - val_mse: 0.0334\n",
      "Epoch 68/100\n",
      "25/25 [==============================] - 0s 3ms/step - loss: 0.0197 - mse: 0.0408 - val_loss: 0.0160 - val_mse: 0.0333\n",
      "Epoch 69/100\n",
      "25/25 [==============================] - 0s 3ms/step - loss: 0.0197 - mse: 0.0408 - val_loss: 0.0159 - val_mse: 0.0332\n",
      "Epoch 70/100\n",
      "25/25 [==============================] - 0s 3ms/step - loss: 0.0196 - mse: 0.0406 - val_loss: 0.0160 - val_mse: 0.0332\n",
      "Epoch 71/100\n",
      "25/25 [==============================] - 0s 4ms/step - loss: 0.0196 - mse: 0.0406 - val_loss: 0.0159 - val_mse: 0.0331\n",
      "Epoch 72/100\n",
      "25/25 [==============================] - 0s 3ms/step - loss: 0.0196 - mse: 0.0405 - val_loss: 0.0158 - val_mse: 0.0329\n",
      "Epoch 73/100\n",
      "25/25 [==============================] - 0s 3ms/step - loss: 0.0195 - mse: 0.0403 - val_loss: 0.0158 - val_mse: 0.0327\n",
      "Epoch 74/100\n",
      "25/25 [==============================] - 0s 3ms/step - loss: 0.0194 - mse: 0.0401 - val_loss: 0.0158 - val_mse: 0.0328\n",
      "Epoch 75/100\n",
      "25/25 [==============================] - 0s 3ms/step - loss: 0.0194 - mse: 0.0401 - val_loss: 0.0157 - val_mse: 0.0326\n",
      "Epoch 76/100\n",
      "25/25 [==============================] - 0s 3ms/step - loss: 0.0193 - mse: 0.0400 - val_loss: 0.0156 - val_mse: 0.0325\n",
      "Epoch 77/100\n",
      "25/25 [==============================] - 0s 3ms/step - loss: 0.0192 - mse: 0.0399 - val_loss: 0.0155 - val_mse: 0.0322\n",
      "Epoch 78/100\n",
      "25/25 [==============================] - 0s 3ms/step - loss: 0.0193 - mse: 0.0399 - val_loss: 0.0155 - val_mse: 0.0322\n",
      "Epoch 79/100\n",
      "25/25 [==============================] - 0s 3ms/step - loss: 0.0191 - mse: 0.0396 - val_loss: 0.0156 - val_mse: 0.0323\n",
      "Epoch 80/100\n",
      "25/25 [==============================] - 0s 4ms/step - loss: 0.0191 - mse: 0.0395 - val_loss: 0.0154 - val_mse: 0.0321\n",
      "Epoch 81/100\n",
      "25/25 [==============================] - 0s 3ms/step - loss: 0.0191 - mse: 0.0394 - val_loss: 0.0154 - val_mse: 0.0320\n",
      "Epoch 82/100\n",
      "25/25 [==============================] - 0s 3ms/step - loss: 0.0191 - mse: 0.0394 - val_loss: 0.0154 - val_mse: 0.0319\n",
      "Epoch 83/100\n",
      "25/25 [==============================] - 0s 3ms/step - loss: 0.0190 - mse: 0.0394 - val_loss: 0.0153 - val_mse: 0.0318\n",
      "Epoch 84/100\n",
      "25/25 [==============================] - 0s 3ms/step - loss: 0.0190 - mse: 0.0393 - val_loss: 0.0153 - val_mse: 0.0317\n",
      "Epoch 85/100\n",
      "25/25 [==============================] - 0s 3ms/step - loss: 0.0189 - mse: 0.0391 - val_loss: 0.0151 - val_mse: 0.0314\n",
      "Epoch 86/100\n",
      "25/25 [==============================] - 0s 3ms/step - loss: 0.0189 - mse: 0.0390 - val_loss: 0.0151 - val_mse: 0.0314\n",
      "Epoch 87/100\n",
      "25/25 [==============================] - 0s 3ms/step - loss: 0.0188 - mse: 0.0390 - val_loss: 0.0151 - val_mse: 0.0313\n",
      "Epoch 88/100\n",
      "25/25 [==============================] - 0s 3ms/step - loss: 0.0187 - mse: 0.0387 - val_loss: 0.0151 - val_mse: 0.0313\n",
      "Epoch 89/100\n",
      "25/25 [==============================] - 0s 4ms/step - loss: 0.0187 - mse: 0.0386 - val_loss: 0.0150 - val_mse: 0.0311\n",
      "Epoch 90/100\n",
      "25/25 [==============================] - 0s 3ms/step - loss: 0.0187 - mse: 0.0387 - val_loss: 0.0150 - val_mse: 0.0311\n",
      "Epoch 91/100\n",
      "25/25 [==============================] - 0s 3ms/step - loss: 0.0187 - mse: 0.0386 - val_loss: 0.0149 - val_mse: 0.0310\n",
      "Epoch 92/100\n",
      "25/25 [==============================] - 0s 3ms/step - loss: 0.0186 - mse: 0.0385 - val_loss: 0.0149 - val_mse: 0.0310\n",
      "Epoch 93/100\n",
      "25/25 [==============================] - 0s 3ms/step - loss: 0.0185 - mse: 0.0383 - val_loss: 0.0148 - val_mse: 0.0309\n",
      "Epoch 94/100\n",
      "25/25 [==============================] - 0s 3ms/step - loss: 0.0185 - mse: 0.0383 - val_loss: 0.0148 - val_mse: 0.0309\n",
      "Epoch 95/100\n",
      "25/25 [==============================] - 0s 3ms/step - loss: 0.0186 - mse: 0.0384 - val_loss: 0.0149 - val_mse: 0.0308\n",
      "Epoch 96/100\n",
      "25/25 [==============================] - 0s 3ms/step - loss: 0.0186 - mse: 0.0385 - val_loss: 0.0148 - val_mse: 0.0307\n",
      "Epoch 97/100\n",
      "25/25 [==============================] - 0s 3ms/step - loss: 0.0184 - mse: 0.0381 - val_loss: 0.0148 - val_mse: 0.0307\n",
      "Epoch 98/100\n",
      "25/25 [==============================] - 0s 3ms/step - loss: 0.0185 - mse: 0.0384 - val_loss: 0.0147 - val_mse: 0.0305\n",
      "Epoch 99/100\n",
      "25/25 [==============================] - 0s 3ms/step - loss: 0.0184 - mse: 0.0382 - val_loss: 0.0147 - val_mse: 0.0304\n",
      "Epoch 100/100\n",
      "25/25 [==============================] - 0s 3ms/step - loss: 0.0184 - mse: 0.0380 - val_loss: 0.0147 - val_mse: 0.0306\n"
     ]
    }
   ],
   "source": [
    "# create a model by subclassing Model class in tensorflow\n",
    "\n",
    "model = AutoEncoder(output_units=x_train_scaled.shape[1])\n",
    "# configurations of model\n",
    "model.compile(loss='msle', metrics=['mse'], optimizer='adam')\n",
    "\n",
    "history = model.fit(\n",
    "    x_train_scaled,\n",
    "    x_train_scaled,\n",
    "    epochs=100,\n",
    "    batch_size=512,\n",
    "    validation_data=(x_test_scaled, x_test_scaled)\n",
    ")"
   ]
  },
  {
   "cell_type": "code",
   "execution_count": 23,
   "id": "755a0a93",
   "metadata": {},
   "outputs": [
    {
     "data": {
      "image/png": "[encoded data removed]",
      "text/plain": [
       "<Figure size 432x288 with 1 Axes>"
      ]
     },
     "metadata": {
      "image/png": {
       "height": 266,
       "width": 395
      }
     },
     "output_type": "display_data"
    }
   ],
   "source": [
    "plt.plot(history.history['loss'])\n",
    "plt.plot(history.history['val_loss'])\n",
    "plt.xlabel('Epochs')\n",
    "plt.ylabel('MSLE Loss')\n",
    "plt.legend(['loss', 'val_loss'])\n",
    "plt.show()"
   ]
  },
  {
   "cell_type": "code",
   "execution_count": 24,
   "id": "57fcd34b",
   "metadata": {},
   "outputs": [
    {
     "name": "stdout",
     "output_type": "stream",
     "text": [
      "Threshold: 0.024881502782340525\n"
     ]
    },
    {
     "data": {
      "text/plain": [
       "0.8296875"
      ]
     },
     "execution_count": 24,
     "metadata": {},
     "output_type": "execute_result"
    }
   ],
   "source": [
    "def find_threshold(model, x_train_scaled):\n",
    "  reconstructions = model.predict(x_train_scaled)\n",
    "  # provides losses of individual instances\n",
    "  reconstruction_errors = tf.keras.losses.msle(reconstructions, x_train_scaled)\n",
    "  # threshold for anomaly scores\n",
    "  threshold = np.mean(reconstruction_errors.numpy()) \\\n",
    "      + np.std(reconstruction_errors.numpy())\n",
    "  return threshold\n",
    "\n",
    "def get_predictions(model, x_test_scaled, threshold):\n",
    "  predictions = model.predict(x_test_scaled)\n",
    "  # provides losses of individual instances\n",
    "  errors = tf.keras.losses.msle(predictions, x_test_scaled)\n",
    "  # 0 = anomaly, 1 = normal\n",
    "  anomaly_mask = pd.Series(errors) > threshold\n",
    "  preds = anomaly_mask.map(lambda x: 1.0 if x == True else 0.0)\n",
    "  return preds\n",
    "\n",
    "threshold = find_threshold(model, x_train_scaled)\n",
    "print(f\"Threshold: {threshold}\")\n",
    "# Threshold: 0.01001314025746261\n",
    "predictions = get_predictions(model, x_test_scaled, threshold)\n",
    "accuracy_score(predictions, y_test)"
   ]
  },
  {
   "cell_type": "code",
   "execution_count": 25,
   "id": "1d53b101",
   "metadata": {
    "scrolled": false
   },
   "outputs": [
    {
     "data": {
      "text/plain": [
       "array([[2654,  538],\n",
       "       [   7,    1]])"
      ]
     },
     "execution_count": 25,
     "metadata": {},
     "output_type": "execute_result"
    }
   ],
   "source": [
    "confusion_matrix(y_test, predictions)"
   ]
  },
  {
   "cell_type": "code",
   "execution_count": 26,
   "id": "05013730",
   "metadata": {},
   "outputs": [],
   "source": [
    "# 와아 한개 맞았당..... "
   ]
  },
  {
   "cell_type": "markdown",
   "id": "7873b6a8",
   "metadata": {},
   "source": [
    "# 다시 해보기 z-score 맞춰서  "
   ]
  },
  {
   "cell_type": "code",
   "execution_count": 27,
   "id": "7bd0c369",
   "metadata": {},
   "outputs": [],
   "source": [
    "data = pd.read_csv(\"ins_fraud.csv\")"
   ]
  },
  {
   "cell_type": "code",
   "execution_count": 28,
   "id": "0f0c69b1",
   "metadata": {},
   "outputs": [],
   "source": [
    "# Encode a numeric column as zscores\n",
    "def encode_numeric_zscore(df, name, mean=None, sd=None):\n",
    "    if mean is None:\n",
    "        mean = df[name].mean()\n",
    "    if sd is None:\n",
    "        sd = df[name].std()\n",
    "    \n",
    "    data[name] = (df[name] - mean) / sd"
   ]
  },
  {
   "cell_type": "code",
   "execution_count": 29,
   "id": "c01bff27",
   "metadata": {},
   "outputs": [],
   "source": [
    "val = data[data[\"c24\"] == 1].drop(\"c24\", 1)\n",
    "data = data[data[\"c24\"] == 0].drop(\"c24\", 1)"
   ]
  },
  {
   "cell_type": "code",
   "execution_count": 30,
   "id": "cdbaf1b1",
   "metadata": {},
   "outputs": [],
   "source": [
    "encode_numeric_zscore(data, \"c14\")\n",
    "encode_numeric_zscore(data, \"c15\")\n",
    "encode_numeric_zscore(data, \"c7\")\n",
    "encode_numeric_zscore(data, \"c19\")"
   ]
  },
  {
   "cell_type": "code",
   "execution_count": 31,
   "id": "f50d443a",
   "metadata": {
    "scrolled": true
   },
   "outputs": [
    {
     "data": {
      "text/html": [
       "<div>\n",
       "<style scoped>\n",
       "    .dataframe tbody tr th:only-of-type {\n",
       "        vertical-align: middle;\n",
       "    }\n",
       "\n",
       "    .dataframe tbody tr th {\n",
       "        vertical-align: top;\n",
       "    }\n",
       "\n",
       "    .dataframe thead th {\n",
       "        text-align: right;\n",
       "    }\n",
       "</style>\n",
       "<table border=\"1\" class=\"dataframe\">\n",
       "  <thead>\n",
       "    <tr style=\"text-align: right;\">\n",
       "      <th></th>\n",
       "      <th>fraud</th>\n",
       "      <th>c1</th>\n",
       "      <th>c2</th>\n",
       "      <th>c3</th>\n",
       "      <th>c4</th>\n",
       "      <th>c5</th>\n",
       "      <th>c6</th>\n",
       "      <th>c7</th>\n",
       "      <th>c8</th>\n",
       "      <th>c9</th>\n",
       "      <th>...</th>\n",
       "      <th>c14</th>\n",
       "      <th>c15</th>\n",
       "      <th>c16</th>\n",
       "      <th>c17</th>\n",
       "      <th>c18</th>\n",
       "      <th>c19</th>\n",
       "      <th>c20</th>\n",
       "      <th>c21</th>\n",
       "      <th>c22</th>\n",
       "      <th>c23</th>\n",
       "    </tr>\n",
       "  </thead>\n",
       "  <tbody>\n",
       "    <tr>\n",
       "      <th>0</th>\n",
       "      <td>0</td>\n",
       "      <td>2</td>\n",
       "      <td>1</td>\n",
       "      <td>3</td>\n",
       "      <td>0</td>\n",
       "      <td>2</td>\n",
       "      <td>0</td>\n",
       "      <td>0.367910</td>\n",
       "      <td>2</td>\n",
       "      <td>0</td>\n",
       "      <td>...</td>\n",
       "      <td>-0.296576</td>\n",
       "      <td>-0.273436</td>\n",
       "      <td>1</td>\n",
       "      <td>0</td>\n",
       "      <td>0</td>\n",
       "      <td>-0.382013</td>\n",
       "      <td>0</td>\n",
       "      <td>0</td>\n",
       "      <td>0</td>\n",
       "      <td>-1</td>\n",
       "    </tr>\n",
       "    <tr>\n",
       "      <th>3</th>\n",
       "      <td>0</td>\n",
       "      <td>3</td>\n",
       "      <td>1</td>\n",
       "      <td>3</td>\n",
       "      <td>0</td>\n",
       "      <td>4</td>\n",
       "      <td>0</td>\n",
       "      <td>-3.009365</td>\n",
       "      <td>2</td>\n",
       "      <td>0</td>\n",
       "      <td>...</td>\n",
       "      <td>2.047547</td>\n",
       "      <td>-0.273436</td>\n",
       "      <td>3</td>\n",
       "      <td>1</td>\n",
       "      <td>0</td>\n",
       "      <td>-0.382013</td>\n",
       "      <td>0</td>\n",
       "      <td>0</td>\n",
       "      <td>0</td>\n",
       "      <td>-1</td>\n",
       "    </tr>\n",
       "    <tr>\n",
       "      <th>4</th>\n",
       "      <td>0</td>\n",
       "      <td>1</td>\n",
       "      <td>0</td>\n",
       "      <td>1</td>\n",
       "      <td>0</td>\n",
       "      <td>1</td>\n",
       "      <td>0</td>\n",
       "      <td>0.367910</td>\n",
       "      <td>1</td>\n",
       "      <td>0</td>\n",
       "      <td>...</td>\n",
       "      <td>0.465808</td>\n",
       "      <td>0.121305</td>\n",
       "      <td>1</td>\n",
       "      <td>0</td>\n",
       "      <td>0</td>\n",
       "      <td>0.672864</td>\n",
       "      <td>0</td>\n",
       "      <td>0</td>\n",
       "      <td>0</td>\n",
       "      <td>-1</td>\n",
       "    </tr>\n",
       "    <tr>\n",
       "      <th>6</th>\n",
       "      <td>1</td>\n",
       "      <td>1</td>\n",
       "      <td>1</td>\n",
       "      <td>3</td>\n",
       "      <td>0</td>\n",
       "      <td>4</td>\n",
       "      <td>0</td>\n",
       "      <td>0.367910</td>\n",
       "      <td>3</td>\n",
       "      <td>0</td>\n",
       "      <td>...</td>\n",
       "      <td>-0.548760</td>\n",
       "      <td>0.123874</td>\n",
       "      <td>0</td>\n",
       "      <td>0</td>\n",
       "      <td>0</td>\n",
       "      <td>-0.382013</td>\n",
       "      <td>1</td>\n",
       "      <td>2</td>\n",
       "      <td>1</td>\n",
       "      <td>2</td>\n",
       "    </tr>\n",
       "    <tr>\n",
       "      <th>8</th>\n",
       "      <td>0</td>\n",
       "      <td>2</td>\n",
       "      <td>0</td>\n",
       "      <td>4</td>\n",
       "      <td>0</td>\n",
       "      <td>4</td>\n",
       "      <td>0</td>\n",
       "      <td>-3.009365</td>\n",
       "      <td>1</td>\n",
       "      <td>0</td>\n",
       "      <td>...</td>\n",
       "      <td>-0.548760</td>\n",
       "      <td>-0.273436</td>\n",
       "      <td>1</td>\n",
       "      <td>0</td>\n",
       "      <td>0</td>\n",
       "      <td>-0.382013</td>\n",
       "      <td>1</td>\n",
       "      <td>1</td>\n",
       "      <td>1</td>\n",
       "      <td>2</td>\n",
       "    </tr>\n",
       "    <tr>\n",
       "      <th>...</th>\n",
       "      <td>...</td>\n",
       "      <td>...</td>\n",
       "      <td>...</td>\n",
       "      <td>...</td>\n",
       "      <td>...</td>\n",
       "      <td>...</td>\n",
       "      <td>...</td>\n",
       "      <td>...</td>\n",
       "      <td>...</td>\n",
       "      <td>...</td>\n",
       "      <td>...</td>\n",
       "      <td>...</td>\n",
       "      <td>...</td>\n",
       "      <td>...</td>\n",
       "      <td>...</td>\n",
       "      <td>...</td>\n",
       "      <td>...</td>\n",
       "      <td>...</td>\n",
       "      <td>...</td>\n",
       "      <td>...</td>\n",
       "      <td>...</td>\n",
       "    </tr>\n",
       "    <tr>\n",
       "      <th>15994</th>\n",
       "      <td>0</td>\n",
       "      <td>2</td>\n",
       "      <td>0</td>\n",
       "      <td>3</td>\n",
       "      <td>1</td>\n",
       "      <td>4</td>\n",
       "      <td>0</td>\n",
       "      <td>0.367910</td>\n",
       "      <td>1</td>\n",
       "      <td>0</td>\n",
       "      <td>...</td>\n",
       "      <td>0.743176</td>\n",
       "      <td>-0.273436</td>\n",
       "      <td>0</td>\n",
       "      <td>0</td>\n",
       "      <td>0</td>\n",
       "      <td>-0.382013</td>\n",
       "      <td>0</td>\n",
       "      <td>0</td>\n",
       "      <td>0</td>\n",
       "      <td>-1</td>\n",
       "    </tr>\n",
       "    <tr>\n",
       "      <th>15995</th>\n",
       "      <td>0</td>\n",
       "      <td>2</td>\n",
       "      <td>0</td>\n",
       "      <td>2</td>\n",
       "      <td>0</td>\n",
       "      <td>2</td>\n",
       "      <td>0</td>\n",
       "      <td>0.367910</td>\n",
       "      <td>2</td>\n",
       "      <td>0</td>\n",
       "      <td>...</td>\n",
       "      <td>-0.548760</td>\n",
       "      <td>-0.273436</td>\n",
       "      <td>1</td>\n",
       "      <td>1</td>\n",
       "      <td>0</td>\n",
       "      <td>-0.382013</td>\n",
       "      <td>0</td>\n",
       "      <td>0</td>\n",
       "      <td>0</td>\n",
       "      <td>-1</td>\n",
       "    </tr>\n",
       "    <tr>\n",
       "      <th>15996</th>\n",
       "      <td>0</td>\n",
       "      <td>2</td>\n",
       "      <td>0</td>\n",
       "      <td>2</td>\n",
       "      <td>1</td>\n",
       "      <td>4</td>\n",
       "      <td>0</td>\n",
       "      <td>0.367910</td>\n",
       "      <td>1</td>\n",
       "      <td>1</td>\n",
       "      <td>...</td>\n",
       "      <td>0.648591</td>\n",
       "      <td>-0.273436</td>\n",
       "      <td>2</td>\n",
       "      <td>1</td>\n",
       "      <td>0</td>\n",
       "      <td>-0.382013</td>\n",
       "      <td>0</td>\n",
       "      <td>0</td>\n",
       "      <td>0</td>\n",
       "      <td>-1</td>\n",
       "    </tr>\n",
       "    <tr>\n",
       "      <th>15998</th>\n",
       "      <td>0</td>\n",
       "      <td>2</td>\n",
       "      <td>0</td>\n",
       "      <td>2</td>\n",
       "      <td>0</td>\n",
       "      <td>2</td>\n",
       "      <td>0</td>\n",
       "      <td>0.367910</td>\n",
       "      <td>2</td>\n",
       "      <td>0</td>\n",
       "      <td>...</td>\n",
       "      <td>-0.548760</td>\n",
       "      <td>-0.273436</td>\n",
       "      <td>4</td>\n",
       "      <td>1</td>\n",
       "      <td>0</td>\n",
       "      <td>-0.382013</td>\n",
       "      <td>0</td>\n",
       "      <td>0</td>\n",
       "      <td>0</td>\n",
       "      <td>-1</td>\n",
       "    </tr>\n",
       "    <tr>\n",
       "      <th>15999</th>\n",
       "      <td>0</td>\n",
       "      <td>2</td>\n",
       "      <td>0</td>\n",
       "      <td>2</td>\n",
       "      <td>0</td>\n",
       "      <td>1</td>\n",
       "      <td>0</td>\n",
       "      <td>0.367910</td>\n",
       "      <td>1</td>\n",
       "      <td>0</td>\n",
       "      <td>...</td>\n",
       "      <td>0.209334</td>\n",
       "      <td>0.114562</td>\n",
       "      <td>2</td>\n",
       "      <td>0</td>\n",
       "      <td>0</td>\n",
       "      <td>-0.382013</td>\n",
       "      <td>0</td>\n",
       "      <td>0</td>\n",
       "      <td>0</td>\n",
       "      <td>-1</td>\n",
       "    </tr>\n",
       "  </tbody>\n",
       "</table>\n",
       "<p>12879 rows × 24 columns</p>\n",
       "</div>"
      ],
      "text/plain": [
       "       fraud  c1  c2  c3  c4  c5  c6        c7  c8  c9  ...       c14  \\\n",
       "0          0   2   1   3   0   2   0  0.367910   2   0  ... -0.296576   \n",
       "3          0   3   1   3   0   4   0 -3.009365   2   0  ...  2.047547   \n",
       "4          0   1   0   1   0   1   0  0.367910   1   0  ...  0.465808   \n",
       "6          1   1   1   3   0   4   0  0.367910   3   0  ... -0.548760   \n",
       "8          0   2   0   4   0   4   0 -3.009365   1   0  ... -0.548760   \n",
       "...      ...  ..  ..  ..  ..  ..  ..       ...  ..  ..  ...       ...   \n",
       "15994      0   2   0   3   1   4   0  0.367910   1   0  ...  0.743176   \n",
       "15995      0   2   0   2   0   2   0  0.367910   2   0  ... -0.548760   \n",
       "15996      0   2   0   2   1   4   0  0.367910   1   1  ...  0.648591   \n",
       "15998      0   2   0   2   0   2   0  0.367910   2   0  ... -0.548760   \n",
       "15999      0   2   0   2   0   1   0  0.367910   1   0  ...  0.209334   \n",
       "\n",
       "            c15  c16  c17  c18       c19  c20  c21  c22  c23  \n",
       "0     -0.273436    1    0    0 -0.382013    0    0    0   -1  \n",
       "3     -0.273436    3    1    0 -0.382013    0    0    0   -1  \n",
       "4      0.121305    1    0    0  0.672864    0    0    0   -1  \n",
       "6      0.123874    0    0    0 -0.382013    1    2    1    2  \n",
       "8     -0.273436    1    0    0 -0.382013    1    1    1    2  \n",
       "...         ...  ...  ...  ...       ...  ...  ...  ...  ...  \n",
       "15994 -0.273436    0    0    0 -0.382013    0    0    0   -1  \n",
       "15995 -0.273436    1    1    0 -0.382013    0    0    0   -1  \n",
       "15996 -0.273436    2    1    0 -0.382013    0    0    0   -1  \n",
       "15998 -0.273436    4    1    0 -0.382013    0    0    0   -1  \n",
       "15999  0.114562    2    0    0 -0.382013    0    0    0   -1  \n",
       "\n",
       "[12879 rows x 24 columns]"
      ]
     },
     "execution_count": 31,
     "metadata": {},
     "output_type": "execute_result"
    }
   ],
   "source": [
    "data"
   ]
  },
  {
   "cell_type": "code",
   "execution_count": 32,
   "id": "72566446",
   "metadata": {},
   "outputs": [],
   "source": [
    "# last column is the target\n",
    "# 1 = anomaly, 0 = normal\n",
    "TARGET = \"fraud\"\n",
    "\n",
    "features = data.drop(TARGET, axis=1)\n",
    "target = data[TARGET]\n",
    "\n",
    "x_train, x_test, y_train, y_test = train_test_split(\n",
    "    features, target, test_size=0.2, stratify=target\n",
    ")\n",
    "\n",
    "# use case is novelty detection so use only the normal data\n",
    "# for training\n",
    "train_index = y_train[y_train == 0].index\n",
    "train_data = x_train.loc[train_index]\n",
    "\n",
    "# min max scale the input data\n",
    "min_max_scaler = MinMaxScaler(feature_range=(0, 1))\n",
    "x_train_scaled = min_max_scaler.fit_transform(train_data.copy())\n",
    "x_test_scaled = min_max_scaler.transform(x_test.copy())"
   ]
  },
  {
   "cell_type": "code",
   "execution_count": 33,
   "id": "c299ca83",
   "metadata": {
    "scrolled": true
   },
   "outputs": [
    {
     "name": "stdout",
     "output_type": "stream",
     "text": [
      "Epoch 1/100\n",
      "21/21 [==============================] - 1s 9ms/step - loss: 0.1071 - mse: 0.1819 - val_loss: 0.0872 - val_mse: 0.1493\n",
      "Epoch 2/100\n",
      "21/21 [==============================] - 0s 3ms/step - loss: 0.0663 - mse: 0.1205 - val_loss: 0.0474 - val_mse: 0.0947\n",
      "Epoch 3/100\n",
      "21/21 [==============================] - 0s 3ms/step - loss: 0.0477 - mse: 0.0948 - val_loss: 0.0420 - val_mse: 0.0838\n",
      "Epoch 4/100\n",
      "21/21 [==============================] - 0s 3ms/step - loss: 0.0439 - mse: 0.0878 - val_loss: 0.0392 - val_mse: 0.0800\n",
      "Epoch 5/100\n",
      "21/21 [==============================] - 0s 3ms/step - loss: 0.0414 - mse: 0.0836 - val_loss: 0.0375 - val_mse: 0.0771\n",
      "Epoch 6/100\n",
      "21/21 [==============================] - 0s 3ms/step - loss: 0.0395 - mse: 0.0806 - val_loss: 0.0355 - val_mse: 0.0728\n",
      "Epoch 7/100\n",
      "21/21 [==============================] - 0s 4ms/step - loss: 0.0375 - mse: 0.0765 - val_loss: 0.0330 - val_mse: 0.0681\n",
      "Epoch 8/100\n",
      "21/21 [==============================] - 0s 3ms/step - loss: 0.0354 - mse: 0.0727 - val_loss: 0.0311 - val_mse: 0.0643\n",
      "Epoch 9/100\n",
      "21/21 [==============================] - 0s 3ms/step - loss: 0.0337 - mse: 0.0693 - val_loss: 0.0293 - val_mse: 0.0609\n",
      "Epoch 10/100\n",
      "21/21 [==============================] - 0s 3ms/step - loss: 0.0323 - mse: 0.0667 - val_loss: 0.0281 - val_mse: 0.0586\n",
      "Epoch 11/100\n",
      "21/21 [==============================] - 0s 3ms/step - loss: 0.0311 - mse: 0.0643 - val_loss: 0.0271 - val_mse: 0.0566\n",
      "Epoch 12/100\n",
      "21/21 [==============================] - 0s 3ms/step - loss: 0.0301 - mse: 0.0622 - val_loss: 0.0262 - val_mse: 0.0549\n",
      "Epoch 13/100\n",
      "21/21 [==============================] - 0s 3ms/step - loss: 0.0291 - mse: 0.0604 - val_loss: 0.0255 - val_mse: 0.0533\n",
      "Epoch 14/100\n",
      "21/21 [==============================] - 0s 3ms/step - loss: 0.0284 - mse: 0.0589 - val_loss: 0.0248 - val_mse: 0.0520\n",
      "Epoch 15/100\n",
      "21/21 [==============================] - 0s 3ms/step - loss: 0.0276 - mse: 0.0572 - val_loss: 0.0241 - val_mse: 0.0504\n",
      "Epoch 16/100\n",
      "21/21 [==============================] - 0s 3ms/step - loss: 0.0271 - mse: 0.0562 - val_loss: 0.0232 - val_mse: 0.0487\n",
      "Epoch 17/100\n",
      "21/21 [==============================] - 0s 3ms/step - loss: 0.0265 - mse: 0.0549 - val_loss: 0.0223 - val_mse: 0.0469\n",
      "Epoch 18/100\n",
      "21/21 [==============================] - 0s 3ms/step - loss: 0.0258 - mse: 0.0534 - val_loss: 0.0215 - val_mse: 0.0449\n",
      "Epoch 19/100\n",
      "21/21 [==============================] - 0s 3ms/step - loss: 0.0251 - mse: 0.0520 - val_loss: 0.0209 - val_mse: 0.0437\n",
      "Epoch 20/100\n",
      "21/21 [==============================] - 0s 3ms/step - loss: 0.0246 - mse: 0.0510 - val_loss: 0.0202 - val_mse: 0.0421\n",
      "Epoch 21/100\n",
      "21/21 [==============================] - 0s 3ms/step - loss: 0.0242 - mse: 0.0502 - val_loss: 0.0197 - val_mse: 0.0413\n",
      "Epoch 22/100\n",
      "21/21 [==============================] - 0s 3ms/step - loss: 0.0237 - mse: 0.0491 - val_loss: 0.0193 - val_mse: 0.0404\n",
      "Epoch 23/100\n",
      "21/21 [==============================] - 0s 3ms/step - loss: 0.0235 - mse: 0.0487 - val_loss: 0.0190 - val_mse: 0.0399\n",
      "Epoch 24/100\n",
      "21/21 [==============================] - 0s 3ms/step - loss: 0.0232 - mse: 0.0480 - val_loss: 0.0188 - val_mse: 0.0394\n",
      "Epoch 25/100\n",
      "21/21 [==============================] - 0s 3ms/step - loss: 0.0229 - mse: 0.0475 - val_loss: 0.0186 - val_mse: 0.0388\n",
      "Epoch 26/100\n",
      "21/21 [==============================] - 0s 3ms/step - loss: 0.0227 - mse: 0.0471 - val_loss: 0.0184 - val_mse: 0.0384\n",
      "Epoch 27/100\n",
      "21/21 [==============================] - 0s 3ms/step - loss: 0.0225 - mse: 0.0466 - val_loss: 0.0183 - val_mse: 0.0382\n",
      "Epoch 28/100\n",
      "21/21 [==============================] - 0s 3ms/step - loss: 0.0223 - mse: 0.0462 - val_loss: 0.0181 - val_mse: 0.0379\n",
      "Epoch 29/100\n",
      "21/21 [==============================] - 0s 3ms/step - loss: 0.0222 - mse: 0.0460 - val_loss: 0.0179 - val_mse: 0.0374\n",
      "Epoch 30/100\n",
      "21/21 [==============================] - 0s 3ms/step - loss: 0.0221 - mse: 0.0458 - val_loss: 0.0179 - val_mse: 0.0373\n",
      "Epoch 31/100\n",
      "21/21 [==============================] - 0s 3ms/step - loss: 0.0219 - mse: 0.0454 - val_loss: 0.0177 - val_mse: 0.0371\n",
      "Epoch 32/100\n",
      "21/21 [==============================] - 0s 3ms/step - loss: 0.0218 - mse: 0.0451 - val_loss: 0.0176 - val_mse: 0.0368\n",
      "Epoch 33/100\n",
      "21/21 [==============================] - 0s 3ms/step - loss: 0.0214 - mse: 0.0445 - val_loss: 0.0175 - val_mse: 0.0364\n",
      "Epoch 34/100\n",
      "21/21 [==============================] - 0s 3ms/step - loss: 0.0216 - mse: 0.0447 - val_loss: 0.0174 - val_mse: 0.0363\n",
      "Epoch 35/100\n",
      "21/21 [==============================] - 0s 3ms/step - loss: 0.0214 - mse: 0.0443 - val_loss: 0.0172 - val_mse: 0.0359\n",
      "Epoch 36/100\n",
      "21/21 [==============================] - 0s 3ms/step - loss: 0.0212 - mse: 0.0439 - val_loss: 0.0170 - val_mse: 0.0357\n",
      "Epoch 37/100\n",
      "21/21 [==============================] - 0s 3ms/step - loss: 0.0211 - mse: 0.0438 - val_loss: 0.0169 - val_mse: 0.0354\n",
      "Epoch 38/100\n",
      "21/21 [==============================] - 0s 3ms/step - loss: 0.0210 - mse: 0.0435 - val_loss: 0.0169 - val_mse: 0.0350\n",
      "Epoch 39/100\n",
      "21/21 [==============================] - 0s 3ms/step - loss: 0.0209 - mse: 0.0433 - val_loss: 0.0167 - val_mse: 0.0348\n",
      "Epoch 40/100\n",
      "21/21 [==============================] - 0s 3ms/step - loss: 0.0208 - mse: 0.0430 - val_loss: 0.0166 - val_mse: 0.0345\n",
      "Epoch 41/100\n",
      "21/21 [==============================] - 0s 3ms/step - loss: 0.0206 - mse: 0.0426 - val_loss: 0.0164 - val_mse: 0.0342\n",
      "Epoch 42/100\n",
      "21/21 [==============================] - 0s 3ms/step - loss: 0.0205 - mse: 0.0425 - val_loss: 0.0163 - val_mse: 0.0341\n",
      "Epoch 43/100\n",
      "21/21 [==============================] - 0s 3ms/step - loss: 0.0204 - mse: 0.0421 - val_loss: 0.0162 - val_mse: 0.0339\n",
      "Epoch 44/100\n",
      "21/21 [==============================] - 0s 3ms/step - loss: 0.0202 - mse: 0.0419 - val_loss: 0.0161 - val_mse: 0.0336\n",
      "Epoch 45/100\n",
      "21/21 [==============================] - 0s 3ms/step - loss: 0.0201 - mse: 0.0416 - val_loss: 0.0160 - val_mse: 0.0333\n",
      "Epoch 46/100\n",
      "21/21 [==============================] - 0s 3ms/step - loss: 0.0201 - mse: 0.0415 - val_loss: 0.0159 - val_mse: 0.0332\n",
      "Epoch 47/100\n",
      "21/21 [==============================] - 0s 3ms/step - loss: 0.0199 - mse: 0.0411 - val_loss: 0.0158 - val_mse: 0.0329\n",
      "Epoch 48/100\n",
      "21/21 [==============================] - 0s 3ms/step - loss: 0.0199 - mse: 0.0411 - val_loss: 0.0157 - val_mse: 0.0328\n",
      "Epoch 49/100\n",
      "21/21 [==============================] - 0s 3ms/step - loss: 0.0197 - mse: 0.0409 - val_loss: 0.0155 - val_mse: 0.0325\n",
      "Epoch 50/100\n",
      "21/21 [==============================] - 0s 3ms/step - loss: 0.0197 - mse: 0.0407 - val_loss: 0.0155 - val_mse: 0.0323\n",
      "Epoch 51/100\n",
      "21/21 [==============================] - 0s 3ms/step - loss: 0.0196 - mse: 0.0405 - val_loss: 0.0154 - val_mse: 0.0320\n",
      "Epoch 52/100\n",
      "21/21 [==============================] - 0s 3ms/step - loss: 0.0193 - mse: 0.0399 - val_loss: 0.0153 - val_mse: 0.0318\n",
      "Epoch 53/100\n",
      "21/21 [==============================] - 0s 3ms/step - loss: 0.0195 - mse: 0.0403 - val_loss: 0.0152 - val_mse: 0.0316\n",
      "Epoch 54/100\n",
      "21/21 [==============================] - 0s 3ms/step - loss: 0.0193 - mse: 0.0398 - val_loss: 0.0151 - val_mse: 0.0314\n",
      "Epoch 55/100\n",
      "21/21 [==============================] - 0s 3ms/step - loss: 0.0192 - mse: 0.0398 - val_loss: 0.0151 - val_mse: 0.0314\n",
      "Epoch 56/100\n",
      "21/21 [==============================] - 0s 3ms/step - loss: 0.0192 - mse: 0.0397 - val_loss: 0.0150 - val_mse: 0.0312\n",
      "Epoch 57/100\n",
      "21/21 [==============================] - 0s 4ms/step - loss: 0.0191 - mse: 0.0395 - val_loss: 0.0149 - val_mse: 0.0310\n",
      "Epoch 58/100\n",
      "21/21 [==============================] - 0s 3ms/step - loss: 0.0190 - mse: 0.0392 - val_loss: 0.0149 - val_mse: 0.0309\n",
      "Epoch 59/100\n",
      "21/21 [==============================] - 0s 3ms/step - loss: 0.0190 - mse: 0.0392 - val_loss: 0.0148 - val_mse: 0.0307\n",
      "Epoch 60/100\n",
      "21/21 [==============================] - 0s 3ms/step - loss: 0.0190 - mse: 0.0392 - val_loss: 0.0147 - val_mse: 0.0305\n",
      "Epoch 61/100\n",
      "21/21 [==============================] - 0s 4ms/step - loss: 0.0188 - mse: 0.0388 - val_loss: 0.0147 - val_mse: 0.0304\n",
      "Epoch 62/100\n",
      "21/21 [==============================] - 0s 3ms/step - loss: 0.0186 - mse: 0.0384 - val_loss: 0.0146 - val_mse: 0.0303\n",
      "Epoch 63/100\n"
     ]
    },
    {
     "name": "stdout",
     "output_type": "stream",
     "text": [
      "21/21 [==============================] - 0s 3ms/step - loss: 0.0187 - mse: 0.0387 - val_loss: 0.0145 - val_mse: 0.0302\n",
      "Epoch 64/100\n",
      "21/21 [==============================] - 0s 3ms/step - loss: 0.0185 - mse: 0.0383 - val_loss: 0.0145 - val_mse: 0.0302\n",
      "Epoch 65/100\n",
      "21/21 [==============================] - 0s 3ms/step - loss: 0.0185 - mse: 0.0383 - val_loss: 0.0145 - val_mse: 0.0300\n",
      "Epoch 66/100\n",
      "21/21 [==============================] - 0s 3ms/step - loss: 0.0185 - mse: 0.0383 - val_loss: 0.0144 - val_mse: 0.0300\n",
      "Epoch 67/100\n",
      "21/21 [==============================] - 0s 3ms/step - loss: 0.0184 - mse: 0.0380 - val_loss: 0.0143 - val_mse: 0.0297\n",
      "Epoch 68/100\n",
      "21/21 [==============================] - 0s 3ms/step - loss: 0.0183 - mse: 0.0378 - val_loss: 0.0142 - val_mse: 0.0296\n",
      "Epoch 69/100\n",
      "21/21 [==============================] - 0s 3ms/step - loss: 0.0184 - mse: 0.0380 - val_loss: 0.0142 - val_mse: 0.0296\n",
      "Epoch 70/100\n",
      "21/21 [==============================] - 0s 3ms/step - loss: 0.0182 - mse: 0.0376 - val_loss: 0.0142 - val_mse: 0.0293\n",
      "Epoch 71/100\n",
      "21/21 [==============================] - 0s 3ms/step - loss: 0.0182 - mse: 0.0375 - val_loss: 0.0141 - val_mse: 0.0293\n",
      "Epoch 72/100\n",
      "21/21 [==============================] - 0s 3ms/step - loss: 0.0181 - mse: 0.0375 - val_loss: 0.0141 - val_mse: 0.0292\n",
      "Epoch 73/100\n",
      "21/21 [==============================] - 0s 3ms/step - loss: 0.0181 - mse: 0.0373 - val_loss: 0.0141 - val_mse: 0.0291\n",
      "Epoch 74/100\n",
      "21/21 [==============================] - 0s 3ms/step - loss: 0.0180 - mse: 0.0372 - val_loss: 0.0140 - val_mse: 0.0290\n",
      "Epoch 75/100\n",
      "21/21 [==============================] - 0s 3ms/step - loss: 0.0180 - mse: 0.0372 - val_loss: 0.0140 - val_mse: 0.0290\n",
      "Epoch 76/100\n",
      "21/21 [==============================] - 0s 3ms/step - loss: 0.0180 - mse: 0.0371 - val_loss: 0.0139 - val_mse: 0.0289\n",
      "Epoch 77/100\n",
      "21/21 [==============================] - 0s 3ms/step - loss: 0.0179 - mse: 0.0370 - val_loss: 0.0139 - val_mse: 0.0288\n",
      "Epoch 78/100\n",
      "21/21 [==============================] - 0s 3ms/step - loss: 0.0178 - mse: 0.0368 - val_loss: 0.0139 - val_mse: 0.0287\n",
      "Epoch 79/100\n",
      "21/21 [==============================] - 0s 3ms/step - loss: 0.0178 - mse: 0.0368 - val_loss: 0.0138 - val_mse: 0.0286\n",
      "Epoch 80/100\n",
      "21/21 [==============================] - 0s 3ms/step - loss: 0.0177 - mse: 0.0366 - val_loss: 0.0137 - val_mse: 0.0284\n",
      "Epoch 81/100\n",
      "21/21 [==============================] - 0s 3ms/step - loss: 0.0176 - mse: 0.0365 - val_loss: 0.0137 - val_mse: 0.0285\n",
      "Epoch 82/100\n",
      "21/21 [==============================] - 0s 3ms/step - loss: 0.0178 - mse: 0.0367 - val_loss: 0.0138 - val_mse: 0.0287\n",
      "Epoch 83/100\n",
      "21/21 [==============================] - 0s 3ms/step - loss: 0.0176 - mse: 0.0364 - val_loss: 0.0136 - val_mse: 0.0284\n",
      "Epoch 84/100\n",
      "21/21 [==============================] - 0s 3ms/step - loss: 0.0178 - mse: 0.0368 - val_loss: 0.0136 - val_mse: 0.0282\n",
      "Epoch 85/100\n",
      "21/21 [==============================] - 0s 3ms/step - loss: 0.0176 - mse: 0.0363 - val_loss: 0.0136 - val_mse: 0.0283\n",
      "Epoch 86/100\n",
      "21/21 [==============================] - 0s 3ms/step - loss: 0.0176 - mse: 0.0364 - val_loss: 0.0136 - val_mse: 0.0283\n",
      "Epoch 87/100\n",
      "21/21 [==============================] - 0s 3ms/step - loss: 0.0175 - mse: 0.0362 - val_loss: 0.0135 - val_mse: 0.0280\n",
      "Epoch 88/100\n",
      "21/21 [==============================] - 0s 3ms/step - loss: 0.0175 - mse: 0.0362 - val_loss: 0.0135 - val_mse: 0.0281\n",
      "Epoch 89/100\n",
      "21/21 [==============================] - 0s 3ms/step - loss: 0.0174 - mse: 0.0360 - val_loss: 0.0135 - val_mse: 0.0280\n",
      "Epoch 90/100\n",
      "21/21 [==============================] - 0s 3ms/step - loss: 0.0175 - mse: 0.0361 - val_loss: 0.0135 - val_mse: 0.0280\n",
      "Epoch 91/100\n",
      "21/21 [==============================] - 0s 3ms/step - loss: 0.0174 - mse: 0.0359 - val_loss: 0.0134 - val_mse: 0.0278\n",
      "Epoch 92/100\n",
      "21/21 [==============================] - 0s 3ms/step - loss: 0.0173 - mse: 0.0357 - val_loss: 0.0134 - val_mse: 0.0279\n",
      "Epoch 93/100\n",
      "21/21 [==============================] - 0s 4ms/step - loss: 0.0173 - mse: 0.0358 - val_loss: 0.0133 - val_mse: 0.0276\n",
      "Epoch 94/100\n",
      "21/21 [==============================] - 0s 3ms/step - loss: 0.0173 - mse: 0.0358 - val_loss: 0.0133 - val_mse: 0.0277\n",
      "Epoch 95/100\n",
      "21/21 [==============================] - 0s 3ms/step - loss: 0.0173 - mse: 0.0356 - val_loss: 0.0133 - val_mse: 0.0277\n",
      "Epoch 96/100\n",
      "21/21 [==============================] - 0s 3ms/step - loss: 0.0172 - mse: 0.0354 - val_loss: 0.0133 - val_mse: 0.0276\n",
      "Epoch 97/100\n",
      "21/21 [==============================] - 0s 3ms/step - loss: 0.0171 - mse: 0.0354 - val_loss: 0.0133 - val_mse: 0.0276\n",
      "Epoch 98/100\n",
      "21/21 [==============================] - 0s 3ms/step - loss: 0.0171 - mse: 0.0354 - val_loss: 0.0134 - val_mse: 0.0276\n",
      "Epoch 99/100\n",
      "21/21 [==============================] - 0s 4ms/step - loss: 0.0171 - mse: 0.0353 - val_loss: 0.0133 - val_mse: 0.0275\n",
      "Epoch 100/100\n",
      "21/21 [==============================] - 0s 3ms/step - loss: 0.0170 - mse: 0.0351 - val_loss: 0.0133 - val_mse: 0.0275\n"
     ]
    }
   ],
   "source": [
    "# create a model by subclassing Model class in tensorflow\n",
    "\n",
    "model = AutoEncoder(output_units=x_train_scaled.shape[1])\n",
    "# configurations of model\n",
    "model.compile(loss='msle', metrics=['mse'], optimizer='adam')\n",
    "\n",
    "history = model.fit(\n",
    "    x_train_scaled,\n",
    "    x_train_scaled,\n",
    "    epochs=100,\n",
    "    batch_size=512,\n",
    "    validation_data=(x_test_scaled, x_test_scaled)\n",
    ")"
   ]
  },
  {
   "cell_type": "code",
   "execution_count": 34,
   "id": "4222a530",
   "metadata": {},
   "outputs": [
    {
     "data": {
      "image/png": "[encoded data removed]",
      "text/plain": [
       "<Figure size 432x288 with 1 Axes>"
      ]
     },
     "metadata": {
      "image/png": {
       "height": 266,
       "width": 395
      }
     },
     "output_type": "display_data"
    }
   ],
   "source": [
    "plt.plot(history.history['loss'])\n",
    "plt.plot(history.history['val_loss'])\n",
    "plt.xlabel('Epochs')\n",
    "plt.ylabel('MSLE Loss')\n",
    "plt.legend(['loss', 'val_loss'])\n",
    "plt.show()"
   ]
  },
  {
   "cell_type": "code",
   "execution_count": 35,
   "id": "55d0f47c",
   "metadata": {},
   "outputs": [
    {
     "name": "stdout",
     "output_type": "stream",
     "text": [
      "Threshold: 0.02256911737827394\n"
     ]
    },
    {
     "data": {
      "text/plain": [
       "0.8381211180124224"
      ]
     },
     "execution_count": 35,
     "metadata": {},
     "output_type": "execute_result"
    }
   ],
   "source": [
    "def find_threshold(model, x_train_scaled):\n",
    "  reconstructions = model.predict(x_train_scaled)\n",
    "  # provides losses of individual instances\n",
    "  reconstruction_errors = tf.keras.losses.msle(reconstructions, x_train_scaled)\n",
    "  # threshold for anomaly scores\n",
    "  threshold = np.mean(reconstruction_errors.numpy()) \\\n",
    "      + np.std(reconstruction_errors.numpy())\n",
    "  return threshold\n",
    "\n",
    "def get_predictions(model, x_test_scaled, threshold):\n",
    "  predictions = model.predict(x_test_scaled)\n",
    "  # provides losses of individual instances\n",
    "  errors = tf.keras.losses.msle(predictions, x_test_scaled)\n",
    "  # 0 = anomaly, 1 = normal\n",
    "  anomaly_mask = pd.Series(errors) > threshold\n",
    "  preds = anomaly_mask.map(lambda x: 1.0 if x == True else 0.0)\n",
    "  return preds\n",
    "\n",
    "threshold = find_threshold(model, x_train_scaled)\n",
    "print(f\"Threshold: {threshold}\")\n",
    "# Threshold: 0.01001314025746261\n",
    "predictions = get_predictions(model, x_test_scaled, threshold)\n",
    "accuracy_score(predictions, y_test)"
   ]
  },
  {
   "cell_type": "code",
   "execution_count": 36,
   "id": "57fcd34b",
   "metadata": {
    "scrolled": false
   },
   "outputs": [
    {
     "data": {
      "text/plain": [
       "array([[2157,  412],\n",
       "       [   5,    2]])"
      ]
     },
     "execution_count": 36,
     "metadata": {},
     "output_type": "execute_result"
    }
   ],
   "source": [
    "confusion_matrix(y_test, predictions)"
   ]
  },
  {
   "cell_type": "code",
   "execution_count": 37,
   "id": "98ec22be",
   "metadata": {},
   "outputs": [
    {
     "ename": "ValueError",
     "evalue": "in user code:\n\n    /Users/sunny/anaconda3/lib/python3.8/site-packages/tensorflow/python/keras/engine/training.py:1569 predict_function  *\n        return step_function(self, iterator)\n    <ipython-input-11-10a22babf697>:34 call  *\n        encoded = self.encoder(inputs)\n    /Users/sunny/anaconda3/lib/python3.8/site-packages/tensorflow/python/keras/engine/base_layer.py:1013 __call__  **\n        input_spec.assert_input_compatibility(self.input_spec, inputs, self.name)\n    /Users/sunny/anaconda3/lib/python3.8/site-packages/tensorflow/python/keras/engine/input_spec.py:251 assert_input_compatibility\n        raise ValueError(\n\n    ValueError: Input 0 of layer sequential_4 is incompatible with the layer: expected axis -1 of input shape to have value 23 but received input with shape (None, 25)\n",
     "output_type": "error",
     "traceback": [
      "\u001b[0;31m---------------------------------------------------------------------------\u001b[0m",
      "\u001b[0;31mValueError\u001b[0m                                Traceback (most recent call last)",
      "\u001b[0;32m<ipython-input-37-a6814dc2b13e>\u001b[0m in \u001b[0;36m<module>\u001b[0;34m\u001b[0m\n\u001b[1;32m      3\u001b[0m \u001b[0mpred\u001b[0m \u001b[0;34m=\u001b[0m \u001b[0mmodel\u001b[0m\u001b[0;34m.\u001b[0m\u001b[0mpredict\u001b[0m\u001b[0;34m(\u001b[0m\u001b[0mfeatures\u001b[0m\u001b[0;34m)\u001b[0m\u001b[0;34m\u001b[0m\u001b[0;34m\u001b[0m\u001b[0m\n\u001b[1;32m      4\u001b[0m \u001b[0mscore2\u001b[0m \u001b[0;34m=\u001b[0m \u001b[0mnp\u001b[0m\u001b[0;34m.\u001b[0m\u001b[0msqrt\u001b[0m\u001b[0;34m(\u001b[0m\u001b[0mmetrics\u001b[0m\u001b[0;34m.\u001b[0m\u001b[0mmean_squared_error\u001b[0m\u001b[0;34m(\u001b[0m\u001b[0mpred\u001b[0m\u001b[0;34m,\u001b[0m\u001b[0mfeatures\u001b[0m\u001b[0;34m)\u001b[0m\u001b[0;34m)\u001b[0m\u001b[0;34m\u001b[0m\u001b[0;34m\u001b[0m\u001b[0m\n\u001b[0;32m----> 5\u001b[0;31m \u001b[0mpred\u001b[0m \u001b[0;34m=\u001b[0m \u001b[0mmodel\u001b[0m\u001b[0;34m.\u001b[0m\u001b[0mpredict\u001b[0m\u001b[0;34m(\u001b[0m\u001b[0mx_attack\u001b[0m\u001b[0;34m)\u001b[0m\u001b[0;34m\u001b[0m\u001b[0;34m\u001b[0m\u001b[0m\n\u001b[0m\u001b[1;32m      6\u001b[0m \u001b[0mscore3\u001b[0m \u001b[0;34m=\u001b[0m \u001b[0mnp\u001b[0m\u001b[0;34m.\u001b[0m\u001b[0msqrt\u001b[0m\u001b[0;34m(\u001b[0m\u001b[0mmetrics\u001b[0m\u001b[0;34m.\u001b[0m\u001b[0mmean_squared_error\u001b[0m\u001b[0;34m(\u001b[0m\u001b[0mpred\u001b[0m\u001b[0;34m,\u001b[0m\u001b[0mx_attack\u001b[0m\u001b[0;34m)\u001b[0m\u001b[0;34m)\u001b[0m\u001b[0;34m\u001b[0m\u001b[0;34m\u001b[0m\u001b[0m\n\u001b[1;32m      7\u001b[0m \u001b[0mprint\u001b[0m\u001b[0;34m(\u001b[0m\u001b[0;34mf\"Out of Sample Normal Score (RMSE): {score1}\"\u001b[0m\u001b[0;34m)\u001b[0m\u001b[0;34m\u001b[0m\u001b[0;34m\u001b[0m\u001b[0m\n",
      "\u001b[0;32m~/anaconda3/lib/python3.8/site-packages/tensorflow/python/keras/engine/training.py\u001b[0m in \u001b[0;36mpredict\u001b[0;34m(self, x, batch_size, verbose, steps, callbacks, max_queue_size, workers, use_multiprocessing)\u001b[0m\n\u001b[1;32m   1725\u001b[0m           \u001b[0;32mfor\u001b[0m \u001b[0mstep\u001b[0m \u001b[0;32min\u001b[0m \u001b[0mdata_handler\u001b[0m\u001b[0;34m.\u001b[0m\u001b[0msteps\u001b[0m\u001b[0;34m(\u001b[0m\u001b[0;34m)\u001b[0m\u001b[0;34m:\u001b[0m\u001b[0;34m\u001b[0m\u001b[0;34m\u001b[0m\u001b[0m\n\u001b[1;32m   1726\u001b[0m             \u001b[0mcallbacks\u001b[0m\u001b[0;34m.\u001b[0m\u001b[0mon_predict_batch_begin\u001b[0m\u001b[0;34m(\u001b[0m\u001b[0mstep\u001b[0m\u001b[0;34m)\u001b[0m\u001b[0;34m\u001b[0m\u001b[0;34m\u001b[0m\u001b[0m\n\u001b[0;32m-> 1727\u001b[0;31m             \u001b[0mtmp_batch_outputs\u001b[0m \u001b[0;34m=\u001b[0m \u001b[0mself\u001b[0m\u001b[0;34m.\u001b[0m\u001b[0mpredict_function\u001b[0m\u001b[0;34m(\u001b[0m\u001b[0miterator\u001b[0m\u001b[0;34m)\u001b[0m\u001b[0;34m\u001b[0m\u001b[0;34m\u001b[0m\u001b[0m\n\u001b[0m\u001b[1;32m   1728\u001b[0m             \u001b[0;32mif\u001b[0m \u001b[0mdata_handler\u001b[0m\u001b[0;34m.\u001b[0m\u001b[0mshould_sync\u001b[0m\u001b[0;34m:\u001b[0m\u001b[0;34m\u001b[0m\u001b[0;34m\u001b[0m\u001b[0m\n\u001b[1;32m   1729\u001b[0m               \u001b[0mcontext\u001b[0m\u001b[0;34m.\u001b[0m\u001b[0masync_wait\u001b[0m\u001b[0;34m(\u001b[0m\u001b[0;34m)\u001b[0m\u001b[0;34m\u001b[0m\u001b[0;34m\u001b[0m\u001b[0m\n",
      "\u001b[0;32m~/anaconda3/lib/python3.8/site-packages/tensorflow/python/eager/def_function.py\u001b[0m in \u001b[0;36m__call__\u001b[0;34m(self, *args, **kwds)\u001b[0m\n\u001b[1;32m    887\u001b[0m \u001b[0;34m\u001b[0m\u001b[0m\n\u001b[1;32m    888\u001b[0m       \u001b[0;32mwith\u001b[0m \u001b[0mOptionalXlaContext\u001b[0m\u001b[0;34m(\u001b[0m\u001b[0mself\u001b[0m\u001b[0;34m.\u001b[0m\u001b[0m_jit_compile\u001b[0m\u001b[0;34m)\u001b[0m\u001b[0;34m:\u001b[0m\u001b[0;34m\u001b[0m\u001b[0;34m\u001b[0m\u001b[0m\n\u001b[0;32m--> 889\u001b[0;31m         \u001b[0mresult\u001b[0m \u001b[0;34m=\u001b[0m \u001b[0mself\u001b[0m\u001b[0;34m.\u001b[0m\u001b[0m_call\u001b[0m\u001b[0;34m(\u001b[0m\u001b[0;34m*\u001b[0m\u001b[0margs\u001b[0m\u001b[0;34m,\u001b[0m \u001b[0;34m**\u001b[0m\u001b[0mkwds\u001b[0m\u001b[0;34m)\u001b[0m\u001b[0;34m\u001b[0m\u001b[0;34m\u001b[0m\u001b[0m\n\u001b[0m\u001b[1;32m    890\u001b[0m \u001b[0;34m\u001b[0m\u001b[0m\n\u001b[1;32m    891\u001b[0m       \u001b[0mnew_tracing_count\u001b[0m \u001b[0;34m=\u001b[0m \u001b[0mself\u001b[0m\u001b[0;34m.\u001b[0m\u001b[0mexperimental_get_tracing_count\u001b[0m\u001b[0;34m(\u001b[0m\u001b[0;34m)\u001b[0m\u001b[0;34m\u001b[0m\u001b[0;34m\u001b[0m\u001b[0m\n",
      "\u001b[0;32m~/anaconda3/lib/python3.8/site-packages/tensorflow/python/eager/def_function.py\u001b[0m in \u001b[0;36m_call\u001b[0;34m(self, *args, **kwds)\u001b[0m\n\u001b[1;32m    922\u001b[0m       \u001b[0;31m# In this case we have not created variables on the first call. So we can\u001b[0m\u001b[0;34m\u001b[0m\u001b[0;34m\u001b[0m\u001b[0;34m\u001b[0m\u001b[0m\n\u001b[1;32m    923\u001b[0m       \u001b[0;31m# run the first trace but we should fail if variables are created.\u001b[0m\u001b[0;34m\u001b[0m\u001b[0;34m\u001b[0m\u001b[0;34m\u001b[0m\u001b[0m\n\u001b[0;32m--> 924\u001b[0;31m       \u001b[0mresults\u001b[0m \u001b[0;34m=\u001b[0m \u001b[0mself\u001b[0m\u001b[0;34m.\u001b[0m\u001b[0m_stateful_fn\u001b[0m\u001b[0;34m(\u001b[0m\u001b[0;34m*\u001b[0m\u001b[0margs\u001b[0m\u001b[0;34m,\u001b[0m \u001b[0;34m**\u001b[0m\u001b[0mkwds\u001b[0m\u001b[0;34m)\u001b[0m\u001b[0;34m\u001b[0m\u001b[0;34m\u001b[0m\u001b[0m\n\u001b[0m\u001b[1;32m    925\u001b[0m       \u001b[0;32mif\u001b[0m \u001b[0mself\u001b[0m\u001b[0;34m.\u001b[0m\u001b[0m_created_variables\u001b[0m\u001b[0;34m:\u001b[0m\u001b[0;34m\u001b[0m\u001b[0;34m\u001b[0m\u001b[0m\n\u001b[1;32m    926\u001b[0m         raise ValueError(\"Creating variables on a non-first call to a function\"\n",
      "\u001b[0;32m~/anaconda3/lib/python3.8/site-packages/tensorflow/python/eager/function.py\u001b[0m in \u001b[0;36m__call__\u001b[0;34m(self, *args, **kwargs)\u001b[0m\n\u001b[1;32m   3020\u001b[0m     \u001b[0;32mwith\u001b[0m \u001b[0mself\u001b[0m\u001b[0;34m.\u001b[0m\u001b[0m_lock\u001b[0m\u001b[0;34m:\u001b[0m\u001b[0;34m\u001b[0m\u001b[0;34m\u001b[0m\u001b[0m\n\u001b[1;32m   3021\u001b[0m       (graph_function,\n\u001b[0;32m-> 3022\u001b[0;31m        filtered_flat_args) = self._maybe_define_function(args, kwargs)\n\u001b[0m\u001b[1;32m   3023\u001b[0m     return graph_function._call_flat(\n\u001b[1;32m   3024\u001b[0m         filtered_flat_args, captured_inputs=graph_function.captured_inputs)  # pylint: disable=protected-access\n",
      "\u001b[0;32m~/anaconda3/lib/python3.8/site-packages/tensorflow/python/eager/function.py\u001b[0m in \u001b[0;36m_maybe_define_function\u001b[0;34m(self, args, kwargs)\u001b[0m\n\u001b[1;32m   3438\u001b[0m               \u001b[0mself\u001b[0m\u001b[0;34m.\u001b[0m\u001b[0minput_signature\u001b[0m \u001b[0;32mis\u001b[0m \u001b[0;32mNone\u001b[0m \u001b[0;32mand\u001b[0m\u001b[0;34m\u001b[0m\u001b[0;34m\u001b[0m\u001b[0m\n\u001b[1;32m   3439\u001b[0m               call_context_key in self._function_cache.missed):\n\u001b[0;32m-> 3440\u001b[0;31m             return self._define_function_with_shape_relaxation(\n\u001b[0m\u001b[1;32m   3441\u001b[0m                 args, kwargs, flat_args, filtered_flat_args, cache_key_context)\n\u001b[1;32m   3442\u001b[0m \u001b[0;34m\u001b[0m\u001b[0m\n",
      "\u001b[0;32m~/anaconda3/lib/python3.8/site-packages/tensorflow/python/eager/function.py\u001b[0m in \u001b[0;36m_define_function_with_shape_relaxation\u001b[0;34m(self, args, kwargs, flat_args, filtered_flat_args, cache_key_context)\u001b[0m\n\u001b[1;32m   3360\u001b[0m           expand_composites=True)\n\u001b[1;32m   3361\u001b[0m \u001b[0;34m\u001b[0m\u001b[0m\n\u001b[0;32m-> 3362\u001b[0;31m     graph_function = self._create_graph_function(\n\u001b[0m\u001b[1;32m   3363\u001b[0m         args, kwargs, override_flat_arg_shapes=relaxed_arg_shapes)\n\u001b[1;32m   3364\u001b[0m     \u001b[0mself\u001b[0m\u001b[0;34m.\u001b[0m\u001b[0m_function_cache\u001b[0m\u001b[0;34m.\u001b[0m\u001b[0marg_relaxed\u001b[0m\u001b[0;34m[\u001b[0m\u001b[0mrank_only_cache_key\u001b[0m\u001b[0;34m]\u001b[0m \u001b[0;34m=\u001b[0m \u001b[0mgraph_function\u001b[0m\u001b[0;34m\u001b[0m\u001b[0;34m\u001b[0m\u001b[0m\n",
      "\u001b[0;32m~/anaconda3/lib/python3.8/site-packages/tensorflow/python/eager/function.py\u001b[0m in \u001b[0;36m_create_graph_function\u001b[0;34m(self, args, kwargs, override_flat_arg_shapes)\u001b[0m\n\u001b[1;32m   3277\u001b[0m     \u001b[0marg_names\u001b[0m \u001b[0;34m=\u001b[0m \u001b[0mbase_arg_names\u001b[0m \u001b[0;34m+\u001b[0m \u001b[0mmissing_arg_names\u001b[0m\u001b[0;34m\u001b[0m\u001b[0;34m\u001b[0m\u001b[0m\n\u001b[1;32m   3278\u001b[0m     graph_function = ConcreteFunction(\n\u001b[0;32m-> 3279\u001b[0;31m         func_graph_module.func_graph_from_py_func(\n\u001b[0m\u001b[1;32m   3280\u001b[0m             \u001b[0mself\u001b[0m\u001b[0;34m.\u001b[0m\u001b[0m_name\u001b[0m\u001b[0;34m,\u001b[0m\u001b[0;34m\u001b[0m\u001b[0;34m\u001b[0m\u001b[0m\n\u001b[1;32m   3281\u001b[0m             \u001b[0mself\u001b[0m\u001b[0;34m.\u001b[0m\u001b[0m_python_function\u001b[0m\u001b[0;34m,\u001b[0m\u001b[0;34m\u001b[0m\u001b[0;34m\u001b[0m\u001b[0m\n",
      "\u001b[0;32m~/anaconda3/lib/python3.8/site-packages/tensorflow/python/framework/func_graph.py\u001b[0m in \u001b[0;36mfunc_graph_from_py_func\u001b[0;34m(name, python_func, args, kwargs, signature, func_graph, autograph, autograph_options, add_control_dependencies, arg_names, op_return_value, collections, capture_by_value, override_flat_arg_shapes)\u001b[0m\n\u001b[1;32m    997\u001b[0m         \u001b[0m_\u001b[0m\u001b[0;34m,\u001b[0m \u001b[0moriginal_func\u001b[0m \u001b[0;34m=\u001b[0m \u001b[0mtf_decorator\u001b[0m\u001b[0;34m.\u001b[0m\u001b[0munwrap\u001b[0m\u001b[0;34m(\u001b[0m\u001b[0mpython_func\u001b[0m\u001b[0;34m)\u001b[0m\u001b[0;34m\u001b[0m\u001b[0;34m\u001b[0m\u001b[0m\n\u001b[1;32m    998\u001b[0m \u001b[0;34m\u001b[0m\u001b[0m\n\u001b[0;32m--> 999\u001b[0;31m       \u001b[0mfunc_outputs\u001b[0m \u001b[0;34m=\u001b[0m \u001b[0mpython_func\u001b[0m\u001b[0;34m(\u001b[0m\u001b[0;34m*\u001b[0m\u001b[0mfunc_args\u001b[0m\u001b[0;34m,\u001b[0m \u001b[0;34m**\u001b[0m\u001b[0mfunc_kwargs\u001b[0m\u001b[0;34m)\u001b[0m\u001b[0;34m\u001b[0m\u001b[0;34m\u001b[0m\u001b[0m\n\u001b[0m\u001b[1;32m   1000\u001b[0m \u001b[0;34m\u001b[0m\u001b[0m\n\u001b[1;32m   1001\u001b[0m       \u001b[0;31m# invariant: `func_outputs` contains only Tensors, CompositeTensors,\u001b[0m\u001b[0;34m\u001b[0m\u001b[0;34m\u001b[0m\u001b[0;34m\u001b[0m\u001b[0m\n",
      "\u001b[0;32m~/anaconda3/lib/python3.8/site-packages/tensorflow/python/eager/def_function.py\u001b[0m in \u001b[0;36mwrapped_fn\u001b[0;34m(*args, **kwds)\u001b[0m\n\u001b[1;32m    670\u001b[0m         \u001b[0;31m# the function a weak reference to itself to avoid a reference cycle.\u001b[0m\u001b[0;34m\u001b[0m\u001b[0;34m\u001b[0m\u001b[0;34m\u001b[0m\u001b[0m\n\u001b[1;32m    671\u001b[0m         \u001b[0;32mwith\u001b[0m \u001b[0mOptionalXlaContext\u001b[0m\u001b[0;34m(\u001b[0m\u001b[0mcompile_with_xla\u001b[0m\u001b[0;34m)\u001b[0m\u001b[0;34m:\u001b[0m\u001b[0;34m\u001b[0m\u001b[0;34m\u001b[0m\u001b[0m\n\u001b[0;32m--> 672\u001b[0;31m           \u001b[0mout\u001b[0m \u001b[0;34m=\u001b[0m \u001b[0mweak_wrapped_fn\u001b[0m\u001b[0;34m(\u001b[0m\u001b[0;34m)\u001b[0m\u001b[0;34m.\u001b[0m\u001b[0m__wrapped__\u001b[0m\u001b[0;34m(\u001b[0m\u001b[0;34m*\u001b[0m\u001b[0margs\u001b[0m\u001b[0;34m,\u001b[0m \u001b[0;34m**\u001b[0m\u001b[0mkwds\u001b[0m\u001b[0;34m)\u001b[0m\u001b[0;34m\u001b[0m\u001b[0;34m\u001b[0m\u001b[0m\n\u001b[0m\u001b[1;32m    673\u001b[0m         \u001b[0;32mreturn\u001b[0m \u001b[0mout\u001b[0m\u001b[0;34m\u001b[0m\u001b[0;34m\u001b[0m\u001b[0m\n\u001b[1;32m    674\u001b[0m \u001b[0;34m\u001b[0m\u001b[0m\n",
      "\u001b[0;32m~/anaconda3/lib/python3.8/site-packages/tensorflow/python/framework/func_graph.py\u001b[0m in \u001b[0;36mwrapper\u001b[0;34m(*args, **kwargs)\u001b[0m\n\u001b[1;32m    984\u001b[0m           \u001b[0;32mexcept\u001b[0m \u001b[0mException\u001b[0m \u001b[0;32mas\u001b[0m \u001b[0me\u001b[0m\u001b[0;34m:\u001b[0m  \u001b[0;31m# pylint:disable=broad-except\u001b[0m\u001b[0;34m\u001b[0m\u001b[0;34m\u001b[0m\u001b[0m\n\u001b[1;32m    985\u001b[0m             \u001b[0;32mif\u001b[0m \u001b[0mhasattr\u001b[0m\u001b[0;34m(\u001b[0m\u001b[0me\u001b[0m\u001b[0;34m,\u001b[0m \u001b[0;34m\"ag_error_metadata\"\u001b[0m\u001b[0;34m)\u001b[0m\u001b[0;34m:\u001b[0m\u001b[0;34m\u001b[0m\u001b[0;34m\u001b[0m\u001b[0m\n\u001b[0;32m--> 986\u001b[0;31m               \u001b[0;32mraise\u001b[0m \u001b[0me\u001b[0m\u001b[0;34m.\u001b[0m\u001b[0mag_error_metadata\u001b[0m\u001b[0;34m.\u001b[0m\u001b[0mto_exception\u001b[0m\u001b[0;34m(\u001b[0m\u001b[0me\u001b[0m\u001b[0;34m)\u001b[0m\u001b[0;34m\u001b[0m\u001b[0;34m\u001b[0m\u001b[0m\n\u001b[0m\u001b[1;32m    987\u001b[0m             \u001b[0;32melse\u001b[0m\u001b[0;34m:\u001b[0m\u001b[0;34m\u001b[0m\u001b[0;34m\u001b[0m\u001b[0m\n\u001b[1;32m    988\u001b[0m               \u001b[0;32mraise\u001b[0m\u001b[0;34m\u001b[0m\u001b[0;34m\u001b[0m\u001b[0m\n",
      "\u001b[0;31mValueError\u001b[0m: in user code:\n\n    /Users/sunny/anaconda3/lib/python3.8/site-packages/tensorflow/python/keras/engine/training.py:1569 predict_function  *\n        return step_function(self, iterator)\n    <ipython-input-11-10a22babf697>:34 call  *\n        encoded = self.encoder(inputs)\n    /Users/sunny/anaconda3/lib/python3.8/site-packages/tensorflow/python/keras/engine/base_layer.py:1013 __call__  **\n        input_spec.assert_input_compatibility(self.input_spec, inputs, self.name)\n    /Users/sunny/anaconda3/lib/python3.8/site-packages/tensorflow/python/keras/engine/input_spec.py:251 assert_input_compatibility\n        raise ValueError(\n\n    ValueError: Input 0 of layer sequential_4 is incompatible with the layer: expected axis -1 of input shape to have value 23 but received input with shape (None, 25)\n"
     ]
    }
   ],
   "source": [
    "pred = model.predict(x_test_scaled)\n",
    "score1 = np.sqrt(metrics.mean_squared_error(pred,x_test_scaled))\n",
    "pred = model.predict(features)\n",
    "score2 = np.sqrt(metrics.mean_squared_error(pred,features))\n",
    "pred = model.predict(x_attack)\n",
    "score3 = np.sqrt(metrics.mean_squared_error(pred,x_attack))\n",
    "print(f\"Out of Sample Normal Score (RMSE): {score1}\")\n",
    "print(f\"Insample Normal Score (RMSE): {score2}\")\n",
    "print(f\"Anormal Data (RMSE): {score3}\")"
   ]
  },
  {
   "cell_type": "markdown",
   "id": "dc6706f3",
   "metadata": {},
   "source": [
    "# mm"
   ]
  },
  {
   "cell_type": "code",
   "execution_count": null,
   "id": "bbaff396",
   "metadata": {},
   "outputs": [],
   "source": [
    "\n",
    "from __future__ import absolute_import\n",
    "from __future__ import division\n",
    "from __future__ import print_function\n",
    "\n",
    "import tensorflow as tf\n",
    "from tensorflow import keras\n",
    "from tensorflow.keras.layers import Dense, Activation\n",
    "from sklearn.model_selection import train_test_split"
   ]
  },
  {
   "cell_type": "code",
   "execution_count": null,
   "id": "bec7d3ed",
   "metadata": {},
   "outputs": [],
   "source": [
    "data = pd.read_csv(\"ins_fraud.csv\")"
   ]
  },
  {
   "cell_type": "code",
   "execution_count": null,
   "id": "22e10076",
   "metadata": {},
   "outputs": [],
   "source": [
    "# Encode a numeric column as zscores\n",
    "def encode_numeric_zscore(df, name, mean=None, sd=None):\n",
    "    if mean is None:\n",
    "        mean = df[name].mean()\n",
    "    if sd is None:\n",
    "        sd = df[name].std()\n",
    "    \n",
    "    data[name] = (df[name] - mean) / sd"
   ]
  },
  {
   "cell_type": "code",
   "execution_count": null,
   "id": "ced93a79",
   "metadata": {},
   "outputs": [],
   "source": [
    "val = data[data[\"c24\"] == 1].drop(\"c24\", 1)\n",
    "data = data[data[\"c24\"] == 0].drop(\"c24\", 1)"
   ]
  },
  {
   "cell_type": "code",
   "execution_count": null,
   "id": "e515e6d7",
   "metadata": {},
   "outputs": [],
   "source": [
    "encode_numeric_zscore(data, \"c14\")\n",
    "encode_numeric_zscore(data, \"c15\")\n",
    "encode_numeric_zscore(data, \"c7\")\n",
    "encode_numeric_zscore(data, \"c19\")"
   ]
  },
  {
   "cell_type": "code",
   "execution_count": null,
   "id": "b0fbcc96",
   "metadata": {
    "scrolled": true
   },
   "outputs": [],
   "source": [
    "data"
   ]
  },
  {
   "cell_type": "code",
   "execution_count": null,
   "id": "4d2265bf",
   "metadata": {},
   "outputs": [],
   "source": [
    "normal_mask = data['fraud']== 0\n",
    "attack_mask = data['fraud']== 1"
   ]
  },
  {
   "cell_type": "code",
   "execution_count": null,
   "id": "3950afcc",
   "metadata": {},
   "outputs": [],
   "source": [
    "data.drop('fraud',axis=1,inplace=True)\n",
    "\n",
    "\n",
    "df_normal = data[normal_mask]\n",
    "df_attack = data[attack_mask]\n",
    "\n",
    "print(f\"Normal count: {len(df_normal)}\")\n",
    "print(f\"Attack count: {len(df_attack)}\")"
   ]
  },
  {
   "cell_type": "code",
   "execution_count": null,
   "id": "ad51e7ef",
   "metadata": {},
   "outputs": [],
   "source": [
    "x_normal = df_normal.values\n",
    "x_attack = df_attack.values"
   ]
  },
  {
   "cell_type": "code",
   "execution_count": null,
   "id": "1c3cd88a",
   "metadata": {},
   "outputs": [],
   "source": [
    "x_normal = df_normal.values\n",
    "x_attack = df_attack.values\n",
    "\n",
    "from sklearn.model_selection import train_test_split \n",
    "\n",
    "X_train, X_test = train_test_split(x_normal, test_size=0.2, random_state=13)"
   ]
  },
  {
   "cell_type": "code",
   "execution_count": null,
   "id": "16c7808a",
   "metadata": {
    "scrolled": true
   },
   "outputs": [],
   "source": [
    "len(X_train), len(X_test)"
   ]
  },
  {
   "cell_type": "code",
   "execution_count": null,
   "id": "e1a32a18",
   "metadata": {},
   "outputs": [],
   "source": [
    "def AE():\n",
    "    ## Encoder 구간\n",
    "    model = tf.keras.Sequential()\n",
    "    model.add(Dense(256, input_shape=(56*56,)))  # 입력계층\n",
    "    model.add(Activation('relu'))      \n",
    "\n",
    "    model.add(Dense(128))                       # 은닉계층\n",
    "    model.add(Activation('relu'))\n",
    "\n",
    "    ## Decoder 구간\n",
    "    model.add(Dense(128))                        # 은닉계층\n",
    "    model.add(Activation('relu'))\n",
    "\n",
    "    model.add(Dense(56*56))                # 출력계층\n",
    "    model.add(Activation('linear'))\n",
    "\n",
    "    return model"
   ]
  },
  {
   "cell_type": "code",
   "execution_count": null,
   "id": "322da32c",
   "metadata": {},
   "outputs": [],
   "source": [
    "# model 함수 실행\n",
    "model = AE()\n",
    "model.summary()"
   ]
  },
  {
   "cell_type": "code",
   "execution_count": null,
   "id": "c47d8631",
   "metadata": {},
   "outputs": [],
   "source": [
    "# Training \n",
    "# 모델 구조 확정하고 컴파일 진행\n",
    "model.compile(loss='MSE',                   # MSE : mean square error\n",
    "              optimizer='adam',                 \n",
    "              metrics=[ 'mae' ])            # MAE : mean absolute  error  \n",
    "\n",
    "# model.fit을 써서 학습. 학습과정을 history에 저장\n",
    "history = model.fit(X_train, X_train,\n",
    "                    batch_size=256,\n",
    "                    epochs=20,\n",
    "                    validation_data=(X_test, X_test),\n",
    "                    shuffle=True)"
   ]
  },
  {
   "cell_type": "code",
   "execution_count": null,
   "id": "62e78a9d",
   "metadata": {},
   "outputs": [],
   "source": [
    "# Normal data (data_3000)\n",
    "Nom_data = np.concatenate((X_test, X_train), axis = 0)\n",
    "Nom_pred = model.predict(Nom_data) # AE 이미지 결과값 \n",
    "Nom_pred_mse = np.mean(np.power(Nom_data - Nom_pred, 2), axis=1) # input - output 이미지간의 MSE 구하기\n",
    "\n",
    "# 기초통계학 평균, 분산, 최소값, 최대값, 25%, 50%, 75% 분포 구하는 방법\n",
    "print('Normal Metric')\n",
    "Nom_pred_mse_df = pd.DataFrame({'Normal_mse':Nom_pred_mse})\n",
    "print(Nom_pred_mse_df.describe())\n",
    "\n",
    "print('\\n')\n",
    "\n",
    "# Abnormal data (data_1000)\n",
    "ANom_pred = model.predict(x_attack) # AE 이미지 결과값 \n",
    "ANom_pred_mse = np.mean(np.power(x_attack - ANom_pred, 2), axis=1) # input - output 이미지간의 MSE 구하기\n",
    "\n",
    "# 기초통계학 평균, 분산, 최소값, 최대값, 25%, 50%, 75% 분포 구하는 방법\n",
    "print('Anomaly Metric')\n",
    "ANom_pred_mse_df = pd.DataFrame({'Anomaly_mse':ANom_pred_mse})\n",
    "print(ANom_pred_mse_df.describe())\n",
    "\n",
    "# 히스토그램 그리기\n",
    "print('\\n')\n",
    "plt.figure()\n",
    "plt.title('MSE Histogram') # 그림 이름 설정 \n",
    "plt.hist(Nom_pred_mse, bins=10, facecolor='blue', histtype='step') #히스토그램 함수, bins:데이터를 범주화 하는 기준\n",
    "plt.hist(ANom_pred_mse, bins=10, facecolor='red', histtype='step') #히스토그램 함수, bins:데이터를 범주화 하는 기준\n",
    "plt.show()"
   ]
  },
  {
   "cell_type": "code",
   "execution_count": null,
   "id": "0bb0681f",
   "metadata": {},
   "outputs": [],
   "source": [
    "test_data = np.concatenate((X_test, x_attack), axis = 0)\n",
    "y_true = np.concatenate((y_test, x_attack), axis = 0)\n",
    "\n",
    "print(np.shape(test_data))\n",
    "print(np.shape(y_true))"
   ]
  },
  {
   "cell_type": "code",
   "execution_count": null,
   "id": "df24a15e",
   "metadata": {},
   "outputs": [],
   "source": [
    "# 각 이미지별 loss를 구하여 설정한 임계값으로 조건을 제시한다.\n",
    "test_data_pred = model.predict(test_data)\n",
    "all_cost = np.mean(np.power(test_data - test_data_pred, 2), axis=1)\n",
    "\n",
    "threshold = 0.045  # 설정한 임계값 (선택 가능)\n",
    "\n",
    "y_pred = [] #y_pred list 초기화\n",
    "for i in range(len(all_cost)):\n",
    "    if all_cost[i] > threshold :\n",
    "        y_pred.insert(i, 0) #임계점보다 높으면 positive(이상)\n",
    "    else:\n",
    "        y_pred.insert(i, 1) #임계점보다 낮으면 negative(정상)\n",
    "        \n",
    "print(y_pred[0:100]) #프린트로 값을 확인할 수 있다 (확인용으로 100개만).\n",
    "print(np.shape(y_pred))"
   ]
  },
  {
   "cell_type": "code",
   "execution_count": null,
   "id": "955a6d3f",
   "metadata": {},
   "outputs": [],
   "source": [
    "from sklearn.metrics import confusion_matrix #confusion_matrix 라이브러리 임포트\n",
    "\n",
    "con_mat = confusion_matrix(y_true, y_pred) #confusion_matrix 함수 실행\n",
    "\n",
    "# Print the confusion matrix as text.\n",
    "TP = con_mat[0][0] #둘다 Anomal, 0이며 예측값이 positive(이상값)이다.\n",
    "FN = con_mat[0][1] #실제값과 예측값이 달랐으며, 예측값이 negative(정상값)이다.\n",
    "FP = con_mat[1][0] #실제값과 예측값이 달랐으며, 예측값이 postive(이상값)이다.\n",
    "TN = con_mat[1][1] #둘다 nomal, 1이며 예측값이 negative(정상값)이다.\n",
    "print('\\n',\n",
    "      'TP :', TP, '\\n', \n",
    "      'FN :', FN, '\\n', \n",
    "      'FP :', FP, '\\n', \n",
    "      'TN :', TN, '\\n')\n",
    "\n",
    "Accuracy = (TP+TN)/(TP+FN+FP+TN) #정분류율 : 전체관측치 중 실제값과 예측치가 일치하는 정도\n",
    "print('Accuracy(정분류율=(TP+TN)/(TP+FN+FP+TN)):', '{:.2%}'.format(Accuracy))\n",
    "\n",
    "Error_rate = (FP+FN)/(TP+FN+FP+TN) #오분류율 : 전체 관측치 중 실제값과 예측치가 다른 정보 (1-accuracy)\n",
    "print('Error_rate(오분류율=(FP+FN)/(TP+FN+FP+TN):', '{:.2%}'.format(Error_rate))\n",
    "\n",
    "Precirion = TP/(TP+FP) #정확도 : TRUE로 예측한 관측치 중 실제값이 TRUE인 정도\n",
    "print('Precirion(정확도=TP/(TP+FP)):', '{:.2%}'.format(Precirion))\n",
    "\n",
    "Recall = TP/(TP+FN) #재현율 : 실제값이 TRUE인 관측치 중 예측치가 적중한 정도, 모형의 완정성을 평가함, 민감도\n",
    "print('Recall(재현율,민감도=TP/(TP+FN)):', '{:.2%}'.format(Recall))\n",
    "\n",
    "print('\\n')\n",
    "# Confusion Matrix 표 그리기\n",
    "plt.imshow(con_mat, interpolation='nearest', cmap=plt.cm.Blues)\n",
    "\n",
    "# Plot 구성하기\n",
    "plt.title('Confusion Matrix', fontsize=20) # Plot 이름\n",
    "plt.tight_layout()\n",
    "plt.colorbar()\n",
    "label=[\"Anomal(0)\", \"Nomal(1)\"] # 라벨값\n",
    "tick_marks = np.arange(len(label)) \n",
    "plt.xticks(tick_marks, label)\n",
    "plt.yticks(tick_marks, label)\n",
    "plt.xlabel('Predicted', fontsize=15)\n",
    "plt.ylabel('True', fontsize=15)\n",
    "\n",
    "# 표 안에 숫자 기입하는 방법\n",
    "name = [['TP','FN'], ['FP', 'TN']]\n",
    "thresh = con_mat.max() / 2.\n",
    "for i in range(2):\n",
    "     for j in range(2):\n",
    "        plt.text(j, i, str(name[i][j])+\" = \"+str(con_mat[i, j]),\n",
    "                 horizontalalignment=\"center\",\n",
    "                 color=\"white\" if con_mat[i, j] > thresh else \"black\",\n",
    "                 fontsize=16)\n",
    "    \n",
    "plt.show()"
   ]
  },
  {
   "cell_type": "markdown",
   "id": "4b1d09f3",
   "metadata": {},
   "source": [
    "# CLUSTERING 해보자 "
   ]
  },
  {
   "cell_type": "code",
   "execution_count": null,
   "id": "95bbf5bd",
   "metadata": {},
   "outputs": [],
   "source": [
    "data = pd.read_csv(\"ins_fraud.csv\")"
   ]
  },
  {
   "cell_type": "code",
   "execution_count": null,
   "id": "25a3dd02",
   "metadata": {},
   "outputs": [],
   "source": [
    "# Encode a numeric column as zscores\n",
    "def encode_numeric_zscore(df, name, mean=None, sd=None):\n",
    "    if mean is None:\n",
    "        mean = df[name].mean()\n",
    "    if sd is None:\n",
    "        sd = df[name].std()\n",
    "    \n",
    "    data[name] = (df[name] - mean) / sd"
   ]
  },
  {
   "cell_type": "code",
   "execution_count": null,
   "id": "e0ba8a87",
   "metadata": {},
   "outputs": [],
   "source": [
    "val = data[data[\"c24\"] == 1].drop(\"c24\", 1)\n",
    "data = data[data[\"c24\"] == 0].drop(\"c24\", 1)"
   ]
  },
  {
   "cell_type": "code",
   "execution_count": null,
   "id": "439681f2",
   "metadata": {},
   "outputs": [],
   "source": [
    "encode_numeric_zscore(data, \"c14\")\n",
    "encode_numeric_zscore(data, \"c15\")\n",
    "encode_numeric_zscore(data, \"c7\")\n",
    "encode_numeric_zscore(data, \"c19\")"
   ]
  },
  {
   "cell_type": "code",
   "execution_count": null,
   "id": "c4a09506",
   "metadata": {
    "scrolled": false
   },
   "outputs": [],
   "source": [
    "data"
   ]
  },
  {
   "cell_type": "code",
   "execution_count": null,
   "id": "88ee6a32",
   "metadata": {},
   "outputs": [],
   "source": [
    "y = data[\"fraud\"]"
   ]
  },
  {
   "cell_type": "code",
   "execution_count": null,
   "id": "50d76719",
   "metadata": {},
   "outputs": [],
   "source": [
    "normal_mask = data['fraud']== 0\n",
    "attack_mask = data['fraud']== 1"
   ]
  },
  {
   "cell_type": "code",
   "execution_count": null,
   "id": "ad83a8df",
   "metadata": {},
   "outputs": [],
   "source": [
    "data.drop('fraud',axis=1,inplace=True)\n",
    "\n",
    "\n",
    "df_normal = data[normal_mask]\n",
    "df_attack = data[attack_mask]\n",
    "\n",
    "print(f\"Normal count: {len(df_normal)}\")\n",
    "print(f\"Attack count: {len(df_attack)}\")"
   ]
  },
  {
   "cell_type": "code",
   "execution_count": null,
   "id": "4b36f404",
   "metadata": {},
   "outputs": [],
   "source": [
    "x_normal = df_normal.values\n",
    "x_attack = df_attack.values"
   ]
  },
  {
   "cell_type": "code",
   "execution_count": null,
   "id": "0af9fe55",
   "metadata": {},
   "outputs": [],
   "source": [
    "X_train, X_test = train_test_split(X_normal, test_size = 0.2, random_state = 13)\n",
    "y_train, y_test  = train_test_split(y, test_size = 0.2, random_state = 13)"
   ]
  },
  {
   "cell_type": "code",
   "execution_count": null,
   "id": "0c182631",
   "metadata": {
    "scrolled": true
   },
   "outputs": [],
   "source": [
    "model = Sequential()\n",
    "model.add(Dense(25, input_dim=x_normal.shape[1], activation='relu'))\n",
    "model.add(Dense(3, activation='relu')) # size to compress to\n",
    "\n",
    "model.add(Dense(25, activation='relu'))\n",
    "model.add(Dense(x_normal.shape[1])) # Multiple output neurons\n",
    "\n",
    "model.compile(optimizer=tf.optimizers.Adam(), loss='mse')\n",
    "model.fit(X_train, X_train, epochs=100, batch_size=256)"
   ]
  },
  {
   "cell_type": "code",
   "execution_count": null,
   "id": "c04e6101",
   "metadata": {},
   "outputs": [],
   "source": [
    "# 잠재 변수 벡터 확보 \n",
    "latent_vector_model = tf.keras.Model(inputs=model.input, outputs=model.layers[3].output)\n",
    "latent_vector = latent_vector_model.predict(X_train)\n",
    "print(latent_vector.shape)\n",
    "print(latent_vector[0])"
   ]
  },
  {
   "cell_type": "code",
   "execution_count": null,
   "id": "81df0029",
   "metadata": {},
   "outputs": [],
   "source": [
    "%%time \n",
    "from sklearn.cluster import KMeans\n",
    "\n",
    "kmeans = KMeans(n_clusters=10, n_init=10, random_state=13)\n",
    "kmeans.fit(latent_vector)"
   ]
  },
  {
   "cell_type": "code",
   "execution_count": null,
   "id": "5718d8dc",
   "metadata": {},
   "outputs": [],
   "source": [
    "# 군집 결과 \n",
    "print(kmeans.labels_)\n",
    "print(kmeans.cluster_centers_.shape)\n",
    "print(kmeans.cluster_centers_[0])"
   ]
  },
  {
   "cell_type": "code",
   "execution_count": null,
   "id": "7345b43f",
   "metadata": {},
   "outputs": [],
   "source": [
    "%%time\n",
    "from sklearn.manifold import TSNE\n",
    "\n",
    "tsne = TSNE(n_components=2, learning_rate=100, perplexity=15, random_state=13)\n",
    "tsne_vector = tsne.fit_transform(latent_vector[:621])\n",
    "\n",
    "cmap = plt.get_cmap('rainbow', 2)\n",
    "fig = plt.scatter(tsne_vector[:,0], tsne_vector[:,1], marker='.', c=y_train[:621], cmap=cmap)\n",
    "cb = plt.colorbar(fig, ticks=range(10))\n",
    "n_clusters = 10\n",
    "tick_locs = (np.arange(n_clusters) + 0.5) * (n_clusters-1) / n_clusters\n",
    "cb.set_ticks(tick_locs)\n",
    "cb.set_ticklabels(range(10))\n",
    "\n",
    "plt.show()"
   ]
  },
  {
   "cell_type": "code",
   "execution_count": null,
   "id": "cdafd0de",
   "metadata": {},
   "outputs": [],
   "source": [
    "# 최근접이웃의 숫자 perplexities tuning \n",
    "perplexities = [5, 10, 15, 25, 50, 100]\n",
    "plt.figure(figsize=(8, 12))\n",
    "\n",
    "for c in range(6):\n",
    "    tsne = TSNE(n_components=2, learning_rate=100, perplexity=perplexities[c], random_state=0)\n",
    "    tsne_vector = tsne.fit_transform(latent_vector[:621])\n",
    "    \n",
    "    plt.subplot(3, 2, c+1)\n",
    "    plt.scatter(tsne_vector[:,0], tsne_vector[:,1], marker='.', c=y_train[:621], cmap='rainbow')\n",
    "    plt.title('perplexity: {0}'.format(perplexities[c]))\n",
    "plt.show()"
   ]
  },
  {
   "cell_type": "code",
   "execution_count": null,
   "id": "a1a9458a",
   "metadata": {},
   "outputs": [],
   "source": [
    "# 원 데아터가 있으면 clustering이라는 컬럼을 만들어서 번호를 붙여주고 fraud데이터ㄴ에 어떤 번호가 붙어있는지 확인 \n",
    "# 예제 찾아보거나 노력... \n"
   ]
  },
  {
   "cell_type": "markdown",
   "id": "5e82af01",
   "metadata": {},
   "source": [
    "# SMOTE를 쓴 다음 AUTOENCODER "
   ]
  },
  {
   "cell_type": "code",
   "execution_count": null,
   "id": "7cb67c74",
   "metadata": {},
   "outputs": [],
   "source": [
    "data = pd.read_csv(\"ins_fraud.csv\")"
   ]
  },
  {
   "cell_type": "code",
   "execution_count": null,
   "id": "79e23974",
   "metadata": {},
   "outputs": [],
   "source": [
    "val = data[data[\"c24\"] == 1].drop(\"c24\", 1)\n",
    "data = data[data[\"c24\"] == 0].drop(\"c24\", 1)"
   ]
  },
  {
   "cell_type": "code",
   "execution_count": null,
   "id": "eeb4488d",
   "metadata": {},
   "outputs": [],
   "source": [
    "data"
   ]
  },
  {
   "cell_type": "code",
   "execution_count": null,
   "id": "12a0c086",
   "metadata": {
    "scrolled": false
   },
   "outputs": [],
   "source": [
    "X = data.drop(\"fraud\", 1)\n",
    "y = data[[\"fraud\"]]"
   ]
  },
  {
   "cell_type": "code",
   "execution_count": null,
   "id": "adf612a7",
   "metadata": {},
   "outputs": [],
   "source": [
    "from imblearn.combine import SMOTEENN \n",
    "\n",
    "sme = SMOTEENN(random_state=42)\n",
    "X_sme, y_sme  = sme.fit_resample(X, y)"
   ]
  },
  {
   "cell_type": "code",
   "execution_count": null,
   "id": "d8500070",
   "metadata": {
    "scrolled": true
   },
   "outputs": [],
   "source": [
    "len(X_sme), len(y_sme)"
   ]
  },
  {
   "cell_type": "code",
   "execution_count": null,
   "id": "d4ee254c",
   "metadata": {},
   "outputs": [],
   "source": [
    "data = pd.concat([X_sme, y_sme], 1)"
   ]
  },
  {
   "cell_type": "code",
   "execution_count": null,
   "id": "25a3dd02",
   "metadata": {},
   "outputs": [],
   "source": [
    "# Encode a numeric column as zscores\n",
    "def encode_numeric_zscore(df, name, mean=None, sd=None):\n",
    "    if mean is None:\n",
    "        mean = df[name].mean()\n",
    "    if sd is None:\n",
    "        sd = df[name].std()\n",
    "    \n",
    "    data[name] = (df[name] - mean) / sd"
   ]
  },
  {
   "cell_type": "code",
   "execution_count": null,
   "id": "439681f2",
   "metadata": {},
   "outputs": [],
   "source": [
    "encode_numeric_zscore(data, \"c14\")\n",
    "encode_numeric_zscore(data, \"c15\")\n",
    "encode_numeric_zscore(data, \"c7\")\n",
    "encode_numeric_zscore(data, \"c19\")"
   ]
  },
  {
   "cell_type": "code",
   "execution_count": null,
   "id": "c6e908b7",
   "metadata": {},
   "outputs": [],
   "source": [
    "data"
   ]
  },
  {
   "cell_type": "code",
   "execution_count": null,
   "id": "dd105f49",
   "metadata": {},
   "outputs": [],
   "source": [
    "normal_mask = data['fraud']== 0\n",
    "attack_mask = data['fraud']== 1\n",
    "\n",
    "data.drop('fraud',axis=1,inplace=True)\n",
    "\n",
    "\n",
    "df_normal = data[normal_mask]\n",
    "df_attack = data[attack_mask]\n",
    "\n",
    "print(f\"Normal count: {len(df_normal)}\")\n",
    "print(f\"Attack count: {len(df_attack)}\")"
   ]
  },
  {
   "cell_type": "code",
   "execution_count": null,
   "id": "40cef460",
   "metadata": {},
   "outputs": [],
   "source": [
    "# Convert DataFrame into Numpy arrays, keras need numpy\n",
    "x_normal = df_normal.values\n",
    "x_attack = df_attack.values"
   ]
  },
  {
   "cell_type": "code",
   "execution_count": null,
   "id": "9aff749c",
   "metadata": {},
   "outputs": [],
   "source": [
    "df_normal = x_normal\n",
    "df_attack = x_attack\n",
    "\n",
    "print(f\"Normal count: {len(df_normal)}\")\n",
    "print(f\"Attack count: {len(df_attack)}\")"
   ]
  },
  {
   "cell_type": "code",
   "execution_count": null,
   "id": "decb8a18",
   "metadata": {},
   "outputs": [],
   "source": [
    "from sklearn.model_selection import train_test_split \n",
    "\n",
    "x_normal_train, x_normal_test = train_test_split(x_normal, test_size=0.2, random_state=13)"
   ]
  },
  {
   "cell_type": "code",
   "execution_count": null,
   "id": "6f742d34",
   "metadata": {},
   "outputs": [],
   "source": [
    "print(f\"Normal train count: {len(x_normal_train)}\")\n",
    "print(f\"Normal test count: {len(x_normal_test)}\")"
   ]
  },
  {
   "cell_type": "code",
   "execution_count": null,
   "id": "52b2b742",
   "metadata": {},
   "outputs": [],
   "source": [
    "model = Sequential()\n",
    "model.add(Dense(25, input_dim=x_normal.shape[1], activation='relu'))\n",
    "model.add(Dense(3, activation='relu')) # size to compress to\n",
    "\n",
    "model.add(Dense(25, activation='relu'))\n",
    "model.add(Dense(x_normal.shape[1])) # Multiple output neurons\n",
    "\n",
    "model.compile(loss='mean_squared_error', optimizer='adam')\n",
    "model.fit(x_normal_train,x_normal_train,verbose=1,epochs=100)"
   ]
  },
  {
   "cell_type": "code",
   "execution_count": null,
   "id": "b8d5860d",
   "metadata": {
    "scrolled": true
   },
   "outputs": [],
   "source": [
    "class AutoEncoder(Model):\n",
    "  \"\"\"\n",
    "  Parameters\n",
    "  ----------\n",
    "  output_units: int\n",
    "    Number of output units\n",
    "    ㄴㅇㄱ \n",
    "    ㄴㅇㄱ \n",
    "    ㄴㅇㄱ\n",
    "    ㄴㅇㄱ\n",
    "  \n",
    "  code_size: int\n",
    "    Number of units in bottle neck\n",
    "  \"\"\"\n",
    "\n",
    "  def __init__(self, output_units, code_size=8):\n",
    "    super().__init__()\n",
    "    self.encoder = Sequential([\n",
    "      Dense(64, activation='relu'),\n",
    "      Dropout(0.1),\n",
    "      Dense(32, activation='relu'),\n",
    "      Dropout(0.1),\n",
    "      Dense(16, activation='relu'),\n",
    "      Dropout(0.1),\n",
    "      Dense(code_size, activation='relu')\n",
    "    ])\n",
    "    self.decoder = Sequential([\n",
    "      Dense(16, activation='relu'),\n",
    "      Dropout(0.1),\n",
    "      Dense(32, activation='relu'),\n",
    "      Dropout(0.1),\n",
    "      Dense(64, activation='relu'),\n",
    "      Dropout(0.1),\n",
    "      Dense(output_units, activation='sigmoid')\n",
    "    ])\n",
    "  \n",
    "  def call(self, inputs):\n",
    "    encoded = self.encoder(inputs)\n",
    "    decoded = self.decoder(encoded)\n",
    "    return decoded\n"
   ]
  },
  {
   "cell_type": "code",
   "execution_count": null,
   "id": "66ef1d74",
   "metadata": {
    "scrolled": true
   },
   "outputs": [],
   "source": [
    "model = AutoEncoder(output_units=x_normal_train.shape[1])\n",
    "# configurations of model\n",
    "model.compile(loss='msle', metrics=['mse'], optimizer='adam')\n",
    "\n",
    "history = model.fit(\n",
    "    x_normal_train,\n",
    "    x_normal_train,\n",
    "    epochs=20,\n",
    "    batch_size=512,\n",
    "    validation_data=(x_attack, x_attack)\n",
    ")"
   ]
  },
  {
   "cell_type": "code",
   "execution_count": null,
   "id": "74829f0b",
   "metadata": {},
   "outputs": [],
   "source": [
    "plt.plot(history.history['loss'])\n",
    "plt.plot(history.history['val_loss'])\n",
    "plt.xlabel('Epochs')\n",
    "plt.ylabel('MSLE Loss')\n",
    "plt.legend(['loss', 'val_loss'])\n",
    "plt.show()"
   ]
  },
  {
   "cell_type": "code",
   "execution_count": null,
   "id": "e41fc087",
   "metadata": {
    "scrolled": true
   },
   "outputs": [],
   "source": [
    "pred = model.predict(x_normal_test)\n",
    "score1 = np.sqrt(metrics.mean_squared_error(pred,x_normal_test))\n",
    "pred = model.predict(x_normal)\n",
    "score2 = np.sqrt(metrics.mean_squared_error(pred,x_normal))\n",
    "pred = model.predict(x_attack)\n",
    "score3 = np.sqrt(metrics.mean_squared_error(pred,x_attack))\n",
    "print(f\"Out of Sample Normal Score (RMSE): {score1}\")\n",
    "print(f\"Insample Normal Score (RMSE): {score2}\")\n",
    "print(f\"Anormal Data (RMSE): {score3}\")"
   ]
  },
  {
   "cell_type": "code",
   "execution_count": null,
   "id": "8ec93a1d",
   "metadata": {},
   "outputs": [],
   "source": []
  },
  {
   "cell_type": "code",
   "execution_count": null,
   "id": "8bff0140",
   "metadata": {},
   "outputs": [],
   "source": []
  },
  {
   "cell_type": "code",
   "execution_count": null,
   "id": "00d142d8",
   "metadata": {},
   "outputs": [],
   "source": []
  },
  {
   "cell_type": "code",
   "execution_count": null,
   "id": "d6edb35c",
   "metadata": {},
   "outputs": [],
   "source": []
  },
  {
   "cell_type": "code",
   "execution_count": null,
   "id": "ef33f41f",
   "metadata": {},
   "outputs": [],
   "source": []
  },
  {
   "cell_type": "code",
   "execution_count": null,
   "id": "7ae4955f",
   "metadata": {},
   "outputs": [],
   "source": []
  },
  {
   "cell_type": "code",
   "execution_count": null,
   "id": "512c0e35",
   "metadata": {},
   "outputs": [],
   "source": []
  }
 ],
 "metadata": {
  "kernelspec": {
   "display_name": "Python 3",
   "language": "python",
   "name": "python3"
  },
  "language_info": {
   "codemirror_mode": {
    "name": "ipython",
    "version": 3
   },
   "file_extension": ".py",
   "mimetype": "text/x-python",
   "name": "python",
   "nbconvert_exporter": "python",
   "pygments_lexer": "ipython3",
   "version": "3.8.8"
  }
 },
 "nbformat": 4,
 "nbformat_minor": 5
}

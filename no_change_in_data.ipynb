{
 "cells": [
  {
   "cell_type": "code",
   "execution_count": 1,
   "id": "f13007e5",
   "metadata": {},
   "outputs": [],
   "source": [
    "# random forest classifier \n",
    "# hyper parameter \n",
    "# grid search cv \n",
    "# autoencoder? (oversampling된 데이터)"
   ]
  },
  {
   "cell_type": "code",
   "execution_count": 35,
   "id": "55191733",
   "metadata": {},
   "outputs": [],
   "source": [
    "import pandas as pd\n",
    "import numpy as np\n",
    "import matplotlib.pyplot as plt\n",
    "import seaborn as sns\n",
    "import matplotlib as mpl\n",
    "import warnings\n",
    "warnings.filterwarnings('ignore')\n",
    "from matplotlib import rc\n",
    "rc('font', family='AppleGothic')\n",
    "plt.rcParams['axes.unicode_minus'] = False\n",
    "from sklearn.ensemble import RandomForestClassifier\n",
    "from sklearn import metrics   \n",
    "from sklearn.ensemble import (AdaBoostClassifier, GradientBoostingClassifier, RandomForestClassifier)\n",
    "from sklearn.tree import DecisionTreeClassifier\n",
    "from sklearn.metrics import accuracy_score, precision_score, recall_score, f1_score, roc_auc_score, confusion_matrix\n",
    "from sklearn.linear_model import LogisticRegression\n",
    "from sklearn.metrics import classification_report\n",
    "from sklearn.ensemble import (AdaBoostClassifier, GradientBoostingClassifier, RandomForestClassifier)\n",
    "from sklearn.tree import DecisionTreeClassifier\n",
    "from sklearn.linear_model import LogisticRegression\n",
    "from lightgbm import LGBMClassifier\n",
    "from sklearn.model_selection import KFold, cross_val_score"
   ]
  },
  {
   "cell_type": "code",
   "execution_count": 22,
   "id": "6a535fca",
   "metadata": {},
   "outputs": [],
   "source": [
    "data = pd.read_csv(\"ins_fraud.csv\")"
   ]
  },
  {
   "cell_type": "code",
   "execution_count": 109,
   "id": "68792561",
   "metadata": {},
   "outputs": [],
   "source": [
    "models = []\n",
    "\n",
    "models.append((\"Random Forest Classifier: \", RandomForestClassifier()))\n",
    "models.append((\"Decision Tree Classifier: \", DecisionTreeClassifier()))\n",
    "models.append((\"AdaBoost Classifier: \" , AdaBoostClassifier()))\n",
    "models.append((\"Gradient Boosting Classifier: \", GradientBoostingClassifier()))\n",
    "models.append((\"Logistic Regression: \", LogisticRegression()))\n",
    "models.append((\"Light GBM Classifier: \", LGBMClassifier()))"
   ]
  },
  {
   "cell_type": "code",
   "execution_count": 110,
   "id": "2d7ee20c",
   "metadata": {},
   "outputs": [],
   "source": [
    "def results(X_train, y_train):\n",
    "    results = []\n",
    "    names = []\n",
    "\n",
    "    for name, model in models:\n",
    "        kfold = KFold(n_splits=5, random_state=13, shuffle=True)\n",
    "        cv_results = cross_val_score(model, X_train, y_train,\n",
    "                                    cv=kfold, scoring='accuracy')\n",
    "        results.append(cv_results)\n",
    "        names.append(name)\n",
    "        model.fit(X_train, y_train)\n",
    "        pred = model.predict(X_test)\n",
    "        \n",
    "        print(name)\n",
    "        print(\"=======================================\")\n",
    "        print(f\"cv_results mean: {cv_results.mean()}\", \n",
    "              f\"cv_results std: {cv_results.std()}\")\n",
    "        print('Acc : ', accuracy_score(y_test, pred))\n",
    "        print(classification_report(y_test, pred))    \n",
    "        print(confusion_matrix(y_test, pred))\n",
    "        print(\" \")"
   ]
  },
  {
   "cell_type": "code",
   "execution_count": 111,
   "id": "b74a156d",
   "metadata": {},
   "outputs": [],
   "source": [
    "# ROC Curve\n",
    "from sklearn.metrics import roc_curve\n",
    "def draw_roc_curve(models, model_names, X_test, y_test):\n",
    "    plt.figure(figsize=(10,10))\n",
    "    for model in range(len(models)):\n",
    "        pred = models[model].predict_proba(X_test)[:, 1]\n",
    "        fpr, tpr, thresholds =  roc_curve(y_test, pred)\n",
    "        plt.plot(fpr, tpr, label=model_names[model])\n",
    "    plt.plot([0,1], [0,1], 'k--', label='random guess')\n",
    "    plt.title('ROC')\n",
    "    plt.legend()\n",
    "    plt.grid()\n",
    "    plt.show()"
   ]
  },
  {
   "cell_type": "markdown",
   "id": "09d7f7eb",
   "metadata": {},
   "source": [
    "# UNDERSAMPLING"
   ]
  },
  {
   "cell_type": "markdown",
   "id": "3274a786",
   "metadata": {},
   "source": [
    "### RandomUnderSampler"
   ]
  },
  {
   "cell_type": "code",
   "execution_count": 112,
   "id": "a3ede45a",
   "metadata": {},
   "outputs": [
    {
     "data": {
      "text/plain": [
       "7"
      ]
     },
     "execution_count": 112,
     "metadata": {},
     "output_type": "execute_result"
    }
   ],
   "source": [
    "# 맞춰야하는 테스ㅡㅌ 데이터의 fraud는 7개 \n",
    "len(data[(data['c24']==1)&(data['fraud']==1)][[\"fraud\"]])"
   ]
  },
  {
   "cell_type": "code",
   "execution_count": 113,
   "id": "519e5ea9",
   "metadata": {},
   "outputs": [],
   "source": [
    "train = data[data['c24'] == 0]\n",
    "test = data[data['c24'] == 1]\n",
    "X = data.drop(['fraud', 'c24'], axis=1)\n",
    "y = data['fraud']\n",
    "X_train = train.drop(['fraud', 'c24'], axis=1)\n",
    "y_train = train['fraud']\n",
    "X_test = test.drop(['fraud', 'c24'], axis=1)\n",
    "y_test = test['fraud']"
   ]
  },
  {
   "cell_type": "code",
   "execution_count": 114,
   "id": "c33c46cb",
   "metadata": {},
   "outputs": [],
   "source": [
    "from imblearn.under_sampling import RandomUnderSampler \n",
    "rus = RandomUnderSampler(random_state=42)\n",
    "X_res, y_res = rus.fit_resample(X_train, y_train)"
   ]
  },
  {
   "cell_type": "code",
   "execution_count": 115,
   "id": "b52b2de4",
   "metadata": {
    "scrolled": true
   },
   "outputs": [
    {
     "data": {
      "text/plain": [
       "(68, 68)"
      ]
     },
     "execution_count": 115,
     "metadata": {},
     "output_type": "execute_result"
    }
   ],
   "source": [
    "len(X_res), len(y_res)"
   ]
  },
  {
   "cell_type": "code",
   "execution_count": 116,
   "id": "0a8af200",
   "metadata": {},
   "outputs": [
    {
     "name": "stdout",
     "output_type": "stream",
     "text": [
      "Random Forest Classifier: \n",
      "=======================================\n",
      "cv_results mean: 0.5736263736263736 cv_results std: 0.12200276949232196\n",
      "Acc :  0.45850688881768664\n",
      "              precision    recall  f1-score   support\n",
      "\n",
      "           0       1.00      0.46      0.63      3114\n",
      "           1       0.00      0.57      0.00         7\n",
      "\n",
      "    accuracy                           0.46      3121\n",
      "   macro avg       0.50      0.51      0.32      3121\n",
      "weighted avg       1.00      0.46      0.63      3121\n",
      "\n",
      "[[1427 1687]\n",
      " [   3    4]]\n",
      " \n",
      "Decision Tree Classifier: \n",
      "=======================================\n",
      "cv_results mean: 0.45714285714285713 cv_results std: 0.08909912879395379\n",
      "Acc :  0.594360781800705\n",
      "              precision    recall  f1-score   support\n",
      "\n",
      "           0       1.00      0.59      0.75      3114\n",
      "           1       0.00      0.43      0.00         7\n",
      "\n",
      "    accuracy                           0.59      3121\n",
      "   macro avg       0.50      0.51      0.37      3121\n",
      "weighted avg       1.00      0.59      0.74      3121\n",
      "\n",
      "[[1852 1262]\n",
      " [   4    3]]\n",
      " \n",
      "AdaBoost Classifier: \n",
      "=======================================\n",
      "cv_results mean: 0.5868131868131868 cv_results std: 0.09320599014786825\n",
      "Acc :  0.49535405318808073\n",
      "              precision    recall  f1-score   support\n",
      "\n",
      "           0       1.00      0.50      0.66      3114\n",
      "           1       0.00      0.57      0.01         7\n",
      "\n",
      "    accuracy                           0.50      3121\n",
      "   macro avg       0.50      0.53      0.33      3121\n",
      "weighted avg       1.00      0.50      0.66      3121\n",
      "\n",
      "[[1542 1572]\n",
      " [   3    4]]\n",
      " \n",
      "Gradient Boosting Classifier: \n",
      "=======================================\n",
      "cv_results mean: 0.4978021978021978 cv_results std: 0.1337593323490368\n",
      "Acc :  0.48349887856456264\n",
      "              precision    recall  f1-score   support\n",
      "\n",
      "           0       1.00      0.48      0.65      3114\n",
      "           1       0.00      0.43      0.00         7\n",
      "\n",
      "    accuracy                           0.48      3121\n",
      "   macro avg       0.50      0.46      0.33      3121\n",
      "weighted avg       1.00      0.48      0.65      3121\n",
      "\n",
      "[[1506 1608]\n",
      " [   4    3]]\n",
      " \n",
      "Logistic Regression: \n",
      "=======================================\n",
      "cv_results mean: 0.45384615384615384 cv_results std: 0.10809523188886096\n",
      "Acc :  0.07946171099006728\n",
      "              precision    recall  f1-score   support\n",
      "\n",
      "           0       1.00      0.08      0.14      3114\n",
      "           1       0.00      0.86      0.00         7\n",
      "\n",
      "    accuracy                           0.08      3121\n",
      "   macro avg       0.50      0.47      0.07      3121\n",
      "weighted avg       0.99      0.08      0.14      3121\n",
      "\n",
      "[[ 242 2872]\n",
      " [   1    6]]\n",
      " \n",
      "Light GBM Classifier: \n",
      "=======================================\n",
      "cv_results mean: 0.4725274725274725 cv_results std: 0.11120097266526169\n",
      "Acc :  0.5148990708106376\n",
      "              precision    recall  f1-score   support\n",
      "\n",
      "           0       1.00      0.51      0.68      3114\n",
      "           1       0.00      0.57      0.01         7\n",
      "\n",
      "    accuracy                           0.51      3121\n",
      "   macro avg       0.50      0.54      0.34      3121\n",
      "weighted avg       1.00      0.51      0.68      3121\n",
      "\n",
      "[[1603 1511]\n",
      " [   3    4]]\n",
      " \n"
     ]
    }
   ],
   "source": [
    "results(X_res, y_res)"
   ]
  },
  {
   "cell_type": "code",
   "execution_count": 118,
   "id": "1e77b521",
   "metadata": {},
   "outputs": [],
   "source": [
    "# 하지만 데이터가 너무 적어서 유의미하다고 판단하기 어렵다.... "
   ]
  },
  {
   "cell_type": "markdown",
   "id": "944e2794",
   "metadata": {},
   "source": [
    "### Tomek’s link method"
   ]
  },
  {
   "cell_type": "code",
   "execution_count": 119,
   "id": "b0780e8d",
   "metadata": {},
   "outputs": [],
   "source": [
    "train = data[data['c24'] == 0]\n",
    "test = data[data['c24'] == 1]\n",
    "X = data.drop(['fraud', 'c24'], axis=1)\n",
    "y = data['fraud']\n",
    "X_train = train.drop(['fraud', 'c24'], axis=1)\n",
    "y_train = train['fraud']\n",
    "X_test = test.drop(['fraud', 'c24'], axis=1)\n",
    "y_test = test['fraud']"
   ]
  },
  {
   "cell_type": "code",
   "execution_count": 120,
   "id": "ae01c9bb",
   "metadata": {},
   "outputs": [],
   "source": [
    "from imblearn.under_sampling import TomekLinks\n",
    "tom = TomekLinks()\n",
    "X_tom, y_tom = tom.fit_resample(X_train, y_train)"
   ]
  },
  {
   "cell_type": "code",
   "execution_count": 121,
   "id": "9cacc221",
   "metadata": {
    "scrolled": false
   },
   "outputs": [
    {
     "data": {
      "text/plain": [
       "(12861, 12861)"
      ]
     },
     "execution_count": 121,
     "metadata": {},
     "output_type": "execute_result"
    }
   ],
   "source": [
    "len(X_tom), len(y_tom)"
   ]
  },
  {
   "cell_type": "code",
   "execution_count": 122,
   "id": "d07bb2e2",
   "metadata": {},
   "outputs": [
    {
     "name": "stdout",
     "output_type": "stream",
     "text": [
      "Random Forest Classifier: \n",
      "=======================================\n",
      "cv_results mean: 0.997356324409664 cv_results std: 0.0007539908911836323\n",
      "Acc :  0.9977571291252804\n",
      "              precision    recall  f1-score   support\n",
      "\n",
      "           0       1.00      1.00      1.00      3114\n",
      "           1       0.00      0.00      0.00         7\n",
      "\n",
      "    accuracy                           1.00      3121\n",
      "   macro avg       0.50      0.50      0.50      3121\n",
      "weighted avg       1.00      1.00      1.00      3121\n",
      "\n",
      "[[3114    0]\n",
      " [   7    0]]\n",
      " \n",
      "Decision Tree Classifier: \n",
      "=======================================\n",
      "cv_results mean: 0.9932353806939996 cv_results std: 0.0003106356347523787\n",
      "Acc :  0.9900672861262416\n",
      "              precision    recall  f1-score   support\n",
      "\n",
      "           0       1.00      0.99      1.00      3114\n",
      "           1       0.00      0.00      0.00         7\n",
      "\n",
      "    accuracy                           0.99      3121\n",
      "   macro avg       0.50      0.50      0.50      3121\n",
      "weighted avg       1.00      0.99      0.99      3121\n",
      "\n",
      "[[3090   24]\n",
      " [   7    0]]\n",
      " \n",
      "AdaBoost Classifier: \n",
      "=======================================\n",
      "cv_results mean: 0.9972785941337214 cv_results std: 0.0007377009751840247\n",
      "Acc :  0.9971163088753605\n",
      "              precision    recall  f1-score   support\n",
      "\n",
      "           0       1.00      1.00      1.00      3114\n",
      "           1       0.00      0.00      0.00         7\n",
      "\n",
      "    accuracy                           1.00      3121\n",
      "   macro avg       0.50      0.50      0.50      3121\n",
      "weighted avg       1.00      1.00      1.00      3121\n",
      "\n",
      "[[3112    2]\n",
      " [   7    0]]\n",
      " \n",
      "Gradient Boosting Classifier: \n",
      "=======================================\n",
      "cv_results mean: 0.9964233193245565 cv_results std: 0.0007928862721521783\n",
      "Acc :  0.9955142582505607\n",
      "              precision    recall  f1-score   support\n",
      "\n",
      "           0       1.00      1.00      1.00      3114\n",
      "           1       0.00      0.00      0.00         7\n",
      "\n",
      "    accuracy                           1.00      3121\n",
      "   macro avg       0.50      0.50      0.50      3121\n",
      "weighted avg       1.00      1.00      1.00      3121\n",
      "\n",
      "[[3107    7]\n",
      " [   7    0]]\n",
      " \n",
      "Logistic Regression: \n",
      "=======================================\n",
      "cv_results mean: 0.997356324409664 cv_results std: 0.0007539908911836323\n",
      "Acc :  0.9977571291252804\n",
      "              precision    recall  f1-score   support\n",
      "\n",
      "           0       1.00      1.00      1.00      3114\n",
      "           1       0.00      0.00      0.00         7\n",
      "\n",
      "    accuracy                           1.00      3121\n",
      "   macro avg       0.50      0.50      0.50      3121\n",
      "weighted avg       1.00      1.00      1.00      3121\n",
      "\n",
      "[[3114    0]\n",
      " [   7    0]]\n",
      " \n",
      "Light GBM Classifier: \n",
      "=======================================\n",
      "cv_results mean: 0.997356324409664 cv_results std: 0.0007539908911836323\n",
      "Acc :  0.9977571291252804\n",
      "              precision    recall  f1-score   support\n",
      "\n",
      "           0       1.00      1.00      1.00      3114\n",
      "           1       0.00      0.00      0.00         7\n",
      "\n",
      "    accuracy                           1.00      3121\n",
      "   macro avg       0.50      0.50      0.50      3121\n",
      "weighted avg       1.00      1.00      1.00      3121\n",
      "\n",
      "[[3114    0]\n",
      " [   7    0]]\n",
      " \n"
     ]
    }
   ],
   "source": [
    "results(X_tom, y_tom)"
   ]
  },
  {
   "cell_type": "markdown",
   "id": "980f13b2",
   "metadata": {},
   "source": [
    "### Condensed Nearest Neighbour"
   ]
  },
  {
   "cell_type": "code",
   "execution_count": 123,
   "id": "c2a6b3d7",
   "metadata": {},
   "outputs": [],
   "source": [
    "train = data[data['c24'] == 0]\n",
    "test = data[data['c24'] == 1]\n",
    "X = data.drop(['fraud', 'c24'], axis=1)\n",
    "y = data['fraud']\n",
    "X_train = train.drop(['fraud', 'c24'], axis=1)\n",
    "y_train = train['fraud']\n",
    "X_test = test.drop(['fraud', 'c24'], axis=1)\n",
    "y_test = test['fraud']"
   ]
  },
  {
   "cell_type": "code",
   "execution_count": 124,
   "id": "d6ec7cda",
   "metadata": {},
   "outputs": [],
   "source": [
    "from imblearn.under_sampling import CondensedNearestNeighbour\n",
    "cnn = CondensedNearestNeighbour(random_state=42)\n",
    "X_cnn, y_cnn = cnn.fit_resample(X_train, y_train)"
   ]
  },
  {
   "cell_type": "code",
   "execution_count": 125,
   "id": "20c480e3",
   "metadata": {},
   "outputs": [
    {
     "data": {
      "text/plain": [
       "(324, 324)"
      ]
     },
     "execution_count": 125,
     "metadata": {},
     "output_type": "execute_result"
    }
   ],
   "source": [
    "len(X_cnn), len(y_cnn)"
   ]
  },
  {
   "cell_type": "code",
   "execution_count": 126,
   "id": "67254c8b",
   "metadata": {},
   "outputs": [
    {
     "name": "stdout",
     "output_type": "stream",
     "text": [
      "Random Forest Classifier: \n",
      "=======================================\n",
      "cv_results mean: 0.8949999999999999 cv_results std: 0.018349016064425495\n",
      "Acc :  0.9951938481256007\n",
      "              precision    recall  f1-score   support\n",
      "\n",
      "           0       1.00      1.00      1.00      3114\n",
      "           1       0.10      0.14      0.12         7\n",
      "\n",
      "    accuracy                           1.00      3121\n",
      "   macro avg       0.55      0.57      0.56      3121\n",
      "weighted avg       1.00      1.00      1.00      3121\n",
      "\n",
      "[[3105    9]\n",
      " [   6    1]]\n",
      " \n",
      "Decision Tree Classifier: \n",
      "=======================================\n",
      "cv_results mean: 0.8270673076923076 cv_results std: 0.02714350015365955\n",
      "Acc :  0.8535725728933035\n",
      "              precision    recall  f1-score   support\n",
      "\n",
      "           0       1.00      0.86      0.92      3114\n",
      "           1       0.00      0.00      0.00         7\n",
      "\n",
      "    accuracy                           0.85      3121\n",
      "   macro avg       0.50      0.43      0.46      3121\n",
      "weighted avg       1.00      0.85      0.92      3121\n",
      "\n",
      "[[2664  450]\n",
      " [   7    0]]\n",
      " \n",
      "AdaBoost Classifier: \n",
      "=======================================\n",
      "cv_results mean: 0.8641826923076923 cv_results std: 0.024684585720431855\n",
      "Acc :  0.9381608458827299\n",
      "              precision    recall  f1-score   support\n",
      "\n",
      "           0       1.00      0.94      0.97      3114\n",
      "           1       0.01      0.14      0.01         7\n",
      "\n",
      "    accuracy                           0.94      3121\n",
      "   macro avg       0.50      0.54      0.49      3121\n",
      "weighted avg       1.00      0.94      0.97      3121\n",
      "\n",
      "[[2927  187]\n",
      " [   6    1]]\n",
      " \n",
      "Gradient Boosting Classifier: \n",
      "=======================================\n",
      "cv_results mean: 0.8703846153846154 cv_results std: 0.022935463870577804\n",
      "Acc :  0.9698814482537648\n",
      "              precision    recall  f1-score   support\n",
      "\n",
      "           0       1.00      0.97      0.98      3114\n",
      "           1       0.00      0.00      0.00         7\n",
      "\n",
      "    accuracy                           0.97      3121\n",
      "   macro avg       0.50      0.49      0.49      3121\n",
      "weighted avg       1.00      0.97      0.98      3121\n",
      "\n",
      "[[3027   87]\n",
      " [   7    0]]\n",
      " \n",
      "Logistic Regression: \n",
      "=======================================\n",
      "cv_results mean: 0.8888461538461538 cv_results std: 0.011941672843276947\n",
      "Acc :  0.9977571291252804\n",
      "              precision    recall  f1-score   support\n",
      "\n",
      "           0       1.00      1.00      1.00      3114\n",
      "           1       0.00      0.00      0.00         7\n",
      "\n",
      "    accuracy                           1.00      3121\n",
      "   macro avg       0.50      0.50      0.50      3121\n",
      "weighted avg       1.00      1.00      1.00      3121\n",
      "\n",
      "[[3114    0]\n",
      " [   7    0]]\n",
      " \n",
      "Light GBM Classifier: \n",
      "=======================================\n",
      "cv_results mean: 0.8796634615384615 cv_results std: 0.014811750193241246\n",
      "Acc :  0.9791733418776033\n",
      "              precision    recall  f1-score   support\n",
      "\n",
      "           0       1.00      0.98      0.99      3114\n",
      "           1       0.02      0.14      0.03         7\n",
      "\n",
      "    accuracy                           0.98      3121\n",
      "   macro avg       0.51      0.56      0.51      3121\n",
      "weighted avg       1.00      0.98      0.99      3121\n",
      "\n",
      "[[3055   59]\n",
      " [   6    1]]\n",
      " \n"
     ]
    }
   ],
   "source": [
    "results(X_cnn, y_cnn)"
   ]
  },
  {
   "cell_type": "markdown",
   "id": "c74b1d96",
   "metadata": {},
   "source": [
    "### One Sided Selection"
   ]
  },
  {
   "cell_type": "code",
   "execution_count": 127,
   "id": "ec62d9fa",
   "metadata": {},
   "outputs": [],
   "source": [
    "train = data[data['c24'] == 0]\n",
    "test = data[data['c24'] == 1]\n",
    "X = data.drop(['fraud', 'c24'], axis=1)\n",
    "y = data['fraud']\n",
    "X_train = train.drop(['fraud', 'c24'], axis=1)\n",
    "y_train = train['fraud']\n",
    "X_test = test.drop(['fraud', 'c24'], axis=1)\n",
    "y_test = test['fraud']"
   ]
  },
  {
   "cell_type": "code",
   "execution_count": 128,
   "id": "07c9d7ba",
   "metadata": {},
   "outputs": [],
   "source": [
    "from imblearn.under_sampling import OneSidedSelection\n",
    "oss = OneSidedSelection(random_state=0)\n",
    "X_oss, y_oss = oss.fit_resample(X_train, y_train)"
   ]
  },
  {
   "cell_type": "code",
   "execution_count": 129,
   "id": "a76f09c4",
   "metadata": {},
   "outputs": [
    {
     "data": {
      "text/plain": [
       "(12802, 12802)"
      ]
     },
     "execution_count": 129,
     "metadata": {},
     "output_type": "execute_result"
    }
   ],
   "source": [
    "len(X_oss), len(y_oss)"
   ]
  },
  {
   "cell_type": "code",
   "execution_count": 130,
   "id": "ee541246",
   "metadata": {},
   "outputs": [
    {
     "name": "stdout",
     "output_type": "stream",
     "text": [
      "Random Forest Classifier: \n",
      "=======================================\n",
      "cv_results mean: 0.8949999999999999 cv_results std: 0.018349016064425495\n",
      "Acc :  0.9958346683755207\n",
      "              precision    recall  f1-score   support\n",
      "\n",
      "           0       1.00      1.00      1.00      3114\n",
      "           1       0.00      0.00      0.00         7\n",
      "\n",
      "    accuracy                           1.00      3121\n",
      "   macro avg       0.50      0.50      0.50      3121\n",
      "weighted avg       1.00      1.00      1.00      3121\n",
      "\n",
      "[[3108    6]\n",
      " [   7    0]]\n",
      " \n",
      "Decision Tree Classifier: \n",
      "=======================================\n",
      "cv_results mean: 0.8209134615384615 cv_results std: 0.023636054910157425\n",
      "Acc :  0.8420378083947453\n",
      "              precision    recall  f1-score   support\n",
      "\n",
      "           0       1.00      0.84      0.91      3114\n",
      "           1       0.00      0.14      0.00         7\n",
      "\n",
      "    accuracy                           0.84      3121\n",
      "   macro avg       0.50      0.49      0.46      3121\n",
      "weighted avg       1.00      0.84      0.91      3121\n",
      "\n",
      "[[2627  487]\n",
      " [   6    1]]\n",
      " \n",
      "AdaBoost Classifier: \n",
      "=======================================\n",
      "cv_results mean: 0.8641826923076923 cv_results std: 0.024684585720431855\n",
      "Acc :  0.9381608458827299\n",
      "              precision    recall  f1-score   support\n",
      "\n",
      "           0       1.00      0.94      0.97      3114\n",
      "           1       0.01      0.14      0.01         7\n",
      "\n",
      "    accuracy                           0.94      3121\n",
      "   macro avg       0.50      0.54      0.49      3121\n",
      "weighted avg       1.00      0.94      0.97      3121\n",
      "\n",
      "[[2927  187]\n",
      " [   6    1]]\n",
      " \n",
      "Gradient Boosting Classifier: \n",
      "=======================================\n",
      "cv_results mean: 0.8673076923076923 cv_results std: 0.024866507500376334\n",
      "Acc :  0.9740467798782442\n",
      "              precision    recall  f1-score   support\n",
      "\n",
      "           0       1.00      0.98      0.99      3114\n",
      "           1       0.00      0.00      0.00         7\n",
      "\n",
      "    accuracy                           0.97      3121\n",
      "   macro avg       0.50      0.49      0.49      3121\n",
      "weighted avg       1.00      0.97      0.98      3121\n",
      "\n",
      "[[3040   74]\n",
      " [   7    0]]\n",
      " \n",
      "Logistic Regression: \n",
      "=======================================\n",
      "cv_results mean: 0.8888461538461538 cv_results std: 0.011941672843276947\n",
      "Acc :  0.9977571291252804\n",
      "              precision    recall  f1-score   support\n",
      "\n",
      "           0       1.00      1.00      1.00      3114\n",
      "           1       0.00      0.00      0.00         7\n",
      "\n",
      "    accuracy                           1.00      3121\n",
      "   macro avg       0.50      0.50      0.50      3121\n",
      "weighted avg       1.00      1.00      1.00      3121\n",
      "\n",
      "[[3114    0]\n",
      " [   7    0]]\n",
      " \n",
      "Light GBM Classifier: \n",
      "=======================================\n",
      "cv_results mean: 0.8796634615384615 cv_results std: 0.014811750193241246\n",
      "Acc :  0.9791733418776033\n",
      "              precision    recall  f1-score   support\n",
      "\n",
      "           0       1.00      0.98      0.99      3114\n",
      "           1       0.02      0.14      0.03         7\n",
      "\n",
      "    accuracy                           0.98      3121\n",
      "   macro avg       0.51      0.56      0.51      3121\n",
      "weighted avg       1.00      0.98      0.99      3121\n",
      "\n",
      "[[3055   59]\n",
      " [   6    1]]\n",
      " \n"
     ]
    }
   ],
   "source": [
    "results(X_cnn, y_cnn)"
   ]
  },
  {
   "cell_type": "markdown",
   "id": "d6e6c629",
   "metadata": {},
   "source": [
    "### Edited Nearest Neighbours"
   ]
  },
  {
   "cell_type": "code",
   "execution_count": 131,
   "id": "4a09a97d",
   "metadata": {},
   "outputs": [],
   "source": [
    "train = data[data['c24'] == 0]\n",
    "test = data[data['c24'] == 1]\n",
    "X = data.drop(['fraud', 'c24'], axis=1)\n",
    "y = data['fraud']\n",
    "X_train = train.drop(['fraud', 'c24'], axis=1)\n",
    "y_train = train['fraud']\n",
    "X_test = test.drop(['fraud', 'c24'], axis=1)\n",
    "y_test = test['fraud']"
   ]
  },
  {
   "cell_type": "code",
   "execution_count": 132,
   "id": "dd35dd4b",
   "metadata": {},
   "outputs": [],
   "source": [
    "from imblearn.under_sampling import EditedNearestNeighbours\n",
    "enn = EditedNearestNeighbours(kind_sel=\"all\", n_neighbors=5)\n",
    "X_enn, y_enn = enn.fit_resample(X_train, y_train)"
   ]
  },
  {
   "cell_type": "code",
   "execution_count": 133,
   "id": "b5d0e5f9",
   "metadata": {},
   "outputs": [
    {
     "data": {
      "text/plain": [
       "(12726, 12726)"
      ]
     },
     "execution_count": 133,
     "metadata": {},
     "output_type": "execute_result"
    }
   ],
   "source": [
    "len(X_enn), len(y_enn)"
   ]
  },
  {
   "cell_type": "code",
   "execution_count": 134,
   "id": "c565bf6a",
   "metadata": {},
   "outputs": [
    {
     "name": "stdout",
     "output_type": "stream",
     "text": [
      "Random Forest Classifier: \n",
      "=======================================\n",
      "cv_results mean: 0.9973283103662742 cv_results std: 0.0008013965347143231\n",
      "Acc :  0.9977571291252804\n",
      "              precision    recall  f1-score   support\n",
      "\n",
      "           0       1.00      1.00      1.00      3114\n",
      "           1       0.00      0.00      0.00         7\n",
      "\n",
      "    accuracy                           1.00      3121\n",
      "   macro avg       0.50      0.50      0.50      3121\n",
      "weighted avg       1.00      1.00      1.00      3121\n",
      "\n",
      "[[3114    0]\n",
      " [   7    0]]\n",
      " \n",
      "Decision Tree Classifier: \n",
      "=======================================\n",
      "cv_results mean: 0.9926920459228004 cv_results std: 0.0012577689720476176\n",
      "Acc :  0.9913489266260814\n",
      "              precision    recall  f1-score   support\n",
      "\n",
      "           0       1.00      0.99      1.00      3114\n",
      "           1       0.00      0.00      0.00         7\n",
      "\n",
      "    accuracy                           0.99      3121\n",
      "   macro avg       0.50      0.50      0.50      3121\n",
      "weighted avg       1.00      0.99      0.99      3121\n",
      "\n",
      "[[3094   20]\n",
      " [   7    0]]\n",
      " \n",
      "AdaBoost Classifier: \n",
      "=======================================\n",
      "cv_results mean: 0.9970925539812056 cv_results std: 0.0009164932492399049\n",
      "Acc :  0.9974367190003204\n",
      "              precision    recall  f1-score   support\n",
      "\n",
      "           0       1.00      1.00      1.00      3114\n",
      "           1       0.00      0.00      0.00         7\n",
      "\n",
      "    accuracy                           1.00      3121\n",
      "   macro avg       0.50      0.50      0.50      3121\n",
      "weighted avg       1.00      1.00      1.00      3121\n",
      "\n",
      "[[3113    1]\n",
      " [   7    0]]\n",
      " \n",
      "Gradient Boosting Classifier: \n",
      "=======================================\n",
      "cv_results mean: 0.9961496210396679 cv_results std: 0.0010063610354723528\n",
      "Acc :  0.9948734380006409\n",
      "              precision    recall  f1-score   support\n",
      "\n",
      "           0       1.00      1.00      1.00      3114\n",
      "           1       0.00      0.00      0.00         7\n",
      "\n",
      "    accuracy                           0.99      3121\n",
      "   macro avg       0.50      0.50      0.50      3121\n",
      "weighted avg       1.00      0.99      1.00      3121\n",
      "\n",
      "[[3105    9]\n",
      " [   7    0]]\n",
      " \n",
      "Logistic Regression: \n",
      "=======================================\n",
      "cv_results mean: 0.9973283103662742 cv_results std: 0.0008013965347143231\n",
      "Acc :  0.9977571291252804\n",
      "              precision    recall  f1-score   support\n",
      "\n",
      "           0       1.00      1.00      1.00      3114\n",
      "           1       0.00      0.00      0.00         7\n",
      "\n",
      "    accuracy                           1.00      3121\n",
      "   macro avg       0.50      0.50      0.50      3121\n",
      "weighted avg       1.00      1.00      1.00      3121\n",
      "\n",
      "[[3114    0]\n",
      " [   7    0]]\n",
      " \n",
      "Light GBM Classifier: \n",
      "=======================================\n",
      "cv_results mean: 0.9973283103662742 cv_results std: 0.0008013965347143231\n",
      "Acc :  0.9974367190003204\n",
      "              precision    recall  f1-score   support\n",
      "\n",
      "           0       1.00      1.00      1.00      3114\n",
      "           1       0.00      0.00      0.00         7\n",
      "\n",
      "    accuracy                           1.00      3121\n",
      "   macro avg       0.50      0.50      0.50      3121\n",
      "weighted avg       1.00      1.00      1.00      3121\n",
      "\n",
      "[[3113    1]\n",
      " [   7    0]]\n",
      " \n"
     ]
    }
   ],
   "source": [
    "results(X_enn, y_enn)"
   ]
  },
  {
   "cell_type": "markdown",
   "id": "cc918c60",
   "metadata": {},
   "source": [
    "### Neighbourhood Cleaning Rule"
   ]
  },
  {
   "cell_type": "code",
   "execution_count": 135,
   "id": "78c0a7e8",
   "metadata": {},
   "outputs": [],
   "source": [
    "train = data[data['c24'] == 0]\n",
    "test = data[data['c24'] == 1]\n",
    "X = data.drop(['fraud', 'c24'], axis=1)\n",
    "y = data['fraud']\n",
    "X_train = train.drop(['fraud', 'c24'], axis=1)\n",
    "y_train = train['fraud']\n",
    "X_test = test.drop(['fraud', 'c24'], axis=1)\n",
    "y_test = test['fraud']"
   ]
  },
  {
   "cell_type": "code",
   "execution_count": 136,
   "id": "741a8055",
   "metadata": {},
   "outputs": [],
   "source": [
    "from imblearn.under_sampling import NeighbourhoodCleaningRule\n",
    "ncr = NeighbourhoodCleaningRule(kind_sel=\"all\", n_neighbors=5)\n",
    "X_ncr, y_ncr = ncr.fit_resample(X_train, y_train)"
   ]
  },
  {
   "cell_type": "code",
   "execution_count": 137,
   "id": "dbbec696",
   "metadata": {},
   "outputs": [
    {
     "data": {
      "text/plain": [
       "(12709, 12709)"
      ]
     },
     "execution_count": 137,
     "metadata": {},
     "output_type": "execute_result"
    }
   ],
   "source": [
    "len(X_ncr), len(y_ncr)"
   ]
  },
  {
   "cell_type": "code",
   "execution_count": 138,
   "id": "31c3b9e1",
   "metadata": {},
   "outputs": [
    {
     "name": "stdout",
     "output_type": "stream",
     "text": [
      "Random Forest Classifier: \n",
      "=======================================\n",
      "cv_results mean: 0.6032967032967033 cv_results std: 0.0850069433222581\n",
      "Acc :  0.48413969881448254\n",
      "              precision    recall  f1-score   support\n",
      "\n",
      "           0       1.00      0.48      0.65      3114\n",
      "           1       0.00      0.43      0.00         7\n",
      "\n",
      "    accuracy                           0.48      3121\n",
      "   macro avg       0.50      0.46      0.33      3121\n",
      "weighted avg       1.00      0.48      0.65      3121\n",
      "\n",
      "[[1508 1606]\n",
      " [   4    3]]\n",
      " \n",
      "Decision Tree Classifier: \n",
      "=======================================\n",
      "cv_results mean: 0.42637362637362636 cv_results std: 0.12200276949232194\n",
      "Acc :  0.5414931111823134\n",
      "              precision    recall  f1-score   support\n",
      "\n",
      "           0       1.00      0.54      0.70      3114\n",
      "           1       0.00      0.29      0.00         7\n",
      "\n",
      "    accuracy                           0.54      3121\n",
      "   macro avg       0.50      0.41      0.35      3121\n",
      "weighted avg       0.99      0.54      0.70      3121\n",
      "\n",
      "[[1688 1426]\n",
      " [   5    2]]\n",
      " \n",
      "AdaBoost Classifier: \n",
      "=======================================\n",
      "cv_results mean: 0.5868131868131868 cv_results std: 0.09320599014786825\n",
      "Acc :  0.49535405318808073\n",
      "              precision    recall  f1-score   support\n",
      "\n",
      "           0       1.00      0.50      0.66      3114\n",
      "           1       0.00      0.57      0.01         7\n",
      "\n",
      "    accuracy                           0.50      3121\n",
      "   macro avg       0.50      0.53      0.33      3121\n",
      "weighted avg       1.00      0.50      0.66      3121\n",
      "\n",
      "[[1542 1572]\n",
      " [   3    4]]\n",
      " \n",
      "Gradient Boosting Classifier: \n",
      "=======================================\n",
      "cv_results mean: 0.5131868131868131 cv_results std: 0.14173694362537342\n",
      "Acc :  0.4851009291893624\n",
      "              precision    recall  f1-score   support\n",
      "\n",
      "           0       1.00      0.49      0.65      3114\n",
      "           1       0.00      0.43      0.00         7\n",
      "\n",
      "    accuracy                           0.49      3121\n",
      "   macro avg       0.50      0.46      0.33      3121\n",
      "weighted avg       1.00      0.49      0.65      3121\n",
      "\n",
      "[[1511 1603]\n",
      " [   4    3]]\n",
      " \n",
      "Logistic Regression: \n",
      "=======================================\n",
      "cv_results mean: 0.45384615384615384 cv_results std: 0.10809523188886096\n",
      "Acc :  0.07946171099006728\n",
      "              precision    recall  f1-score   support\n",
      "\n",
      "           0       1.00      0.08      0.14      3114\n",
      "           1       0.00      0.86      0.00         7\n",
      "\n",
      "    accuracy                           0.08      3121\n",
      "   macro avg       0.50      0.47      0.07      3121\n",
      "weighted avg       0.99      0.08      0.14      3121\n",
      "\n",
      "[[ 242 2872]\n",
      " [   1    6]]\n",
      " \n",
      "Light GBM Classifier: \n",
      "=======================================\n",
      "cv_results mean: 0.4725274725274725 cv_results std: 0.11120097266526169\n",
      "Acc :  0.5148990708106376\n",
      "              precision    recall  f1-score   support\n",
      "\n",
      "           0       1.00      0.51      0.68      3114\n",
      "           1       0.00      0.57      0.01         7\n",
      "\n",
      "    accuracy                           0.51      3121\n",
      "   macro avg       0.50      0.54      0.34      3121\n",
      "weighted avg       1.00      0.51      0.68      3121\n",
      "\n",
      "[[1603 1511]\n",
      " [   3    4]]\n",
      " \n"
     ]
    }
   ],
   "source": [
    "results(X_res, y_res)"
   ]
  },
  {
   "cell_type": "markdown",
   "id": "0b69d415",
   "metadata": {},
   "source": [
    "# Oversampling"
   ]
  },
  {
   "cell_type": "markdown",
   "id": "3dd38120",
   "metadata": {},
   "source": [
    "### SMOTE"
   ]
  },
  {
   "cell_type": "code",
   "execution_count": 139,
   "id": "5694995b",
   "metadata": {},
   "outputs": [],
   "source": [
    "train = data[data['c24'] == 0]\n",
    "test = data[data['c24'] == 1]\n",
    "X = data.drop(['fraud', 'c24'], axis=1)\n",
    "y = data['fraud']\n",
    "X_train = train.drop(['fraud', 'c24'], axis=1)\n",
    "y_train = train['fraud']\n",
    "X_test = test.drop(['fraud', 'c24'], axis=1)\n",
    "y_test = test['fraud']"
   ]
  },
  {
   "cell_type": "code",
   "execution_count": 140,
   "id": "f330fd3a",
   "metadata": {},
   "outputs": [],
   "source": [
    "from imblearn.over_sampling import SMOTE\n",
    "\n",
    "smote = SMOTE(random_state=42)\n",
    "X_smote, y_smote = smote.fit_resample(X_train, y_train)"
   ]
  },
  {
   "cell_type": "code",
   "execution_count": 141,
   "id": "1d2d6750",
   "metadata": {
    "scrolled": true
   },
   "outputs": [
    {
     "data": {
      "text/plain": [
       "(25690, 25690)"
      ]
     },
     "execution_count": 141,
     "metadata": {},
     "output_type": "execute_result"
    }
   ],
   "source": [
    "len(X_smote), len(y_smote)"
   ]
  },
  {
   "cell_type": "code",
   "execution_count": 142,
   "id": "c95ba147",
   "metadata": {},
   "outputs": [
    {
     "name": "stdout",
     "output_type": "stream",
     "text": [
      "Random Forest Classifier: \n",
      "=======================================\n",
      "cv_results mean: 0.9979369404437526 cv_results std: 0.00036098164637976717\n",
      "Acc :  0.9974367190003204\n",
      "              precision    recall  f1-score   support\n",
      "\n",
      "           0       1.00      1.00      1.00      3114\n",
      "           1       0.00      0.00      0.00         7\n",
      "\n",
      "    accuracy                           1.00      3121\n",
      "   macro avg       0.50      0.50      0.50      3121\n",
      "weighted avg       1.00      1.00      1.00      3121\n",
      "\n",
      "[[3113    1]\n",
      " [   7    0]]\n",
      " \n",
      "Decision Tree Classifier: \n",
      "=======================================\n",
      "cv_results mean: 0.9938497469832619 cv_results std: 0.0012284728562132468\n",
      "Acc :  0.9868631848766422\n",
      "              precision    recall  f1-score   support\n",
      "\n",
      "           0       1.00      0.99      0.99      3114\n",
      "           1       0.00      0.00      0.00         7\n",
      "\n",
      "    accuracy                           0.99      3121\n",
      "   macro avg       0.50      0.49      0.50      3121\n",
      "weighted avg       1.00      0.99      0.99      3121\n",
      "\n",
      "[[3080   34]\n",
      " [   7    0]]\n",
      " \n",
      "AdaBoost Classifier: \n",
      "=======================================\n",
      "cv_results mean: 0.9130011677695601 cv_results std: 0.0031310358197260036\n",
      "Acc :  0.8692726690163409\n",
      "              precision    recall  f1-score   support\n",
      "\n",
      "           0       1.00      0.87      0.93      3114\n",
      "           1       0.00      0.00      0.00         7\n",
      "\n",
      "    accuracy                           0.87      3121\n",
      "   macro avg       0.50      0.44      0.47      3121\n",
      "weighted avg       1.00      0.87      0.93      3121\n",
      "\n",
      "[[2713  401]\n",
      " [   7    0]]\n",
      " \n",
      "Gradient Boosting Classifier: \n",
      "=======================================\n",
      "cv_results mean: 0.9611132736473337 cv_results std: 0.0037222368510336644\n",
      "Acc :  0.9282281320089715\n",
      "              precision    recall  f1-score   support\n",
      "\n",
      "           0       1.00      0.93      0.96      3114\n",
      "           1       0.00      0.00      0.00         7\n",
      "\n",
      "    accuracy                           0.93      3121\n",
      "   macro avg       0.50      0.47      0.48      3121\n",
      "weighted avg       1.00      0.93      0.96      3121\n",
      "\n",
      "[[2897  217]\n",
      " [   7    0]]\n",
      " \n",
      "Logistic Regression: \n",
      "=======================================\n",
      "cv_results mean: 0.49182561307901906 cv_results std: 0.051329490751407636\n",
      "Acc :  0.35020826658122395\n",
      "              precision    recall  f1-score   support\n",
      "\n",
      "           0       1.00      0.35      0.52      3114\n",
      "           1       0.00      0.71      0.00         7\n",
      "\n",
      "    accuracy                           0.35      3121\n",
      "   macro avg       0.50      0.53      0.26      3121\n",
      "weighted avg       1.00      0.35      0.52      3121\n",
      "\n",
      "[[1088 2026]\n",
      " [   2    5]]\n",
      " \n",
      "Light GBM Classifier: \n",
      "=======================================\n",
      "cv_results mean: 0.994783962631374 cv_results std: 0.001003043886860666\n",
      "Acc :  0.987183595001602\n",
      "              precision    recall  f1-score   support\n",
      "\n",
      "           0       1.00      0.99      0.99      3114\n",
      "           1       0.00      0.00      0.00         7\n",
      "\n",
      "    accuracy                           0.99      3121\n",
      "   macro avg       0.50      0.49      0.50      3121\n",
      "weighted avg       1.00      0.99      0.99      3121\n",
      "\n",
      "[[3081   33]\n",
      " [   7    0]]\n",
      " \n"
     ]
    }
   ],
   "source": [
    "results(X_smote, y_smote)"
   ]
  },
  {
   "cell_type": "markdown",
   "id": "d4112f03",
   "metadata": {},
   "source": [
    "### ADASYN(Adaptive Synthetic Sampling) \n",
    "#방법은 소수 클래스 데이터와 그 데이터에서 가장 가까운 k개의 소수 클래스 데이터 중 무작위로 선택된 데이터 사이의 \n",
    "#직선상에 가상의 소수 클래스 데이터를 만드는 방법이다."
   ]
  },
  {
   "cell_type": "code",
   "execution_count": 149,
   "id": "512a23ce",
   "metadata": {},
   "outputs": [],
   "source": [
    "from imblearn.over_sampling import ADASYN"
   ]
  },
  {
   "cell_type": "code",
   "execution_count": 150,
   "id": "81827dec",
   "metadata": {},
   "outputs": [],
   "source": [
    "train = data[data['c24'] == 0]\n",
    "test = data[data['c24'] == 1]\n",
    "X = data.drop(['fraud', 'c24'], axis=1)\n",
    "y = data['fraud']\n",
    "X_train = train.drop(['fraud', 'c24'], axis=1)\n",
    "y_train = train['fraud']\n",
    "X_test = test.drop(['fraud', 'c24'], axis=1)\n",
    "y_test = test['fraud']"
   ]
  },
  {
   "cell_type": "code",
   "execution_count": 151,
   "id": "58ee56d9",
   "metadata": {},
   "outputs": [],
   "source": [
    "from imblearn.over_sampling import ADASYN\n",
    "\n",
    "adasyn = ADASYN(random_state=42)\n",
    "X_adasyn, y_adasyn = adasyn.fit_resample(X_train, y_train)"
   ]
  },
  {
   "cell_type": "code",
   "execution_count": 152,
   "id": "d5a87a8f",
   "metadata": {},
   "outputs": [
    {
     "data": {
      "text/plain": [
       "(25697, 25697)"
      ]
     },
     "execution_count": 152,
     "metadata": {},
     "output_type": "execute_result"
    }
   ],
   "source": [
    "len(X_adasyn), len(y_adasyn)"
   ]
  },
  {
   "cell_type": "code",
   "execution_count": 153,
   "id": "4db03584",
   "metadata": {},
   "outputs": [
    {
     "name": "stdout",
     "output_type": "stream",
     "text": [
      "Random Forest Classifier: \n",
      "=======================================\n",
      "cv_results mean: 0.9978597177455075 cv_results std: 0.0005362179831137537\n",
      "Acc :  0.9967958987504005\n",
      "              precision    recall  f1-score   support\n",
      "\n",
      "           0       1.00      1.00      1.00      3114\n",
      "           1       0.00      0.00      0.00         7\n",
      "\n",
      "    accuracy                           1.00      3121\n",
      "   macro avg       0.50      0.50      0.50      3121\n",
      "weighted avg       1.00      1.00      1.00      3121\n",
      "\n",
      "[[3111    3]\n",
      " [   7    0]]\n",
      " \n",
      "Decision Tree Classifier: \n",
      "=======================================\n",
      "cv_results mean: 0.9938903767103323 cv_results std: 0.0010767483911312873\n",
      "Acc :  0.9852611342518424\n",
      "              precision    recall  f1-score   support\n",
      "\n",
      "           0       1.00      0.99      0.99      3114\n",
      "           1       0.00      0.00      0.00         7\n",
      "\n",
      "    accuracy                           0.99      3121\n",
      "   macro avg       0.50      0.49      0.50      3121\n",
      "weighted avg       1.00      0.99      0.99      3121\n",
      "\n",
      "[[3075   39]\n",
      " [   7    0]]\n",
      " \n",
      "AdaBoost Classifier: \n",
      "=======================================\n",
      "cv_results mean: 0.9151652011814742 cv_results std: 0.005504052246656492\n",
      "Acc :  0.8721563601409804\n",
      "              precision    recall  f1-score   support\n",
      "\n",
      "           0       1.00      0.87      0.93      3114\n",
      "           1       0.00      0.00      0.00         7\n",
      "\n",
      "    accuracy                           0.87      3121\n",
      "   macro avg       0.50      0.44      0.47      3121\n",
      "weighted avg       1.00      0.87      0.93      3121\n",
      "\n",
      "[[2722  392]\n",
      " [   7    0]]\n",
      " \n",
      "Gradient Boosting Classifier: \n",
      "=======================================\n",
      "cv_results mean: 0.9605011421774285 cv_results std: 0.005392553228384855\n",
      "Acc :  0.9259852611342518\n",
      "              precision    recall  f1-score   support\n",
      "\n",
      "           0       1.00      0.93      0.96      3114\n",
      "           1       0.00      0.00      0.00         7\n",
      "\n",
      "    accuracy                           0.93      3121\n",
      "   macro avg       0.50      0.46      0.48      3121\n",
      "weighted avg       1.00      0.93      0.96      3121\n",
      "\n",
      "[[2890  224]\n",
      " [   7    0]]\n",
      " \n",
      "Logistic Regression: \n",
      "=======================================\n",
      "cv_results mean: 0.47363622803570476 cv_results std: 0.029051535959104327\n",
      "Acc :  0.1387375841076578\n",
      "              precision    recall  f1-score   support\n",
      "\n",
      "           0       1.00      0.14      0.24      3114\n",
      "           1       0.00      0.86      0.00         7\n",
      "\n",
      "    accuracy                           0.14      3121\n",
      "   macro avg       0.50      0.50      0.12      3121\n",
      "weighted avg       1.00      0.14      0.24      3121\n",
      "\n",
      "[[ 427 2687]\n",
      " [   1    6]]\n",
      " \n",
      "Light GBM Classifier: \n",
      "=======================================\n",
      "cv_results mean: 0.9947075276193418 cv_results std: 0.000792026241309895\n",
      "Acc :  0.9862223646267222\n",
      "              precision    recall  f1-score   support\n",
      "\n",
      "           0       1.00      0.99      0.99      3114\n",
      "           1       0.00      0.00      0.00         7\n",
      "\n",
      "    accuracy                           0.99      3121\n",
      "   macro avg       0.50      0.49      0.50      3121\n",
      "weighted avg       1.00      0.99      0.99      3121\n",
      "\n",
      "[[3078   36]\n",
      " [   7    0]]\n",
      " \n"
     ]
    }
   ],
   "source": [
    "results(X_adasyn, y_adasyn)"
   ]
  },
  {
   "cell_type": "markdown",
   "id": "7a813049",
   "metadata": {},
   "source": [
    "## 복합 샘플링\n",
    "\n",
    "- SMOTEENN: SMOTE + ENN\n",
    "- SMOTETomek: SMOTE + Tomek"
   ]
  },
  {
   "cell_type": "code",
   "execution_count": 154,
   "id": "727854b1",
   "metadata": {},
   "outputs": [],
   "source": [
    "from imblearn.over_sampling import *"
   ]
  },
  {
   "cell_type": "markdown",
   "id": "19449746",
   "metadata": {},
   "source": [
    "### SMOTETomek"
   ]
  },
  {
   "cell_type": "code",
   "execution_count": 155,
   "id": "38d22cbb",
   "metadata": {},
   "outputs": [],
   "source": [
    "train = data[data['c24'] == 0]\n",
    "test = data[data['c24'] == 1]\n",
    "X = data.drop(['fraud', 'c24'], axis=1)\n",
    "y = data['fraud']\n",
    "X_train = train.drop(['fraud', 'c24'], axis=1)\n",
    "y_train = train['fraud']\n",
    "X_test = test.drop(['fraud', 'c24'], axis=1)\n",
    "y_test = test['fraud']"
   ]
  },
  {
   "cell_type": "code",
   "execution_count": 156,
   "id": "56528ae4",
   "metadata": {},
   "outputs": [],
   "source": [
    "from imblearn.combine import *\n",
    "stt = SMOTETomek(random_state=4)\n",
    "X_stt, y_stt = stt.fit_resample(X_train, y_train)"
   ]
  },
  {
   "cell_type": "code",
   "execution_count": 157,
   "id": "1612194c",
   "metadata": {},
   "outputs": [
    {
     "data": {
      "text/plain": [
       "(22476, 22476)"
      ]
     },
     "execution_count": 157,
     "metadata": {},
     "output_type": "execute_result"
    }
   ],
   "source": [
    "len(X_stt), len(y_stt)"
   ]
  },
  {
   "cell_type": "code",
   "execution_count": 158,
   "id": "8228e110",
   "metadata": {},
   "outputs": [
    {
     "name": "stdout",
     "output_type": "stream",
     "text": [
      "Random Forest Classifier: \n",
      "=======================================\n",
      "cv_results mean: 0.9979534199723694 cv_results std: 0.0006506620966773755\n",
      "Acc :  0.9961550785004806\n",
      "              precision    recall  f1-score   support\n",
      "\n",
      "           0       1.00      1.00      1.00      3114\n",
      "           1       0.00      0.00      0.00         7\n",
      "\n",
      "    accuracy                           1.00      3121\n",
      "   macro avg       0.50      0.50      0.50      3121\n",
      "weighted avg       1.00      1.00      1.00      3121\n",
      "\n",
      "[[3109    5]\n",
      " [   7    0]]\n",
      " \n",
      "Decision Tree Classifier: \n",
      "=======================================\n",
      "cv_results mean: 0.9923474184443766 cv_results std: 0.001576733048242416\n",
      "Acc :  0.9855815443768023\n",
      "              precision    recall  f1-score   support\n",
      "\n",
      "           0       1.00      0.99      0.99      3114\n",
      "           1       0.00      0.00      0.00         7\n",
      "\n",
      "    accuracy                           0.99      3121\n",
      "   macro avg       0.50      0.49      0.50      3121\n",
      "weighted avg       1.00      0.99      0.99      3121\n",
      "\n",
      "[[3076   38]\n",
      " [   7    0]]\n",
      " \n",
      "AdaBoost Classifier: \n",
      "=======================================\n",
      "cv_results mean: 0.9184908201679208 cv_results std: 0.0033848011066264097\n",
      "Acc :  0.8827298942646588\n",
      "              precision    recall  f1-score   support\n",
      "\n",
      "           0       1.00      0.88      0.94      3114\n",
      "           1       0.00      0.00      0.00         7\n",
      "\n",
      "    accuracy                           0.88      3121\n",
      "   macro avg       0.50      0.44      0.47      3121\n",
      "weighted avg       1.00      0.88      0.94      3121\n",
      "\n",
      "[[2755  359]\n",
      " [   7    0]]\n",
      " \n",
      "Gradient Boosting Classifier: \n",
      "=======================================\n",
      "cv_results mean: 0.9600017912350219 cv_results std: 0.0021401156683367325\n",
      "Acc :  0.9314322332585709\n",
      "              precision    recall  f1-score   support\n",
      "\n",
      "           0       1.00      0.93      0.96      3114\n",
      "           1       0.00      0.00      0.00         7\n",
      "\n",
      "    accuracy                           0.93      3121\n",
      "   macro avg       0.50      0.47      0.48      3121\n",
      "weighted avg       1.00      0.93      0.96      3121\n",
      "\n",
      "[[2907  207]\n",
      " [   7    0]]\n",
      " \n",
      "Logistic Regression: \n",
      "=======================================\n",
      "cv_results mean: 0.5159714431614407 cv_results std: 0.04916373478818651\n",
      "Acc :  0.3713553348285806\n",
      "              precision    recall  f1-score   support\n",
      "\n",
      "           0       1.00      0.37      0.54      3114\n",
      "           1       0.00      0.71      0.01         7\n",
      "\n",
      "    accuracy                           0.37      3121\n",
      "   macro avg       0.50      0.54      0.27      3121\n",
      "weighted avg       1.00      0.37      0.54      3121\n",
      "\n",
      "[[1154 1960]\n",
      " [   2    5]]\n",
      " \n",
      "Light GBM Classifier: \n",
      "=======================================\n",
      "cv_results mean: 0.9950614067033754 cv_results std: 0.0004953813426616863\n",
      "Acc :  0.9859019545017622\n",
      "              precision    recall  f1-score   support\n",
      "\n",
      "           0       1.00      0.99      0.99      3114\n",
      "           1       0.00      0.00      0.00         7\n",
      "\n",
      "    accuracy                           0.99      3121\n",
      "   macro avg       0.50      0.49      0.50      3121\n",
      "weighted avg       1.00      0.99      0.99      3121\n",
      "\n",
      "[[3077   37]\n",
      " [   7    0]]\n",
      " \n"
     ]
    }
   ],
   "source": [
    "results(X_stt, y_stt)"
   ]
  },
  {
   "cell_type": "markdown",
   "id": "9da0d67a",
   "metadata": {},
   "source": [
    "### SMOTEENN"
   ]
  },
  {
   "cell_type": "code",
   "execution_count": 159,
   "id": "7f8b3f46",
   "metadata": {},
   "outputs": [],
   "source": [
    "train = data[data['c24'] == 0]\n",
    "test = data[data['c24'] == 1]\n",
    "X = data.drop(['fraud', 'c24'], axis=1)\n",
    "y = data['fraud']\n",
    "X_train = train.drop(['fraud', 'c24'], axis=1)\n",
    "y_train = train['fraud']\n",
    "X_test = test.drop(['fraud', 'c24'], axis=1)\n",
    "y_test = test['fraud']"
   ]
  },
  {
   "cell_type": "code",
   "execution_count": 160,
   "id": "3981c84c",
   "metadata": {},
   "outputs": [],
   "source": [
    "from imblearn.combine import SMOTEENN \n",
    "\n",
    "sme = SMOTEENN(random_state=42)\n",
    "X_sme, y_sme = sme.fit_resample(X_train, y_train)"
   ]
  },
  {
   "cell_type": "code",
   "execution_count": 161,
   "id": "0ef00237",
   "metadata": {},
   "outputs": [
    {
     "data": {
      "text/plain": [
       "(15812, 15812)"
      ]
     },
     "execution_count": 161,
     "metadata": {},
     "output_type": "execute_result"
    }
   ],
   "source": [
    "len(X_sme), len(y_sme)"
   ]
  },
  {
   "cell_type": "code",
   "execution_count": 162,
   "id": "27614bfe",
   "metadata": {},
   "outputs": [
    {
     "name": "stdout",
     "output_type": "stream",
     "text": [
      "Random Forest Classifier: \n",
      "=======================================\n",
      "cv_results mean: 0.9975967778930283 cv_results std: 0.0008146355849124103\n",
      "Acc :  0.9958346683755207\n",
      "              precision    recall  f1-score   support\n",
      "\n",
      "           0       1.00      1.00      1.00      3114\n",
      "           1       0.00      0.00      0.00         7\n",
      "\n",
      "    accuracy                           1.00      3121\n",
      "   macro avg       0.50      0.50      0.50      3121\n",
      "weighted avg       1.00      1.00      1.00      3121\n",
      "\n",
      "[[3108    6]\n",
      " [   7    0]]\n",
      " \n",
      "Decision Tree Classifier: \n",
      "=======================================\n",
      "cv_results mean: 0.9926639114540496 cv_results std: 0.001474324129021288\n",
      "Acc :  0.9762896507529638\n",
      "              precision    recall  f1-score   support\n",
      "\n",
      "           0       1.00      0.98      0.99      3114\n",
      "           1       0.00      0.00      0.00         7\n",
      "\n",
      "    accuracy                           0.98      3121\n",
      "   macro avg       0.50      0.49      0.49      3121\n",
      "weighted avg       1.00      0.98      0.99      3121\n",
      "\n",
      "[[3047   67]\n",
      " [   7    0]]\n",
      " \n",
      "AdaBoost Classifier: \n",
      "=======================================\n",
      "cv_results mean: 0.9535795667129202 cv_results std: 0.001701234258034061\n",
      "Acc :  0.9099647548862544\n",
      "              precision    recall  f1-score   support\n",
      "\n",
      "           0       1.00      0.91      0.95      3114\n",
      "           1       0.00      0.00      0.00         7\n",
      "\n",
      "    accuracy                           0.91      3121\n",
      "   macro avg       0.50      0.46      0.48      3121\n",
      "weighted avg       1.00      0.91      0.95      3121\n",
      "\n",
      "[[2840  274]\n",
      " [   7    0]]\n",
      " \n",
      "Gradient Boosting Classifier: \n",
      "=======================================\n",
      "cv_results mean: 0.9736278479245819 cv_results std: 0.0021004667081200128\n",
      "Acc :  0.9487343800064082\n",
      "              precision    recall  f1-score   support\n",
      "\n",
      "           0       1.00      0.95      0.97      3114\n",
      "           1       0.00      0.00      0.00         7\n",
      "\n",
      "    accuracy                           0.95      3121\n",
      "   macro avg       0.50      0.48      0.49      3121\n",
      "weighted avg       1.00      0.95      0.97      3121\n",
      "\n",
      "[[2961  153]\n",
      " [   7    0]]\n",
      " \n",
      "Logistic Regression: \n",
      "=======================================\n",
      "cv_results mean: 0.46401521946014385 cv_results std: 0.009321596491426208\n",
      "Acc :  0.2669016340916373\n",
      "              precision    recall  f1-score   support\n",
      "\n",
      "           0       1.00      0.27      0.42      3114\n",
      "           1       0.00      0.71      0.00         7\n",
      "\n",
      "    accuracy                           0.27      3121\n",
      "   macro avg       0.50      0.49      0.21      3121\n",
      "weighted avg       1.00      0.27      0.42      3121\n",
      "\n",
      "[[ 828 2286]\n",
      " [   2    5]]\n",
      " \n",
      "Light GBM Classifier: \n",
      "=======================================\n",
      "cv_results mean: 0.9959524490856586 cv_results std: 0.0008340576637458878\n",
      "Acc :  0.9849407241268824\n",
      "              precision    recall  f1-score   support\n",
      "\n",
      "           0       1.00      0.99      0.99      3114\n",
      "           1       0.00      0.00      0.00         7\n",
      "\n",
      "    accuracy                           0.98      3121\n",
      "   macro avg       0.50      0.49      0.50      3121\n",
      "weighted avg       1.00      0.98      0.99      3121\n",
      "\n",
      "[[3074   40]\n",
      " [   7    0]]\n",
      " \n"
     ]
    }
   ],
   "source": [
    "results(X_sme, y_sme)"
   ]
  }
 ],
 "metadata": {
  "kernelspec": {
   "display_name": "Python 3",
   "language": "python",
   "name": "python3"
  },
  "language_info": {
   "codemirror_mode": {
    "name": "ipython",
    "version": 3
   },
   "file_extension": ".py",
   "mimetype": "text/x-python",
   "name": "python",
   "nbconvert_exporter": "python",
   "pygments_lexer": "ipython3",
   "version": "3.8.8"
  }
 },
 "nbformat": 4,
 "nbformat_minor": 5
}

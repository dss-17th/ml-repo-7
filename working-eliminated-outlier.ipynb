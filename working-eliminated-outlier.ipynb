{
 "cells": [
  {
   "cell_type": "code",
   "execution_count": 15,
   "id": "f4f8fbac",
   "metadata": {},
   "outputs": [],
   "source": [
    "import pandas as pd\n",
    "import numpy as np\n",
    "import matplotlib.pyplot as plt\n",
    "import seaborn as sns\n",
    "import matplotlib as mpl\n",
    "import warnings\n",
    "warnings.filterwarnings('ignore')\n",
    "from matplotlib import rc\n",
    "rc('font', family='AppleGothic')\n",
    "plt.rcParams['axes.unicode_minus'] = False"
   ]
  },
  {
   "cell_type": "code",
   "execution_count": 2,
   "id": "c06302f9",
   "metadata": {},
   "outputs": [
    {
     "data": {
      "text/html": [
       "<div>\n",
       "<style scoped>\n",
       "    .dataframe tbody tr th:only-of-type {\n",
       "        vertical-align: middle;\n",
       "    }\n",
       "\n",
       "    .dataframe tbody tr th {\n",
       "        vertical-align: top;\n",
       "    }\n",
       "\n",
       "    .dataframe thead th {\n",
       "        text-align: right;\n",
       "    }\n",
       "</style>\n",
       "<table border=\"1\" class=\"dataframe\">\n",
       "  <thead>\n",
       "    <tr style=\"text-align: right;\">\n",
       "      <th></th>\n",
       "      <th>fraud</th>\n",
       "      <th>c1</th>\n",
       "      <th>c2</th>\n",
       "      <th>c3</th>\n",
       "      <th>c4</th>\n",
       "      <th>c5</th>\n",
       "      <th>c6</th>\n",
       "      <th>c7</th>\n",
       "      <th>c8</th>\n",
       "      <th>c9</th>\n",
       "      <th>...</th>\n",
       "      <th>c15</th>\n",
       "      <th>c16</th>\n",
       "      <th>c17</th>\n",
       "      <th>c18</th>\n",
       "      <th>c19</th>\n",
       "      <th>c20</th>\n",
       "      <th>c21</th>\n",
       "      <th>c22</th>\n",
       "      <th>c23</th>\n",
       "      <th>c24</th>\n",
       "    </tr>\n",
       "  </thead>\n",
       "  <tbody>\n",
       "    <tr>\n",
       "      <th>0</th>\n",
       "      <td>0</td>\n",
       "      <td>2</td>\n",
       "      <td>1</td>\n",
       "      <td>3</td>\n",
       "      <td>0</td>\n",
       "      <td>2</td>\n",
       "      <td>0</td>\n",
       "      <td>100</td>\n",
       "      <td>2</td>\n",
       "      <td>0</td>\n",
       "      <td>...</td>\n",
       "      <td>0</td>\n",
       "      <td>1</td>\n",
       "      <td>0</td>\n",
       "      <td>0</td>\n",
       "      <td>1</td>\n",
       "      <td>0</td>\n",
       "      <td>0</td>\n",
       "      <td>0</td>\n",
       "      <td>-1</td>\n",
       "      <td>0</td>\n",
       "    </tr>\n",
       "    <tr>\n",
       "      <th>1</th>\n",
       "      <td>0</td>\n",
       "      <td>1</td>\n",
       "      <td>0</td>\n",
       "      <td>4</td>\n",
       "      <td>0</td>\n",
       "      <td>4</td>\n",
       "      <td>0</td>\n",
       "      <td>0</td>\n",
       "      <td>3</td>\n",
       "      <td>1</td>\n",
       "      <td>...</td>\n",
       "      <td>0</td>\n",
       "      <td>1</td>\n",
       "      <td>1</td>\n",
       "      <td>1</td>\n",
       "      <td>2</td>\n",
       "      <td>1</td>\n",
       "      <td>1</td>\n",
       "      <td>1</td>\n",
       "      <td>0</td>\n",
       "      <td>1</td>\n",
       "    </tr>\n",
       "    <tr>\n",
       "      <th>2</th>\n",
       "      <td>0</td>\n",
       "      <td>1</td>\n",
       "      <td>0</td>\n",
       "      <td>4</td>\n",
       "      <td>1</td>\n",
       "      <td>4</td>\n",
       "      <td>0</td>\n",
       "      <td>100</td>\n",
       "      <td>3</td>\n",
       "      <td>1</td>\n",
       "      <td>...</td>\n",
       "      <td>12925040</td>\n",
       "      <td>3</td>\n",
       "      <td>1</td>\n",
       "      <td>0</td>\n",
       "      <td>2</td>\n",
       "      <td>1</td>\n",
       "      <td>1</td>\n",
       "      <td>1</td>\n",
       "      <td>0</td>\n",
       "      <td>1</td>\n",
       "    </tr>\n",
       "    <tr>\n",
       "      <th>3</th>\n",
       "      <td>0</td>\n",
       "      <td>3</td>\n",
       "      <td>1</td>\n",
       "      <td>3</td>\n",
       "      <td>0</td>\n",
       "      <td>4</td>\n",
       "      <td>0</td>\n",
       "      <td>0</td>\n",
       "      <td>2</td>\n",
       "      <td>0</td>\n",
       "      <td>...</td>\n",
       "      <td>0</td>\n",
       "      <td>3</td>\n",
       "      <td>1</td>\n",
       "      <td>0</td>\n",
       "      <td>1</td>\n",
       "      <td>0</td>\n",
       "      <td>0</td>\n",
       "      <td>0</td>\n",
       "      <td>-1</td>\n",
       "      <td>0</td>\n",
       "    </tr>\n",
       "    <tr>\n",
       "      <th>4</th>\n",
       "      <td>0</td>\n",
       "      <td>1</td>\n",
       "      <td>0</td>\n",
       "      <td>1</td>\n",
       "      <td>0</td>\n",
       "      <td>1</td>\n",
       "      <td>0</td>\n",
       "      <td>100</td>\n",
       "      <td>1</td>\n",
       "      <td>0</td>\n",
       "      <td>...</td>\n",
       "      <td>1209410</td>\n",
       "      <td>1</td>\n",
       "      <td>0</td>\n",
       "      <td>0</td>\n",
       "      <td>2</td>\n",
       "      <td>0</td>\n",
       "      <td>0</td>\n",
       "      <td>0</td>\n",
       "      <td>-1</td>\n",
       "      <td>0</td>\n",
       "    </tr>\n",
       "  </tbody>\n",
       "</table>\n",
       "<p>5 rows × 25 columns</p>\n",
       "</div>"
      ],
      "text/plain": [
       "   fraud  c1  c2  c3  c4  c5  c6   c7  c8  c9  ...       c15  c16  c17  c18  \\\n",
       "0      0   2   1   3   0   2   0  100   2   0  ...         0    1    0    0   \n",
       "1      0   1   0   4   0   4   0    0   3   1  ...         0    1    1    1   \n",
       "2      0   1   0   4   1   4   0  100   3   1  ...  12925040    3    1    0   \n",
       "3      0   3   1   3   0   4   0    0   2   0  ...         0    3    1    0   \n",
       "4      0   1   0   1   0   1   0  100   1   0  ...   1209410    1    0    0   \n",
       "\n",
       "   c19  c20  c21  c22  c23  c24  \n",
       "0    1    0    0    0   -1    0  \n",
       "1    2    1    1    1    0    1  \n",
       "2    2    1    1    1    0    1  \n",
       "3    1    0    0    0   -1    0  \n",
       "4    2    0    0    0   -1    0  \n",
       "\n",
       "[5 rows x 25 columns]"
      ]
     },
     "execution_count": 2,
     "metadata": {},
     "output_type": "execute_result"
    }
   ],
   "source": [
    "data = pd.read_csv('ins_fraud.csv')\n",
    "data.head()"
   ]
  },
  {
   "cell_type": "code",
   "execution_count": 3,
   "id": "f6f4f67e",
   "metadata": {},
   "outputs": [],
   "source": [
    "data = data[data['c6']==0] # c6 법인이용 개인 고객 = 0 / 법인 = 1 / 법인 구성원 = 2\n",
    "data = data[(data['c7']==0) | (data['c7']==40) | (data['c7']==100)] # c7 과실율 unique = 100,   0,  90,  55,  30,  80,  40,  10,  70,  20,  60,  85,  75, 50,  15,  65,  25\n",
    "data = data[data['c12']!=5] # c12 대여기간 (2,3,4,5) : 1 / (6,7,8,9) : 2 / (10 =< x <=36) : 3 / (36+) : 4 / (0,1) : 5\n",
    "data = data[(data['c19']==1) | (data['c19']==2) | (data['c19']==3)] # c19 수리 부위 갯수\n",
    "data['c25'] = data['c15']-data['c14'] # c25 : 보험사 손해비용 - 차량수리비용"
   ]
  },
  {
   "cell_type": "markdown",
   "id": "944e2794",
   "metadata": {},
   "source": [
    "### Tomek’s link method"
   ]
  },
  {
   "cell_type": "code",
   "execution_count": 10,
   "id": "96d9fa3e",
   "metadata": {},
   "outputs": [],
   "source": [
    "X = data.drop(\"fraud\", 1)\n",
    "y = data[\"fraud\"]"
   ]
  },
  {
   "cell_type": "code",
   "execution_count": 18,
   "id": "ae01c9bb",
   "metadata": {},
   "outputs": [],
   "source": [
    "from imblearn.under_sampling import TomekLinks\n",
    "tom = TomekLinks()\n",
    "X_tom, y_tom = tom.fit_resample(X, y)"
   ]
  },
  {
   "cell_type": "code",
   "execution_count": 19,
   "id": "b3b8eba4",
   "metadata": {},
   "outputs": [
    {
     "data": {
      "text/plain": [
       "(391, 391)"
      ]
     },
     "execution_count": 19,
     "metadata": {},
     "output_type": "execute_result"
    }
   ],
   "source": [
    "len(X_tom), len(y_tom)"
   ]
  },
  {
   "cell_type": "code",
   "execution_count": 20,
   "id": "ec1ccb14",
   "metadata": {},
   "outputs": [
    {
     "name": "stdout",
     "output_type": "stream",
     "text": [
      "273\n",
      "118\n",
      "273\n",
      "118\n"
     ]
    }
   ],
   "source": [
    "from sklearn.model_selection import train_test_split\n",
    " \n",
    "X = X_tom\n",
    "y = y_tom\n",
    " \n",
    "# 테스트 데이터 30%\n",
    "X_train, X_test, y_train, y_test = train_test_split(X, y, test_size=0.3, stratify = y)\n",
    "print(len(X_train))\n",
    "print(len(X_test))\n",
    "print(len(y_train))\n",
    "print(len(y_test))"
   ]
  },
  {
   "cell_type": "code",
   "execution_count": 21,
   "id": "98247c46",
   "metadata": {},
   "outputs": [
    {
     "name": "stdout",
     "output_type": "stream",
     "text": [
      "정확도 : 0.8898305084745762\n",
      "precision 0.0\n",
      "recall 0.0\n",
      "f1 0.0\n"
     ]
    }
   ],
   "source": [
    "from sklearn.ensemble import RandomForestClassifier\n",
    "from sklearn import metrics    \n",
    " \n",
    "# 학습 진행\n",
    "forest = RandomForestClassifier(n_estimators=100)\n",
    "forest.fit(X_train, y_train)\n",
    " \n",
    "# 예측\n",
    "y_pred = forest.predict(X_test)\n",
    " \n",
    "# 정확도 확인\n",
    "print('정확도 :', metrics.accuracy_score(y_test, y_pred))\n",
    "\n",
    "print('precision', metrics.precision_score(y_test, y_pred))\n",
    "\n",
    "print('recall', metrics.recall_score(y_test, y_pred))\n",
    "\n",
    "print('f1', metrics.f1_score(y_test, y_pred))"
   ]
  },
  {
   "cell_type": "markdown",
   "id": "980f13b2",
   "metadata": {},
   "source": [
    "### Condensed Nearest Neighbour"
   ]
  },
  {
   "cell_type": "code",
   "execution_count": 22,
   "id": "c2a6b3d7",
   "metadata": {},
   "outputs": [],
   "source": [
    "X = data.drop(\"fraud\", 1)\n",
    "y = data[\"fraud\"]"
   ]
  },
  {
   "cell_type": "code",
   "execution_count": 23,
   "id": "d6ec7cda",
   "metadata": {},
   "outputs": [],
   "source": [
    "from imblearn.under_sampling import CondensedNearestNeighbour\n",
    "cnn = CondensedNearestNeighbour(random_state=42)\n",
    "X_cnn, y_cnn = cnn.fit_resample(X, y)"
   ]
  },
  {
   "cell_type": "code",
   "execution_count": 25,
   "id": "b423576c",
   "metadata": {},
   "outputs": [
    {
     "name": "stdout",
     "output_type": "stream",
     "text": [
      "299\n",
      "129\n",
      "299\n",
      "129\n"
     ]
    }
   ],
   "source": [
    "from sklearn.model_selection import train_test_split\n",
    " \n",
    "X = X_cnn\n",
    "y = y_cnn\n",
    " \n",
    "# 테스트 데이터 30%\n",
    "X_train, X_test, y_train, y_test = train_test_split(X, y, test_size=0.3, stratify = y)\n",
    "print(len(X_train))\n",
    "print(len(X_test))\n",
    "print(len(y_train))\n",
    "print(len(y_test))"
   ]
  },
  {
   "cell_type": "code",
   "execution_count": 26,
   "id": "c39642bf",
   "metadata": {},
   "outputs": [
    {
     "name": "stdout",
     "output_type": "stream",
     "text": [
      "정확도 : 0.8992248062015504\n",
      "precision 0.0\n",
      "recall 0.0\n",
      "f1 0.0\n"
     ]
    }
   ],
   "source": [
    "from sklearn.ensemble import RandomForestClassifier\n",
    "from sklearn import metrics    \n",
    " \n",
    "# 학습 진행\n",
    "forest = RandomForestClassifier(n_estimators=100)\n",
    "forest.fit(X_train, y_train)\n",
    " \n",
    "# 예측\n",
    "y_pred = forest.predict(X_test)\n",
    "\n",
    "# 정확도 확인\n",
    "print('정확도 :', metrics.accuracy_score(y_test, y_pred))\n",
    "\n",
    "print('precision', metrics.precision_score(y_test, y_pred))\n",
    "\n",
    "print('recall', metrics.recall_score(y_test, y_pred))\n",
    "\n",
    "print('f1', metrics.f1_score(y_test, y_pred))"
   ]
  },
  {
   "cell_type": "markdown",
   "id": "c74b1d96",
   "metadata": {},
   "source": [
    "### One Sided Selection"
   ]
  },
  {
   "cell_type": "code",
   "execution_count": 27,
   "id": "ec62d9fa",
   "metadata": {},
   "outputs": [],
   "source": [
    "X = data.drop(\"fraud\", 1)\n",
    "y = data[\"fraud\"]"
   ]
  },
  {
   "cell_type": "code",
   "execution_count": 28,
   "id": "07c9d7ba",
   "metadata": {},
   "outputs": [],
   "source": [
    "from imblearn.under_sampling import OneSidedSelection\n",
    "oss = OneSidedSelection(random_state=0)\n",
    "X_oss, y_oss = oss.fit_resample(X, y)"
   ]
  },
  {
   "cell_type": "code",
   "execution_count": 29,
   "id": "a9cab8c9",
   "metadata": {},
   "outputs": [
    {
     "data": {
      "text/plain": [
       "(13601, 13601)"
      ]
     },
     "execution_count": 29,
     "metadata": {},
     "output_type": "execute_result"
    }
   ],
   "source": [
    "len(X_oss), len(y_oss)"
   ]
  },
  {
   "cell_type": "code",
   "execution_count": 30,
   "id": "be6c7034",
   "metadata": {},
   "outputs": [
    {
     "name": "stdout",
     "output_type": "stream",
     "text": [
      "9520\n",
      "4081\n",
      "9520\n",
      "4081\n"
     ]
    }
   ],
   "source": [
    "from sklearn.model_selection import train_test_split\n",
    " \n",
    "X = X_oss\n",
    "y = y_oss\n",
    " \n",
    "# 테스트 데이터 30%\n",
    "X_train, X_test, y_train, y_test = train_test_split(X, y, test_size=0.3, stratify = y)\n",
    "print(len(X_train))\n",
    "print(len(X_test))\n",
    "print(len(y_train))\n",
    "print(len(y_test))"
   ]
  },
  {
   "cell_type": "code",
   "execution_count": 31,
   "id": "ec2cac87",
   "metadata": {},
   "outputs": [
    {
     "name": "stdout",
     "output_type": "stream",
     "text": [
      "정확도 : 0.9970595442293555\n",
      "precision 0.0\n",
      "recall 0.0\n",
      "f1 0.0\n"
     ]
    }
   ],
   "source": [
    "from sklearn.ensemble import RandomForestClassifier\n",
    "from sklearn import metrics    \n",
    " \n",
    "# 학습 진행\n",
    "forest = RandomForestClassifier(n_estimators=100)\n",
    "forest.fit(X_train, y_train)\n",
    " \n",
    "# 예측\n",
    "y_pred = forest.predict(X_test)\n",
    " \n",
    "# 정확도 확인\n",
    "print('정확도 :', metrics.accuracy_score(y_test, y_pred))\n",
    "\n",
    "print('precision', metrics.precision_score(y_test, y_pred))\n",
    "\n",
    "print('recall', metrics.recall_score(y_test, y_pred))\n",
    "\n",
    "print('f1', metrics.f1_score(y_test, y_pred))"
   ]
  },
  {
   "cell_type": "markdown",
   "id": "d6e6c629",
   "metadata": {},
   "source": [
    "### Edited Nearest Neighbours"
   ]
  },
  {
   "cell_type": "code",
   "execution_count": 32,
   "id": "4a09a97d",
   "metadata": {},
   "outputs": [],
   "source": [
    "X = data.drop(\"fraud\", 1)\n",
    "y = data[\"fraud\"]"
   ]
  },
  {
   "cell_type": "code",
   "execution_count": 33,
   "id": "dd35dd4b",
   "metadata": {},
   "outputs": [],
   "source": [
    "from imblearn.under_sampling import EditedNearestNeighbours\n",
    "enn = EditedNearestNeighbours(kind_sel=\"all\", n_neighbors=5)\n",
    "X_enn, y_enn = enn.fit_resample(X, y)"
   ]
  },
  {
   "cell_type": "code",
   "execution_count": 34,
   "id": "1f03d202",
   "metadata": {},
   "outputs": [
    {
     "data": {
      "text/plain": [
       "(13743, 13743)"
      ]
     },
     "execution_count": 34,
     "metadata": {},
     "output_type": "execute_result"
    }
   ],
   "source": [
    "len(X_enn), len(y_enn)"
   ]
  },
  {
   "cell_type": "code",
   "execution_count": 35,
   "id": "66c744fb",
   "metadata": {},
   "outputs": [
    {
     "name": "stdout",
     "output_type": "stream",
     "text": [
      "9620\n",
      "4123\n",
      "9620\n",
      "4123\n"
     ]
    }
   ],
   "source": [
    "from sklearn.model_selection import train_test_split\n",
    " \n",
    "X = X_enn\n",
    "y = y_enn\n",
    " \n",
    "# 테스트 데이터 30%\n",
    "X_train, X_test, y_train, y_test = train_test_split(X, y, test_size=0.3, stratify = y)\n",
    "print(len(X_train))\n",
    "print(len(X_test))\n",
    "print(len(y_train))\n",
    "print(len(y_test))"
   ]
  },
  {
   "cell_type": "code",
   "execution_count": 36,
   "id": "a990737c",
   "metadata": {},
   "outputs": [
    {
     "name": "stdout",
     "output_type": "stream",
     "text": [
      "정확도 : 0.9968469560999272\n",
      "precision 0.0\n",
      "recall 0.0\n",
      "f1 0.0\n"
     ]
    }
   ],
   "source": [
    "from sklearn.ensemble import RandomForestClassifier\n",
    "from sklearn import metrics    \n",
    " \n",
    "# 학습 진행\n",
    "forest = RandomForestClassifier(n_estimators=100)\n",
    "forest.fit(X_train, y_train)\n",
    " \n",
    "# 예측\n",
    "y_pred = forest.predict(X_test)\n",
    "\n",
    " \n",
    "# 정확도 확인\n",
    "print('정확도 :', metrics.accuracy_score(y_test, y_pred))\n",
    "\n",
    "print('precision', metrics.precision_score(y_test, y_pred))\n",
    "\n",
    "print('recall', metrics.recall_score(y_test, y_pred))\n",
    "\n",
    "print('f1', metrics.f1_score(y_test, y_pred))"
   ]
  },
  {
   "cell_type": "markdown",
   "id": "cc918c60",
   "metadata": {},
   "source": [
    "### Neighbourhood Cleaning Rule"
   ]
  },
  {
   "cell_type": "code",
   "execution_count": 37,
   "id": "78c0a7e8",
   "metadata": {},
   "outputs": [],
   "source": [
    "X = data.drop(\"fraud\", 1)\n",
    "y = data[\"fraud\"]"
   ]
  },
  {
   "cell_type": "code",
   "execution_count": 38,
   "id": "741a8055",
   "metadata": {},
   "outputs": [],
   "source": [
    "from imblearn.under_sampling import NeighbourhoodCleaningRule\n",
    "ncr = NeighbourhoodCleaningRule(kind_sel=\"all\", n_neighbors=5)\n",
    "X_ncr, y_ncr = ncr.fit_resample(X, y)"
   ]
  },
  {
   "cell_type": "code",
   "execution_count": 39,
   "id": "1431445c",
   "metadata": {},
   "outputs": [
    {
     "data": {
      "text/plain": [
       "(13731, 13731)"
      ]
     },
     "execution_count": 39,
     "metadata": {},
     "output_type": "execute_result"
    }
   ],
   "source": [
    "len(X_ncr), len(y_ncr)"
   ]
  },
  {
   "cell_type": "code",
   "execution_count": 40,
   "id": "49fee53f",
   "metadata": {},
   "outputs": [
    {
     "name": "stdout",
     "output_type": "stream",
     "text": [
      "9611\n",
      "4120\n",
      "9611\n",
      "4120\n"
     ]
    }
   ],
   "source": [
    "from sklearn.model_selection import train_test_split\n",
    " \n",
    "X = X_ncr\n",
    "y = y_ncr\n",
    " \n",
    "# 테스트 데이터 30%\n",
    "X_train, X_test, y_train, y_test = train_test_split(X, y, test_size=0.3, stratify = y)\n",
    "print(len(X_train))\n",
    "print(len(X_test))\n",
    "print(len(y_train))\n",
    "print(len(y_test))"
   ]
  },
  {
   "cell_type": "code",
   "execution_count": 41,
   "id": "3145dbc2",
   "metadata": {},
   "outputs": [
    {
     "name": "stdout",
     "output_type": "stream",
     "text": [
      "정확도 : 0.9970873786407767\n",
      "precision 0.0\n",
      "recall 0.0\n",
      "f1 0.0\n"
     ]
    }
   ],
   "source": [
    "from sklearn.ensemble import RandomForestClassifier\n",
    "from sklearn import metrics    \n",
    " \n",
    "# 학습 진행\n",
    "forest = RandomForestClassifier(n_estimators=100)\n",
    "forest.fit(X_train, y_train)\n",
    " \n",
    "# 예측\n",
    "y_pred = forest.predict(X_test)\n",
    " \n",
    "# 정확도 확인\n",
    "print('정확도 :', metrics.accuracy_score(y_test, y_pred))\n",
    "\n",
    "print('precision', metrics.precision_score(y_test, y_pred))\n",
    "\n",
    "print('recall', metrics.recall_score(y_test, y_pred))\n",
    "\n",
    "print('f1', metrics.f1_score(y_test, y_pred))"
   ]
  },
  {
   "cell_type": "markdown",
   "id": "7b5a9ec2",
   "metadata": {},
   "source": [
    "## 복합 샘플링\n",
    "\n",
    "- SMOTEENN: SMOTE + ENN\n",
    "- SMOTETomek: SMOTE + Tomek"
   ]
  },
  {
   "cell_type": "code",
   "execution_count": 42,
   "id": "f6927e8c",
   "metadata": {},
   "outputs": [],
   "source": [
    "from imblearn.over_sampling import *"
   ]
  },
  {
   "cell_type": "markdown",
   "id": "7aa34609",
   "metadata": {},
   "source": [
    "### SMOTEENN"
   ]
  },
  {
   "cell_type": "code",
   "execution_count": 43,
   "id": "b583c28e",
   "metadata": {},
   "outputs": [],
   "source": [
    "X = data.drop(\"fraud\", 1)\n",
    "y = data[\"fraud\"]"
   ]
  },
  {
   "cell_type": "code",
   "execution_count": 44,
   "id": "cae63a7a",
   "metadata": {},
   "outputs": [],
   "source": [
    "from imblearn.combine import *\n",
    "stn = SMOTEENN(random_state=0)\n",
    "X_stn, y_stn = stn.fit_resample(X, y)"
   ]
  },
  {
   "cell_type": "code",
   "execution_count": 45,
   "id": "8db4dfab",
   "metadata": {},
   "outputs": [
    {
     "data": {
      "text/plain": [
       "(17968, 17968)"
      ]
     },
     "execution_count": 45,
     "metadata": {},
     "output_type": "execute_result"
    }
   ],
   "source": [
    "len(X_stn), len(y_stn)"
   ]
  },
  {
   "cell_type": "code",
   "execution_count": 46,
   "id": "eb2409bd",
   "metadata": {},
   "outputs": [
    {
     "name": "stdout",
     "output_type": "stream",
     "text": [
      "12577\n",
      "5391\n",
      "12577\n",
      "5391\n"
     ]
    }
   ],
   "source": [
    "from sklearn.model_selection import train_test_split\n",
    " \n",
    "X = X_stn\n",
    "y = y_stn\n",
    " \n",
    "# 테스트 데이터 30%\n",
    "X_train, X_test, y_train, y_test = train_test_split(X, y, test_size=0.3, stratify = y)\n",
    "print(len(X_train))\n",
    "print(len(X_test))\n",
    "print(len(y_train))\n",
    "print(len(y_test))"
   ]
  },
  {
   "cell_type": "code",
   "execution_count": 47,
   "id": "2875ba3d",
   "metadata": {},
   "outputs": [
    {
     "name": "stdout",
     "output_type": "stream",
     "text": [
      "정확도 : 0.9977740678909294\n",
      "precision 0.9985760056959773\n",
      "recall 0.9971560611446854\n",
      "f1 0.9978655282817502\n"
     ]
    }
   ],
   "source": [
    "from sklearn.ensemble import RandomForestClassifier\n",
    "from sklearn import metrics    \n",
    " \n",
    "# 학습 진행\n",
    "forest = RandomForestClassifier(n_estimators=100)\n",
    "forest.fit(X_train, y_train)\n",
    " \n",
    "# 예측\n",
    "y_pred = forest.predict(X_test)\n",
    " \n",
    "# 정확도 확인\n",
    "print('정확도 :', metrics.accuracy_score(y_test, y_pred))\n",
    "\n",
    "print('precision', metrics.precision_score(y_test, y_pred))\n",
    "\n",
    "print('recall', metrics.recall_score(y_test, y_pred))\n",
    "\n",
    "print('f1', metrics.f1_score(y_test, y_pred))"
   ]
  },
  {
   "cell_type": "code",
   "execution_count": 48,
   "id": "297903a9",
   "metadata": {},
   "outputs": [
    {
     "data": {
      "text/plain": [
       "array([[2574,    4],\n",
       "       [   8, 2805]])"
      ]
     },
     "execution_count": 48,
     "metadata": {},
     "output_type": "execute_result"
    }
   ],
   "source": [
    "from sklearn.metrics import confusion_matrix\n",
    "confusion_matrix(y_test, y_pred)"
   ]
  },
  {
   "cell_type": "code",
   "execution_count": 49,
   "id": "d73858ad",
   "metadata": {},
   "outputs": [],
   "source": [
    "y = data[\"fraud\"]"
   ]
  },
  {
   "cell_type": "code",
   "execution_count": 50,
   "id": "6eb8070d",
   "metadata": {
    "scrolled": true
   },
   "outputs": [],
   "source": [
    "fraud = data.drop(\"fraud\", 1)"
   ]
  },
  {
   "cell_type": "code",
   "execution_count": 51,
   "id": "6559f78a",
   "metadata": {},
   "outputs": [
    {
     "data": {
      "text/plain": [
       "array([[13864,    31],\n",
       "       [   11,    30]])"
      ]
     },
     "execution_count": 51,
     "metadata": {},
     "output_type": "execute_result"
    }
   ],
   "source": [
    "y_pred = forest.predict(fraud)\n",
    "confusion_matrix(y, y_pred)"
   ]
  },
  {
   "cell_type": "code",
   "execution_count": 52,
   "id": "bee4d606",
   "metadata": {},
   "outputs": [
    {
     "name": "stdout",
     "output_type": "stream",
     "text": [
      "정확도 : 0.9969862227324914\n",
      "precision 0.4918032786885246\n",
      "recall 0.7317073170731707\n",
      "f1 0.5882352941176471\n"
     ]
    }
   ],
   "source": [
    "print('정확도 :', metrics.accuracy_score(y, y_pred))\n",
    "\n",
    "print('precision', metrics.precision_score(y, y_pred))\n",
    "\n",
    "print('recall', metrics.recall_score(y, y_pred))\n",
    "\n",
    "print('f1', metrics.f1_score(y, y_pred))"
   ]
  },
  {
   "cell_type": "markdown",
   "id": "19449746",
   "metadata": {},
   "source": [
    "### SMOTETomek"
   ]
  },
  {
   "cell_type": "code",
   "execution_count": 53,
   "id": "38d22cbb",
   "metadata": {},
   "outputs": [],
   "source": [
    "X = data.drop(\"fraud\", 1)\n",
    "y = data[\"fraud\"]"
   ]
  },
  {
   "cell_type": "code",
   "execution_count": 54,
   "id": "56528ae4",
   "metadata": {},
   "outputs": [],
   "source": [
    "from imblearn.combine import *\n",
    "stt = SMOTETomek(random_state=4)\n",
    "X_stt, y_stt = stt.fit_resample(X, y)"
   ]
  },
  {
   "cell_type": "code",
   "execution_count": 55,
   "id": "992d1538",
   "metadata": {},
   "outputs": [
    {
     "data": {
      "text/plain": [
       "(24662, 24662)"
      ]
     },
     "execution_count": 55,
     "metadata": {},
     "output_type": "execute_result"
    }
   ],
   "source": [
    "len(X_stt), len(y_stt)"
   ]
  },
  {
   "cell_type": "code",
   "execution_count": 56,
   "id": "11cd2705",
   "metadata": {},
   "outputs": [
    {
     "name": "stdout",
     "output_type": "stream",
     "text": [
      "17263\n",
      "7399\n",
      "17263\n",
      "7399\n"
     ]
    }
   ],
   "source": [
    "from sklearn.model_selection import train_test_split\n",
    " \n",
    "X = X_stt\n",
    "y = y_stt\n",
    " \n",
    "# 테스트 데이터 30%\n",
    "X_train, X_test, y_train, y_test = train_test_split(X, y, test_size=0.3, stratify = y)\n",
    "print(len(X_train))\n",
    "print(len(X_test))\n",
    "print(len(y_train))\n",
    "print(len(y_test))"
   ]
  },
  {
   "cell_type": "code",
   "execution_count": 57,
   "id": "e9e19fbe",
   "metadata": {},
   "outputs": [
    {
     "name": "stdout",
     "output_type": "stream",
     "text": [
      "정확도 : 0.9977023922151642\n",
      "precision 0.9972994869025115\n",
      "recall 0.9981081081081081\n",
      "f1 0.997703633662029\n"
     ]
    }
   ],
   "source": [
    "from sklearn.ensemble import RandomForestClassifier\n",
    "from sklearn import metrics    \n",
    " \n",
    "# 학습 진행\n",
    "forest = RandomForestClassifier(n_estimators=100)\n",
    "forest.fit(X_train, y_train)\n",
    " \n",
    "# 예측\n",
    "y_pred = forest.predict(X_test)\n",
    " \n",
    "# 정확도 확인\n",
    "print('정확도 :', metrics.accuracy_score(y_test, y_pred))\n",
    "\n",
    "print('precision', metrics.precision_score(y_test, y_pred))\n",
    "\n",
    "print('recall', metrics.recall_score(y_test, y_pred))\n",
    "\n",
    "print('f1', metrics.f1_score(y_test, y_pred))"
   ]
  },
  {
   "cell_type": "code",
   "execution_count": 58,
   "id": "b6de22d1",
   "metadata": {},
   "outputs": [
    {
     "data": {
      "text/plain": [
       "array([[3689,   10],\n",
       "       [   7, 3693]])"
      ]
     },
     "execution_count": 58,
     "metadata": {},
     "output_type": "execute_result"
    }
   ],
   "source": [
    "from sklearn.metrics import confusion_matrix\n",
    "confusion_matrix(y_test, y_pred)"
   ]
  },
  {
   "cell_type": "code",
   "execution_count": 59,
   "id": "bd9c5dff",
   "metadata": {},
   "outputs": [],
   "source": [
    "y = data[\"fraud\"]"
   ]
  },
  {
   "cell_type": "code",
   "execution_count": 60,
   "id": "1678adf3",
   "metadata": {
    "scrolled": true
   },
   "outputs": [],
   "source": [
    "fraud = data.drop(\"fraud\", 1)"
   ]
  },
  {
   "cell_type": "code",
   "execution_count": 61,
   "id": "ac25316d",
   "metadata": {},
   "outputs": [
    {
     "data": {
      "text/plain": [
       "array([[13879,    16],\n",
       "       [   10,    31]])"
      ]
     },
     "execution_count": 61,
     "metadata": {},
     "output_type": "execute_result"
    }
   ],
   "source": [
    "y_pred = forest.predict(fraud)\n",
    "confusion_matrix(y, y_pred)"
   ]
  },
  {
   "cell_type": "code",
   "execution_count": 62,
   "id": "4983b182",
   "metadata": {},
   "outputs": [
    {
     "name": "stdout",
     "output_type": "stream",
     "text": [
      "정확도 : 0.9981343283582089\n",
      "precision 0.6595744680851063\n",
      "recall 0.7560975609756098\n",
      "f1 0.7045454545454545\n"
     ]
    }
   ],
   "source": [
    "print('정확도 :', metrics.accuracy_score(y, y_pred))\n",
    "\n",
    "print('precision', metrics.precision_score(y, y_pred))\n",
    "\n",
    "print('recall', metrics.recall_score(y, y_pred))\n",
    "\n",
    "print('f1', metrics.f1_score(y, y_pred))"
   ]
  },
  {
   "cell_type": "markdown",
   "id": "79314efc",
   "metadata": {},
   "source": [
    "# OVERSAMPLING"
   ]
  },
  {
   "cell_type": "markdown",
   "id": "bd3eaadd",
   "metadata": {},
   "source": [
    "### SMOTE\n",
    "- Synthetic Minority Oversampling Technique\n",
    "- sudo pip install imbalanced-learn\n",
    "- https://machinelearningmastery.com/smote-oversampling-for-imbalanced-classification/"
   ]
  },
  {
   "cell_type": "code",
   "execution_count": 64,
   "id": "99eece6d",
   "metadata": {},
   "outputs": [
    {
     "data": {
      "image/png": "[encoded data removed]",
      "text/plain": [
       "<Figure size 432x288 with 1 Axes>"
      ]
     },
     "metadata": {
      "image/png": {
       "height": 234,
       "width": 349
      }
     },
     "output_type": "display_data"
    }
   ],
   "source": [
    "#visualizing in pie chart\n",
    "labels = 'Not Fraud', 'Fraud'\n",
    "explode = (0, 0.2)\n",
    "\n",
    "fig1, ax1 = plt.subplots()\n",
    "ax1.pie(data['fraud'].value_counts(), explode=explode, labels=labels, autopct='%1.1f%%',\n",
    "        shadow=True, startangle=60)\n",
    "ax1.axis('equal')\n",
    "plt.show()"
   ]
  },
  {
   "cell_type": "code",
   "execution_count": 65,
   "id": "7082ca64",
   "metadata": {},
   "outputs": [],
   "source": [
    "import imblearn "
   ]
  },
  {
   "cell_type": "code",
   "execution_count": 66,
   "id": "e8246dd3",
   "metadata": {},
   "outputs": [
    {
     "name": "stdout",
     "output_type": "stream",
     "text": [
      "0.8.0\n"
     ]
    }
   ],
   "source": [
    "print(imblearn.__version__)"
   ]
  },
  {
   "cell_type": "code",
   "execution_count": 67,
   "id": "2c66dadf",
   "metadata": {},
   "outputs": [],
   "source": [
    "from sklearn.model_selection import train_test_split"
   ]
  },
  {
   "cell_type": "code",
   "execution_count": 70,
   "id": "4b2d79c4",
   "metadata": {},
   "outputs": [
    {
     "data": {
      "text/plain": [
       "0        0\n",
       "1        0\n",
       "2        0\n",
       "3        0\n",
       "4        0\n",
       "        ..\n",
       "15994    0\n",
       "15995    0\n",
       "15996    0\n",
       "15997    0\n",
       "15998    0\n",
       "Name: fraud, Length: 13936, dtype: int64"
      ]
     },
     "execution_count": 70,
     "metadata": {},
     "output_type": "execute_result"
    }
   ],
   "source": [
    "data[\"fraud\"]"
   ]
  },
  {
   "cell_type": "code",
   "execution_count": 71,
   "id": "9b5f353f",
   "metadata": {},
   "outputs": [],
   "source": [
    "X = data.iloc[:,1:]\n",
    "y = data[\"fraud\"]\n",
    "\n",
    "X_train, X_test, y_train, y_test = train_test_split(X, y, test_size = 0.2, random_state=13)"
   ]
  },
  {
   "cell_type": "code",
   "execution_count": 75,
   "id": "a61e2d2c",
   "metadata": {},
   "outputs": [],
   "source": [
    "from collections import Counter"
   ]
  },
  {
   "cell_type": "code",
   "execution_count": 77,
   "id": "35832d01",
   "metadata": {},
   "outputs": [],
   "source": [
    "counter = Counter()"
   ]
  },
  {
   "cell_type": "code",
   "execution_count": 78,
   "id": "aaa84198",
   "metadata": {},
   "outputs": [
    {
     "data": {
      "text/plain": [
       "dict_items([])"
      ]
     },
     "execution_count": 78,
     "metadata": {},
     "output_type": "execute_result"
    }
   ],
   "source": [
    "counter.items()"
   ]
  },
  {
   "cell_type": "markdown",
   "id": "3dd38120",
   "metadata": {},
   "source": [
    "### SMOTE"
   ]
  },
  {
   "cell_type": "code",
   "execution_count": 81,
   "id": "5694995b",
   "metadata": {},
   "outputs": [],
   "source": [
    "X = data.iloc[:,1:]\n",
    "y = data[\"fraud\"]\n",
    "\n",
    "X_train, X_test, y_train, y_test = train_test_split(X, y, test_size = 0.2, random_state=13)"
   ]
  },
  {
   "cell_type": "code",
   "execution_count": 82,
   "id": "f330fd3a",
   "metadata": {},
   "outputs": [],
   "source": [
    "from imblearn.over_sampling import SMOTE\n",
    "\n",
    "smote = SMOTE(random_state=42)\n",
    "X_smote, y_smote = smote.fit_resample(X, y)"
   ]
  },
  {
   "cell_type": "code",
   "execution_count": 83,
   "id": "1d2d6750",
   "metadata": {},
   "outputs": [
    {
     "data": {
      "text/plain": [
       "(27790, 27790)"
      ]
     },
     "execution_count": 83,
     "metadata": {},
     "output_type": "execute_result"
    }
   ],
   "source": [
    "len(X_smote), len(y_smote)"
   ]
  },
  {
   "cell_type": "code",
   "execution_count": 84,
   "id": "38997573",
   "metadata": {},
   "outputs": [
    {
     "data": {
      "image/png": "[encoded data removed]",
      "text/plain": [
       "<Figure size 432x288 with 1 Axes>"
      ]
     },
     "metadata": {
      "image/png": {
       "height": 231,
       "width": 349
      }
     },
     "output_type": "display_data"
    }
   ],
   "source": [
    "labels = 'Not Fraud', 'Fraud'\n",
    "explode = (0, 0)\n",
    "\n",
    "fig1, ax1 = plt.subplots()\n",
    "ax1.pie(y_smote.value_counts(), explode=explode, labels=labels, autopct='%1.1f%%',\n",
    "        shadow=True, startangle=60)\n",
    "ax1.axis('equal')\n",
    "plt.show()"
   ]
  },
  {
   "cell_type": "code",
   "execution_count": 85,
   "id": "17b6968c",
   "metadata": {},
   "outputs": [],
   "source": [
    "from sklearn.model_selection import train_test_split\n",
    "x_train,x_test,y_train,y_test = train_test_split(X_smote, y_smote, test_size = 0.10, random_state = 31)"
   ]
  },
  {
   "cell_type": "code",
   "execution_count": 86,
   "id": "00092435",
   "metadata": {},
   "outputs": [
    {
     "data": {
      "text/plain": [
       "(25011, 2779, 25011, 2779)"
      ]
     },
     "execution_count": 86,
     "metadata": {},
     "output_type": "execute_result"
    }
   ],
   "source": [
    "len(x_train), len(x_test), len(y_train), len(y_test)"
   ]
  },
  {
   "cell_type": "code",
   "execution_count": 87,
   "id": "b0e99084",
   "metadata": {},
   "outputs": [
    {
     "data": {
      "text/plain": [
       "0.9978409499820079"
      ]
     },
     "execution_count": 87,
     "metadata": {},
     "output_type": "execute_result"
    }
   ],
   "source": [
    "# applying logistic regression\n",
    "from sklearn.linear_model import LogisticRegression\n",
    "rfc = RandomForestClassifier(random_state = 4)\n",
    "rfc.fit(x_train, y_train)\n",
    "dd = rfc.score(x_test, y_test)\n",
    "dd"
   ]
  },
  {
   "cell_type": "code",
   "execution_count": 88,
   "id": "0a355649",
   "metadata": {
    "scrolled": true
   },
   "outputs": [
    {
     "name": "stdout",
     "output_type": "stream",
     "text": [
      "              precision    recall  f1-score   support\n",
      "\n",
      "           0       1.00      1.00      1.00      1375\n",
      "           1       1.00      1.00      1.00      1404\n",
      "\n",
      "    accuracy                           1.00      2779\n",
      "   macro avg       1.00      1.00      1.00      2779\n",
      "weighted avg       1.00      1.00      1.00      2779\n",
      "\n"
     ]
    }
   ],
   "source": [
    "from sklearn.metrics import classification_report\n",
    "y_preds = rfc.predict(x_test)\n",
    "print(classification_report(y_test, y_preds))"
   ]
  },
  {
   "cell_type": "code",
   "execution_count": 89,
   "id": "5cba6880",
   "metadata": {
    "scrolled": true
   },
   "outputs": [
    {
     "data": {
      "image/png": "[encoded data removed]",
      "text/plain": [
       "<Figure size 432x288 with 1 Axes>"
      ]
     },
     "metadata": {
      "image/png": {
       "height": 281,
       "width": 389
      }
     },
     "output_type": "display_data"
    }
   ],
   "source": [
    "from sklearn.metrics import plot_roc_curve\n",
    "plot_roc_curve(rfc, x_test, y_test)\n",
    "plt.xlabel('False Positive Rate')\n",
    "plt.ylabel('True Positive Rate')\n",
    "plt.title('Receiver Operating Characteristic Curve');"
   ]
  },
  {
   "cell_type": "code",
   "execution_count": 90,
   "id": "329f70d9",
   "metadata": {},
   "outputs": [
    {
     "data": {
      "text/plain": [
       "array([[13889,     6],\n",
       "       [    2,    39]])"
      ]
     },
     "execution_count": 90,
     "metadata": {},
     "output_type": "execute_result"
    }
   ],
   "source": [
    "y_pred = rfc.predict(fraud)\n",
    "confusion_matrix(y, y_pred)"
   ]
  },
  {
   "cell_type": "code",
   "execution_count": 91,
   "id": "f3e629f5",
   "metadata": {},
   "outputs": [],
   "source": [
    "#KNeighborsClassifier? "
   ]
  },
  {
   "cell_type": "code",
   "execution_count": 92,
   "id": "755c5cc4",
   "metadata": {},
   "outputs": [],
   "source": [
    "X = data.iloc[:,1:]\n",
    "y = data[\"fraud\"]\n",
    "\n",
    "X_train, X_test, y_train, y_test = train_test_split(X, y, test_size = 0.2, random_state=13)"
   ]
  },
  {
   "cell_type": "code",
   "execution_count": 93,
   "id": "13c0069a",
   "metadata": {},
   "outputs": [],
   "source": [
    "from sklearn.preprocessing import StandardScaler"
   ]
  },
  {
   "cell_type": "code",
   "execution_count": 94,
   "id": "de1d86e0",
   "metadata": {},
   "outputs": [],
   "source": [
    "sc = StandardScaler()\n",
    "X_train = sc.fit_transform(X_smote)\n",
    "X_test = sc.transform(X_test)"
   ]
  },
  {
   "cell_type": "code",
   "execution_count": 95,
   "id": "11582d7c",
   "metadata": {},
   "outputs": [
    {
     "data": {
      "text/plain": [
       "(27790, 27790)"
      ]
     },
     "execution_count": 95,
     "metadata": {},
     "output_type": "execute_result"
    }
   ],
   "source": [
    "len(X_train), len(y_smote)"
   ]
  },
  {
   "cell_type": "code",
   "execution_count": 96,
   "id": "833afd84",
   "metadata": {
    "scrolled": true
   },
   "outputs": [
    {
     "data": {
      "text/plain": [
       "((27790, 25), (27790,))"
      ]
     },
     "execution_count": 96,
     "metadata": {},
     "output_type": "execute_result"
    }
   ],
   "source": [
    "X_train.shape, y_smote.shape"
   ]
  },
  {
   "cell_type": "code",
   "execution_count": 102,
   "id": "102acb52",
   "metadata": {
    "scrolled": true
   },
   "outputs": [],
   "source": [
    "from sklearn.neighbors import KNeighborsClassifier\n",
    "classifier = KNeighborsClassifier(n_neighbors = 7, metric = 'minkowski', p = 2)\n",
    "classifier = classifier.fit(X_train, y_smote)"
   ]
  },
  {
   "cell_type": "code",
   "execution_count": 103,
   "id": "81b053cf",
   "metadata": {},
   "outputs": [],
   "source": [
    "y_pred = classifier.predict(X_test)"
   ]
  },
  {
   "cell_type": "code",
   "execution_count": 104,
   "id": "26c49465",
   "metadata": {},
   "outputs": [
    {
     "name": "stdout",
     "output_type": "stream",
     "text": [
      "Recall Score is 0.7142857142857143\n"
     ]
    }
   ],
   "source": [
    "from sklearn.metrics import recall_score\n",
    "print(f'Recall Score is {recall_score(y_test, y_pred)}')"
   ]
  },
  {
   "cell_type": "code",
   "execution_count": 105,
   "id": "1d3450aa",
   "metadata": {},
   "outputs": [
    {
     "name": "stdout",
     "output_type": "stream",
     "text": [
      "              precision    recall  f1-score   support\n",
      "\n",
      "           0       1.00      0.96      0.98      2781\n",
      "           1       0.05      0.71      0.09         7\n",
      "\n",
      "    accuracy                           0.96      2788\n",
      "   macro avg       0.52      0.84      0.53      2788\n",
      "weighted avg       1.00      0.96      0.98      2788\n",
      "\n"
     ]
    }
   ],
   "source": [
    "print(classification_report(y_test, y_pred))"
   ]
  },
  {
   "cell_type": "code",
   "execution_count": 106,
   "id": "5f7aceb0",
   "metadata": {},
   "outputs": [],
   "source": [
    "## applying other models\n",
    "from sklearn.ensemble import (AdaBoostClassifier, GradientBoostingClassifier, RandomForestClassifier)\n",
    "from sklearn.tree import DecisionTreeClassifier\n",
    "from sklearn.linear_model import LogisticRegression\n",
    "\n",
    "models = []\n",
    "\n",
    "models.append((\"Random Forest Classifier: \", RandomForestClassifier()))\n",
    "models.append((\"Decision Tree Classifier: \", DecisionTreeClassifier()))\n",
    "models.append((\"AdaBoost Classifier: \" , AdaBoostClassifier()))\n",
    "models.append((\"Gradient Boosting Classifier: \", GradientBoostingClassifier()))\n",
    "models.append((\"Logistic Regression: \", LogisticRegression()))"
   ]
  },
  {
   "cell_type": "code",
   "execution_count": 109,
   "id": "348e6ac1",
   "metadata": {
    "collapsed": true
   },
   "outputs": [
    {
     "ename": "ValueError",
     "evalue": "Found input variables with inconsistent numbers of samples: [2788, 27790]",
     "output_type": "error",
     "traceback": [
      "\u001b[0;31m---------------------------------------------------------------------------\u001b[0m",
      "\u001b[0;31mValueError\u001b[0m                                Traceback (most recent call last)",
      "\u001b[0;32m<ipython-input-109-af9ae8910d6e>\u001b[0m in \u001b[0;36m<module>\u001b[0;34m\u001b[0m\n\u001b[1;32m      7\u001b[0m \u001b[0;32mfor\u001b[0m \u001b[0mname\u001b[0m\u001b[0;34m,\u001b[0m \u001b[0mmodel\u001b[0m \u001b[0;32min\u001b[0m \u001b[0mmodels\u001b[0m\u001b[0;34m:\u001b[0m\u001b[0;34m\u001b[0m\u001b[0;34m\u001b[0m\u001b[0m\n\u001b[1;32m      8\u001b[0m     \u001b[0mkfold\u001b[0m \u001b[0;34m=\u001b[0m \u001b[0mKFold\u001b[0m\u001b[0;34m(\u001b[0m\u001b[0mn_splits\u001b[0m\u001b[0;34m=\u001b[0m\u001b[0;36m5\u001b[0m\u001b[0;34m,\u001b[0m \u001b[0mrandom_state\u001b[0m\u001b[0;34m=\u001b[0m\u001b[0;36m13\u001b[0m\u001b[0;34m,\u001b[0m \u001b[0mshuffle\u001b[0m\u001b[0;34m=\u001b[0m\u001b[0;32mTrue\u001b[0m\u001b[0;34m)\u001b[0m\u001b[0;34m\u001b[0m\u001b[0;34m\u001b[0m\u001b[0m\n\u001b[0;32m----> 9\u001b[0;31m     cv_results = cross_val_score(model, X_test, y_smote,\n\u001b[0m\u001b[1;32m     10\u001b[0m                                 cv=kfold, scoring='accuracy')\n\u001b[1;32m     11\u001b[0m     \u001b[0mresults\u001b[0m\u001b[0;34m.\u001b[0m\u001b[0mappend\u001b[0m\u001b[0;34m(\u001b[0m\u001b[0mcv_results\u001b[0m\u001b[0;34m)\u001b[0m\u001b[0;34m\u001b[0m\u001b[0;34m\u001b[0m\u001b[0m\n",
      "\u001b[0;32m~/anaconda3/lib/python3.8/site-packages/sklearn/utils/validation.py\u001b[0m in \u001b[0;36minner_f\u001b[0;34m(*args, **kwargs)\u001b[0m\n\u001b[1;32m     61\u001b[0m \u001b[0;34m\u001b[0m\u001b[0m\n\u001b[1;32m     62\u001b[0m     \u001b[0mParameters\u001b[0m\u001b[0;34m\u001b[0m\u001b[0;34m\u001b[0m\u001b[0m\n\u001b[0;32m---> 63\u001b[0;31m     \u001b[0;34m-\u001b[0m\u001b[0;34m-\u001b[0m\u001b[0;34m-\u001b[0m\u001b[0;34m-\u001b[0m\u001b[0;34m-\u001b[0m\u001b[0;34m-\u001b[0m\u001b[0;34m-\u001b[0m\u001b[0;34m-\u001b[0m\u001b[0;34m-\u001b[0m\u001b[0;34m-\u001b[0m\u001b[0;34m\u001b[0m\u001b[0;34m\u001b[0m\u001b[0m\n\u001b[0m\u001b[1;32m     64\u001b[0m     \u001b[0mX\u001b[0m \u001b[0;34m:\u001b[0m \u001b[0marray\u001b[0m \u001b[0;32mor\u001b[0m \u001b[0msparse\u001b[0m \u001b[0mmatrix\u001b[0m\u001b[0;34m\u001b[0m\u001b[0;34m\u001b[0m\u001b[0m\n\u001b[1;32m     65\u001b[0m \u001b[0;34m\u001b[0m\u001b[0m\n",
      "\u001b[0;32m~/anaconda3/lib/python3.8/site-packages/sklearn/model_selection/_validation.py\u001b[0m in \u001b[0;36mcross_val_score\u001b[0;34m(estimator, X, y, groups, scoring, cv, n_jobs, verbose, fit_params, pre_dispatch, error_score)\u001b[0m\n\u001b[1;32m    438\u001b[0m         \u001b[0mIndices\u001b[0m \u001b[0mof\u001b[0m \u001b[0mtraining\u001b[0m \u001b[0msamples\u001b[0m\u001b[0;34m.\u001b[0m\u001b[0;34m\u001b[0m\u001b[0;34m\u001b[0m\u001b[0m\n\u001b[1;32m    439\u001b[0m \u001b[0;34m\u001b[0m\u001b[0m\n\u001b[0;32m--> 440\u001b[0;31m     \u001b[0mtest\u001b[0m \u001b[0;34m:\u001b[0m \u001b[0marray\u001b[0m\u001b[0;34m-\u001b[0m\u001b[0mlike\u001b[0m\u001b[0;34m,\u001b[0m \u001b[0mshape\u001b[0m \u001b[0;34m(\u001b[0m\u001b[0mn_test_samples\u001b[0m\u001b[0;34m,\u001b[0m\u001b[0;34m)\u001b[0m\u001b[0;34m\u001b[0m\u001b[0;34m\u001b[0m\u001b[0m\n\u001b[0m\u001b[1;32m    441\u001b[0m         \u001b[0mIndices\u001b[0m \u001b[0mof\u001b[0m \u001b[0mtest\u001b[0m \u001b[0msamples\u001b[0m\u001b[0;34m.\u001b[0m\u001b[0;34m\u001b[0m\u001b[0;34m\u001b[0m\u001b[0m\n\u001b[1;32m    442\u001b[0m \u001b[0;34m\u001b[0m\u001b[0m\n",
      "\u001b[0;32m~/anaconda3/lib/python3.8/site-packages/sklearn/utils/validation.py\u001b[0m in \u001b[0;36minner_f\u001b[0;34m(*args, **kwargs)\u001b[0m\n\u001b[1;32m     61\u001b[0m \u001b[0;34m\u001b[0m\u001b[0m\n\u001b[1;32m     62\u001b[0m     \u001b[0mParameters\u001b[0m\u001b[0;34m\u001b[0m\u001b[0;34m\u001b[0m\u001b[0m\n\u001b[0;32m---> 63\u001b[0;31m     \u001b[0;34m-\u001b[0m\u001b[0;34m-\u001b[0m\u001b[0;34m-\u001b[0m\u001b[0;34m-\u001b[0m\u001b[0;34m-\u001b[0m\u001b[0;34m-\u001b[0m\u001b[0;34m-\u001b[0m\u001b[0;34m-\u001b[0m\u001b[0;34m-\u001b[0m\u001b[0;34m-\u001b[0m\u001b[0;34m\u001b[0m\u001b[0;34m\u001b[0m\u001b[0m\n\u001b[0m\u001b[1;32m     64\u001b[0m     \u001b[0mX\u001b[0m \u001b[0;34m:\u001b[0m \u001b[0marray\u001b[0m \u001b[0;32mor\u001b[0m \u001b[0msparse\u001b[0m \u001b[0mmatrix\u001b[0m\u001b[0;34m\u001b[0m\u001b[0;34m\u001b[0m\u001b[0m\n\u001b[1;32m     65\u001b[0m \u001b[0;34m\u001b[0m\u001b[0m\n",
      "\u001b[0;32m~/anaconda3/lib/python3.8/site-packages/sklearn/model_selection/_validation.py\u001b[0m in \u001b[0;36mcross_validate\u001b[0;34m(estimator, X, y, groups, scoring, cv, n_jobs, verbose, fit_params, pre_dispatch, return_train_score, return_estimator, error_score)\u001b[0m\n\u001b[1;32m    229\u001b[0m     \u001b[0mscorers\u001b[0m\u001b[0;34m,\u001b[0m \u001b[0m_\u001b[0m \u001b[0;34m=\u001b[0m \u001b[0m_check_multimetric_scoring\u001b[0m\u001b[0;34m(\u001b[0m\u001b[0mestimator\u001b[0m\u001b[0;34m,\u001b[0m \u001b[0mscoring\u001b[0m\u001b[0;34m=\u001b[0m\u001b[0mscoring\u001b[0m\u001b[0;34m)\u001b[0m\u001b[0;34m\u001b[0m\u001b[0;34m\u001b[0m\u001b[0m\n\u001b[1;32m    230\u001b[0m \u001b[0;34m\u001b[0m\u001b[0m\n\u001b[0;32m--> 231\u001b[0;31m     \u001b[0;31m# We clone the estimator to make sure that all the folds are\u001b[0m\u001b[0;34m\u001b[0m\u001b[0;34m\u001b[0m\u001b[0;34m\u001b[0m\u001b[0m\n\u001b[0m\u001b[1;32m    232\u001b[0m     \u001b[0;31m# independent, and that it is pickle-able.\u001b[0m\u001b[0;34m\u001b[0m\u001b[0;34m\u001b[0m\u001b[0;34m\u001b[0m\u001b[0m\n\u001b[1;32m    233\u001b[0m     parallel = Parallel(n_jobs=n_jobs, verbose=verbose,\n",
      "\u001b[0;32m~/anaconda3/lib/python3.8/site-packages/sklearn/utils/validation.py\u001b[0m in \u001b[0;36mindexable\u001b[0;34m(*iterables)\u001b[0m\n\u001b[1;32m    297\u001b[0m \u001b[0;34m\u001b[0m\u001b[0m\n\u001b[1;32m    298\u001b[0m         \u001b[0;34m.\u001b[0m\u001b[0;34m.\u001b[0m \u001b[0mversionadded\u001b[0m\u001b[0;34m:\u001b[0m\u001b[0;34m:\u001b[0m \u001b[0;36m0.20\u001b[0m\u001b[0;34m\u001b[0m\u001b[0;34m\u001b[0m\u001b[0m\n\u001b[0;32m--> 299\u001b[0;31m            \u001b[0;31m`\u001b[0m\u001b[0;31m`\u001b[0m\u001b[0mforce_all_finite\u001b[0m\u001b[0;31m`\u001b[0m\u001b[0;31m`\u001b[0m \u001b[0maccepts\u001b[0m \u001b[0mthe\u001b[0m \u001b[0mstring\u001b[0m\u001b[0;31m \u001b[0m\u001b[0;31m`\u001b[0m\u001b[0;31m`\u001b[0m\u001b[0;34m'allow-nan'\u001b[0m\u001b[0;31m`\u001b[0m\u001b[0;31m`\u001b[0m\u001b[0;34m.\u001b[0m\u001b[0;34m\u001b[0m\u001b[0;34m\u001b[0m\u001b[0m\n\u001b[0m\u001b[1;32m    300\u001b[0m \u001b[0;34m\u001b[0m\u001b[0m\n\u001b[1;32m    301\u001b[0m     \u001b[0mReturns\u001b[0m\u001b[0;34m\u001b[0m\u001b[0;34m\u001b[0m\u001b[0m\n",
      "\u001b[0;32m~/anaconda3/lib/python3.8/site-packages/sklearn/utils/validation.py\u001b[0m in \u001b[0;36mcheck_consistent_length\u001b[0;34m(*arrays)\u001b[0m\n\u001b[1;32m    260\u001b[0m     \u001b[0mcheck_consistent_length\u001b[0m\u001b[0;34m(\u001b[0m\u001b[0;34m*\u001b[0m\u001b[0mresult\u001b[0m\u001b[0;34m)\u001b[0m\u001b[0;34m\u001b[0m\u001b[0;34m\u001b[0m\u001b[0m\n\u001b[1;32m    261\u001b[0m     \u001b[0;32mreturn\u001b[0m \u001b[0mresult\u001b[0m\u001b[0;34m\u001b[0m\u001b[0;34m\u001b[0m\u001b[0m\n\u001b[0;32m--> 262\u001b[0;31m \u001b[0;34m\u001b[0m\u001b[0m\n\u001b[0m\u001b[1;32m    263\u001b[0m \u001b[0;34m\u001b[0m\u001b[0m\n\u001b[1;32m    264\u001b[0m def _ensure_sparse_format(spmatrix, accept_sparse, dtype, copy,\n",
      "\u001b[0;31mValueError\u001b[0m: Found input variables with inconsistent numbers of samples: [2788, 27790]"
     ]
    }
   ],
   "source": [
    "from sklearn.model_selection import KFold, cross_val_score\n",
    "\n",
    "\n",
    "results = []\n",
    "names = []\n",
    "\n",
    "for name, model in models:\n",
    "    kfold = KFold(n_splits=5, random_state=13, shuffle=True)\n",
    "    cv_results = cross_val_score(model, X_test, y_smote,\n",
    "                                cv=kfold, scoring='accuracy')\n",
    "    results.append(cv_results)\n",
    "    names.append(name)\n",
    "\n",
    "    model = model.fit(X_train, y_smote)\n",
    "    y_preds = model.predict(X_test)\n",
    "\n",
    "    print(name, cv_results.mean(), cv_results.std())\n",
    "    print(classification_report(y_test, y_preds)) "
   ]
  },
  {
   "cell_type": "markdown",
   "id": "9da0d67a",
   "metadata": {},
   "source": [
    "### SMOTEENN"
   ]
  },
  {
   "cell_type": "code",
   "execution_count": 111,
   "id": "7f8b3f46",
   "metadata": {},
   "outputs": [],
   "source": [
    "X = data.iloc[:,1:]\n",
    "y = data[\"fraud\"]\n",
    "\n",
    "X_train, X_test, y_train, y_test = train_test_split(X, y, test_size = 0.2, random_state=13)"
   ]
  },
  {
   "cell_type": "code",
   "execution_count": 112,
   "id": "3981c84c",
   "metadata": {},
   "outputs": [],
   "source": [
    "from imblearn.combine import SMOTEENN \n",
    "\n",
    "sme = SMOTEENN(random_state=42)\n",
    "X_somteenn, y_somteenn = sme.fit_resample(X, y)"
   ]
  },
  {
   "cell_type": "code",
   "execution_count": 113,
   "id": "f8288276",
   "metadata": {},
   "outputs": [
    {
     "data": {
      "image/png": "[encoded data removed]",
      "text/plain": [
       "<Figure size 432x288 with 1 Axes>"
      ]
     },
     "metadata": {
      "image/png": {
       "height": 231,
       "width": 349
      }
     },
     "output_type": "display_data"
    }
   ],
   "source": [
    "labels = 'Not Fraud', 'Fraud'\n",
    "explode = (0, 0)\n",
    "\n",
    "fig1, ax1 = plt.subplots()\n",
    "ax1.pie(y_somteenn.value_counts(), explode=explode, labels=labels, autopct='%1.1f%%',\n",
    "        shadow=True, startangle=60)\n",
    "ax1.axis('equal')\n",
    "plt.show()"
   ]
  },
  {
   "cell_type": "code",
   "execution_count": 114,
   "id": "35141595",
   "metadata": {},
   "outputs": [],
   "source": [
    "from sklearn.model_selection import train_test_split\n",
    "x_train,x_test,y_train,y_test = train_test_split(X_somteenn, y_somteenn, test_size = 0.10, random_state = 31)"
   ]
  },
  {
   "cell_type": "code",
   "execution_count": 115,
   "id": "26ee93b5",
   "metadata": {},
   "outputs": [
    {
     "data": {
      "text/plain": [
       "(16047, 1783, 16047, 1783)"
      ]
     },
     "execution_count": 115,
     "metadata": {},
     "output_type": "execute_result"
    }
   ],
   "source": [
    "len(x_train), len(x_test), len(y_train), len(y_test)"
   ]
  },
  {
   "cell_type": "code",
   "execution_count": 116,
   "id": "4cf576be",
   "metadata": {},
   "outputs": [
    {
     "data": {
      "text/plain": [
       "0.5630959057767807"
      ]
     },
     "execution_count": 116,
     "metadata": {},
     "output_type": "execute_result"
    }
   ],
   "source": [
    "# applying logistic regression\n",
    "from sklearn.linear_model import LogisticRegression\n",
    "log_clf = LogisticRegression(max_iter = 1000, random_state = 4)\n",
    "log_clf.fit(x_train, y_train)\n",
    "log_score = log_clf.score(x_test, y_test)\n",
    "log_score"
   ]
  },
  {
   "cell_type": "code",
   "execution_count": 117,
   "id": "44c3e3ad",
   "metadata": {
    "scrolled": true
   },
   "outputs": [
    {
     "name": "stdout",
     "output_type": "stream",
     "text": [
      "              precision    recall  f1-score   support\n",
      "\n",
      "           0       1.00      0.11      0.19       871\n",
      "           1       0.54      1.00      0.70       912\n",
      "\n",
      "    accuracy                           0.56      1783\n",
      "   macro avg       0.77      0.55      0.45      1783\n",
      "weighted avg       0.76      0.56      0.45      1783\n",
      "\n"
     ]
    }
   ],
   "source": [
    "from sklearn.metrics import classification_report\n",
    "y_preds = log_clf.predict(x_test)\n",
    "print(classification_report(y_test, y_preds))"
   ]
  },
  {
   "cell_type": "code",
   "execution_count": 118,
   "id": "fb33c2e8",
   "metadata": {},
   "outputs": [
    {
     "data": {
      "image/png": "[encoded data removed]",
      "text/plain": [
       "<Figure size 432x288 with 1 Axes>"
      ]
     },
     "metadata": {
      "image/png": {
       "height": 281,
       "width": 389
      }
     },
     "output_type": "display_data"
    }
   ],
   "source": [
    "from sklearn.metrics import plot_roc_curve\n",
    "plot_roc_curve(log_clf, x_test, y_test)\n",
    "plt.xlabel('False Positive Rate')\n",
    "plt.ylabel('True Positive Rate')\n",
    "plt.title('Receiver Operating Characteristic Curve');"
   ]
  },
  {
   "cell_type": "code",
   "execution_count": 119,
   "id": "45f0446f",
   "metadata": {},
   "outputs": [],
   "source": [
    "## applying other models\n",
    "from sklearn.ensemble import (AdaBoostClassifier, GradientBoostingClassifier, RandomForestClassifier)\n",
    "from sklearn.tree import DecisionTreeClassifier\n",
    "from sklearn.linear_model import LogisticRegression\n",
    "\n",
    "models = []\n",
    "\n",
    "models.append((\"Random Forest Classifier: \", RandomForestClassifier()))\n",
    "models.append((\"Decision Tree Classifier: \", DecisionTreeClassifier()))\n",
    "models.append((\"AdaBoost Classifier: \" , AdaBoostClassifier()))\n",
    "models.append((\"Gradient Boosting Classifier: \", GradientBoostingClassifier()))\n",
    "models.append((\"Logistic Regression: \", LogisticRegression()))"
   ]
  },
  {
   "cell_type": "code",
   "execution_count": 122,
   "id": "bd62da6b",
   "metadata": {},
   "outputs": [],
   "source": [
    "X_train, X_test, y_train, y_test = train_test_split(X, y, test_size = 0.2, random_state=13)\n",
    "X = data.iloc[:,1:]\n",
    "y = data[\"fraud\"]"
   ]
  },
  {
   "cell_type": "code",
   "execution_count": 123,
   "id": "2c6dd905",
   "metadata": {},
   "outputs": [],
   "source": [
    "sme = SMOTEENN(random_state=42)\n",
    "X_somteenn, y_somteenn = sme.fit_resample(X, y)"
   ]
  },
  {
   "cell_type": "code",
   "execution_count": 124,
   "id": "b6905b76",
   "metadata": {},
   "outputs": [],
   "source": [
    "x_train,x_test,y_train,y_test = train_test_split(X_somteenn, y_somteenn, test_size = 0.10, random_state = 31)"
   ]
  },
  {
   "cell_type": "code",
   "execution_count": 125,
   "id": "6a9a4e68",
   "metadata": {
    "scrolled": false
   },
   "outputs": [
    {
     "name": "stdout",
     "output_type": "stream",
     "text": [
      "Random Forest Classifier:  0.9882242784754351 0.005709807773826401\n",
      "              precision    recall  f1-score   support\n",
      "\n",
      "           0       1.00      1.00      1.00       871\n",
      "           1       1.00      1.00      1.00       912\n",
      "\n",
      "    accuracy                           1.00      1783\n",
      "   macro avg       1.00      1.00      1.00      1783\n",
      "weighted avg       1.00      1.00      1.00      1783\n",
      "\n",
      "Decision Tree Classifier:  0.9697069839171624 0.006765498087349965\n",
      "              precision    recall  f1-score   support\n",
      "\n",
      "           0       1.00      0.98      0.99       871\n",
      "           1       0.98      1.00      0.99       912\n",
      "\n",
      "    accuracy                           0.99      1783\n",
      "   macro avg       0.99      0.99      0.99      1783\n",
      "weighted avg       0.99      0.99      0.99      1783\n",
      "\n",
      "AdaBoost Classifier:  0.9304472350738047 0.010311442321668264\n",
      "              precision    recall  f1-score   support\n",
      "\n",
      "           0       0.96      0.92      0.93       871\n",
      "           1       0.92      0.96      0.94       912\n",
      "\n",
      "    accuracy                           0.94      1783\n",
      "   macro avg       0.94      0.94      0.94      1783\n",
      "weighted avg       0.94      0.94      0.94      1783\n",
      "\n",
      "Gradient Boosting Classifier:  0.9635382242784754 0.01110030256444184\n",
      "              precision    recall  f1-score   support\n",
      "\n",
      "           0       0.99      0.95      0.97       871\n",
      "           1       0.95      0.99      0.97       912\n",
      "\n",
      "    accuracy                           0.97      1783\n",
      "   macro avg       0.97      0.97      0.97      1783\n",
      "weighted avg       0.97      0.97      0.97      1783\n",
      "\n",
      "Logistic Regression:  0.5608378182733768 0.0316899787118542\n",
      "              precision    recall  f1-score   support\n",
      "\n",
      "           0       1.00      0.11      0.19       871\n",
      "           1       0.54      1.00      0.70       912\n",
      "\n",
      "    accuracy                           0.56      1783\n",
      "   macro avg       0.77      0.55      0.45      1783\n",
      "weighted avg       0.76      0.56      0.45      1783\n",
      "\n"
     ]
    }
   ],
   "source": [
    "from sklearn.model_selection import KFold, cross_val_score\n",
    "\n",
    "\n",
    "results = []\n",
    "names = []\n",
    "\n",
    "for name, model in models:\n",
    "    kfold = KFold(n_splits=5, random_state=13, shuffle=True)\n",
    "    cv_results = cross_val_score(model, x_test, y_test,\n",
    "                                cv=kfold, scoring='accuracy')\n",
    "    results.append(cv_results)\n",
    "    names.append(name)\n",
    "\n",
    "    model = model.fit(x_train, y_train)\n",
    "    y_preds = model.predict(x_test)\n",
    "\n",
    "    print(name, cv_results.mean(), cv_results.std())\n",
    "    print(classification_report(y_test, y_preds))    "
   ]
  },
  {
   "cell_type": "code",
   "execution_count": null,
   "id": "3f1b353f",
   "metadata": {},
   "outputs": [],
   "source": [
    "# Random Forest Classifier using SOTEENN"
   ]
  },
  {
   "cell_type": "code",
   "execution_count": 126,
   "id": "0d0f3dce",
   "metadata": {},
   "outputs": [
    {
     "name": "stdout",
     "output_type": "stream",
     "text": [
      "              precision    recall  f1-score   support\n",
      "\n",
      "           0       1.00      1.00      1.00       871\n",
      "           1       1.00      1.00      1.00       912\n",
      "\n",
      "    accuracy                           1.00      1783\n",
      "   macro avg       1.00      1.00      1.00      1783\n",
      "weighted avg       1.00      1.00      1.00      1783\n",
      "\n"
     ]
    },
    {
     "data": {
      "text/plain": [
       "0.997195737521032"
      ]
     },
     "execution_count": 126,
     "metadata": {},
     "output_type": "execute_result"
    }
   ],
   "source": [
    "rfc = RandomForestClassifier(random_state = 4)\n",
    "rfc.fit(x_train, y_train)\n",
    "log_score = rfc.score(x_test, y_test)\n",
    "y_preds = rfc.predict(x_test)\n",
    "print(classification_report(y_test, y_preds))\n",
    "log_score"
   ]
  },
  {
   "cell_type": "code",
   "execution_count": 127,
   "id": "bcc17df9",
   "metadata": {},
   "outputs": [
    {
     "data": {
      "image/png": "[encoded data removed]",
      "text/plain": [
       "<Figure size 432x288 with 1 Axes>"
      ]
     },
     "metadata": {
      "image/png": {
       "height": 281,
       "width": 389
      }
     },
     "output_type": "display_data"
    }
   ],
   "source": [
    "from sklearn.metrics import plot_roc_curve\n",
    "plot_roc_curve(rfc, x_test, y_test)\n",
    "plt.xlabel('False Positive Rate')\n",
    "plt.ylabel('True Positive Rate')\n",
    "plt.title('Receiver Operating Characteristic Curve');\n",
    "# 완벽...?  ㅜㅅㅜ "
   ]
  },
  {
   "cell_type": "code",
   "execution_count": 130,
   "id": "5b5a2c6f",
   "metadata": {},
   "outputs": [
    {
     "name": "stdout",
     "output_type": "stream",
     "text": [
      "              precision    recall  f1-score   support\n",
      "\n",
      "           0       1.00      1.00      1.00       871\n",
      "           1       1.00      1.00      1.00       912\n",
      "\n",
      "    accuracy                           1.00      1783\n",
      "   macro avg       1.00      1.00      1.00      1783\n",
      "weighted avg       1.00      1.00      1.00      1783\n",
      "\n"
     ]
    }
   ],
   "source": [
    "# Logistic Classifier \n",
    "y_preds = rfc.predict(x_test)\n",
    "print(classification_report(y_test, y_preds))"
   ]
  },
  {
   "cell_type": "code",
   "execution_count": 131,
   "id": "14211bec",
   "metadata": {},
   "outputs": [],
   "source": [
    "# 만들어보기 "
   ]
  },
  {
   "cell_type": "code",
   "execution_count": 132,
   "id": "9e8d7f8f",
   "metadata": {},
   "outputs": [
    {
     "name": "stdout",
     "output_type": "stream",
     "text": [
      "Acc :  0.9702748177229389\n",
      "              precision    recall  f1-score   support\n",
      "\n",
      "           0       0.99      0.95      0.97       871\n",
      "           1       0.95      0.99      0.97       912\n",
      "\n",
      "    accuracy                           0.97      1783\n",
      "   macro avg       0.97      0.97      0.97      1783\n",
      "weighted avg       0.97      0.97      0.97      1783\n",
      "\n"
     ]
    }
   ],
   "source": [
    "# Gradient Boosting Classifier \n",
    "\n",
    "from sklearn.ensemble import GradientBoostingClassifier\n",
    "from sklearn.metrics import accuracy_score\n",
    "\n",
    "gb_clf = GradientBoostingClassifier(random_state=13)\n",
    "gb_clf.fit(x_train, y_train)\n",
    "gb_pred = gb_clf.predict(x_test)\n",
    "\n",
    "print('Acc : ', accuracy_score(y_test, gb_pred))\n",
    "print(classification_report(y_test, gb_pred))"
   ]
  },
  {
   "cell_type": "code",
   "execution_count": 134,
   "id": "e6bf102f",
   "metadata": {
    "scrolled": true
   },
   "outputs": [
    {
     "name": "stdout",
     "output_type": "stream",
     "text": [
      "[1]\tvalid_0's binary_logloss: 0.622322\n",
      "Training until validation scores don't improve for 100 rounds\n",
      "[2]\tvalid_0's binary_logloss: 0.553787\n",
      "[3]\tvalid_0's binary_logloss: 0.50388\n",
      "[4]\tvalid_0's binary_logloss: 0.45395\n",
      "[5]\tvalid_0's binary_logloss: 0.41808\n",
      "[6]\tvalid_0's binary_logloss: 0.381165\n",
      "[7]\tvalid_0's binary_logloss: 0.348629\n",
      "[8]\tvalid_0's binary_logloss: 0.322594\n",
      "[9]\tvalid_0's binary_logloss: 0.297483\n",
      "[10]\tvalid_0's binary_logloss: 0.27744\n",
      "[11]\tvalid_0's binary_logloss: 0.258115\n",
      "[12]\tvalid_0's binary_logloss: 0.242526\n",
      "[13]\tvalid_0's binary_logloss: 0.226817\n",
      "[14]\tvalid_0's binary_logloss: 0.214606\n",
      "[15]\tvalid_0's binary_logloss: 0.200886\n",
      "[16]\tvalid_0's binary_logloss: 0.189434\n",
      "[17]\tvalid_0's binary_logloss: 0.176308\n",
      "[18]\tvalid_0's binary_logloss: 0.164759\n",
      "[19]\tvalid_0's binary_logloss: 0.154336\n",
      "[20]\tvalid_0's binary_logloss: 0.145376\n",
      "[21]\tvalid_0's binary_logloss: 0.139288\n",
      "[22]\tvalid_0's binary_logloss: 0.131898\n",
      "[23]\tvalid_0's binary_logloss: 0.124955\n",
      "[24]\tvalid_0's binary_logloss: 0.120018\n",
      "[25]\tvalid_0's binary_logloss: 0.114161\n",
      "[26]\tvalid_0's binary_logloss: 0.107996\n",
      "[27]\tvalid_0's binary_logloss: 0.102968\n",
      "[28]\tvalid_0's binary_logloss: 0.0985468\n",
      "[29]\tvalid_0's binary_logloss: 0.0936481\n",
      "[30]\tvalid_0's binary_logloss: 0.0905893\n",
      "[31]\tvalid_0's binary_logloss: 0.0866014\n",
      "[32]\tvalid_0's binary_logloss: 0.0826578\n",
      "[33]\tvalid_0's binary_logloss: 0.0799532\n",
      "[34]\tvalid_0's binary_logloss: 0.076672\n",
      "[35]\tvalid_0's binary_logloss: 0.0738791\n",
      "[36]\tvalid_0's binary_logloss: 0.0718116\n",
      "[37]\tvalid_0's binary_logloss: 0.0691606\n",
      "[38]\tvalid_0's binary_logloss: 0.0665522\n",
      "[39]\tvalid_0's binary_logloss: 0.0636505\n",
      "[40]\tvalid_0's binary_logloss: 0.0617055\n",
      "[41]\tvalid_0's binary_logloss: 0.0598567\n",
      "[42]\tvalid_0's binary_logloss: 0.0581875\n",
      "[43]\tvalid_0's binary_logloss: 0.0556157\n",
      "[44]\tvalid_0's binary_logloss: 0.054351\n",
      "[45]\tvalid_0's binary_logloss: 0.0524177\n",
      "[46]\tvalid_0's binary_logloss: 0.0510547\n",
      "[47]\tvalid_0's binary_logloss: 0.0491448\n",
      "[48]\tvalid_0's binary_logloss: 0.0479172\n",
      "[49]\tvalid_0's binary_logloss: 0.0467243\n",
      "[50]\tvalid_0's binary_logloss: 0.0454506\n",
      "[51]\tvalid_0's binary_logloss: 0.0443145\n",
      "[52]\tvalid_0's binary_logloss: 0.0431697\n",
      "[53]\tvalid_0's binary_logloss: 0.0422577\n",
      "[54]\tvalid_0's binary_logloss: 0.0413431\n",
      "[55]\tvalid_0's binary_logloss: 0.0401097\n",
      "[56]\tvalid_0's binary_logloss: 0.0394264\n",
      "[57]\tvalid_0's binary_logloss: 0.0387157\n",
      "[58]\tvalid_0's binary_logloss: 0.0380477\n",
      "[59]\tvalid_0's binary_logloss: 0.0372287\n",
      "[60]\tvalid_0's binary_logloss: 0.0367458\n",
      "[61]\tvalid_0's binary_logloss: 0.0362813\n",
      "[62]\tvalid_0's binary_logloss: 0.0352346\n",
      "[63]\tvalid_0's binary_logloss: 0.0346297\n",
      "[64]\tvalid_0's binary_logloss: 0.0339927\n",
      "[65]\tvalid_0's binary_logloss: 0.0334524\n",
      "[66]\tvalid_0's binary_logloss: 0.0327782\n",
      "[67]\tvalid_0's binary_logloss: 0.0321118\n",
      "[68]\tvalid_0's binary_logloss: 0.0316113\n",
      "[69]\tvalid_0's binary_logloss: 0.0310182\n",
      "[70]\tvalid_0's binary_logloss: 0.0304682\n",
      "[71]\tvalid_0's binary_logloss: 0.029918\n",
      "[72]\tvalid_0's binary_logloss: 0.0294688\n",
      "[73]\tvalid_0's binary_logloss: 0.0289139\n",
      "[74]\tvalid_0's binary_logloss: 0.0283973\n",
      "[75]\tvalid_0's binary_logloss: 0.027709\n",
      "[76]\tvalid_0's binary_logloss: 0.027233\n",
      "[77]\tvalid_0's binary_logloss: 0.0266422\n",
      "[78]\tvalid_0's binary_logloss: 0.0264434\n",
      "[79]\tvalid_0's binary_logloss: 0.0259567\n",
      "[80]\tvalid_0's binary_logloss: 0.0255133\n",
      "[81]\tvalid_0's binary_logloss: 0.0249805\n",
      "[82]\tvalid_0's binary_logloss: 0.0248211\n",
      "[83]\tvalid_0's binary_logloss: 0.024678\n",
      "[84]\tvalid_0's binary_logloss: 0.0241861\n",
      "[85]\tvalid_0's binary_logloss: 0.0239228\n",
      "[86]\tvalid_0's binary_logloss: 0.0237474\n",
      "[87]\tvalid_0's binary_logloss: 0.0234555\n",
      "[88]\tvalid_0's binary_logloss: 0.0232145\n",
      "[89]\tvalid_0's binary_logloss: 0.0228038\n",
      "[90]\tvalid_0's binary_logloss: 0.0227344\n",
      "[91]\tvalid_0's binary_logloss: 0.022607\n",
      "[92]\tvalid_0's binary_logloss: 0.0223889\n",
      "[93]\tvalid_0's binary_logloss: 0.0222686\n",
      "[94]\tvalid_0's binary_logloss: 0.0218676\n",
      "[95]\tvalid_0's binary_logloss: 0.0216774\n",
      "[96]\tvalid_0's binary_logloss: 0.0215531\n",
      "[97]\tvalid_0's binary_logloss: 0.0213232\n",
      "[98]\tvalid_0's binary_logloss: 0.0211597\n",
      "[99]\tvalid_0's binary_logloss: 0.0210456\n",
      "[100]\tvalid_0's binary_logloss: 0.0209099\n",
      "Did not meet early stopping. Best iteration is:\n",
      "[100]\tvalid_0's binary_logloss: 0.0209099\n"
     ]
    }
   ],
   "source": [
    "from lightgbm import LGBMClassifier\n",
    "\n",
    "lgbm = LGBMClassifier(n_estimator=400)\n",
    "evals = [(x_test, y_test)]\n",
    "lgbm = lgbm.fit(x_train.values, y_train, early_stopping_rounds=100, eval_set=evals)"
   ]
  },
  {
   "cell_type": "markdown",
   "id": "15d0dd3f",
   "metadata": {},
   "source": [
    "### ADASYN(Adaptive Synthetic Sampling) \n",
    "#방법은 소수 클래스 데이터와 그 데이터에서 가장 가까운 k개의 소수 클래스 데이터 중 무작위로 선택된 데이터 사이의 \n",
    "#직선상에 가상의 소수 클래스 데이터를 만드는 방법이다."
   ]
  },
  {
   "cell_type": "code",
   "execution_count": 135,
   "id": "0c8b09db",
   "metadata": {},
   "outputs": [],
   "source": [
    "from imblearn.over_sampling import ADASYN"
   ]
  },
  {
   "cell_type": "code",
   "execution_count": 137,
   "id": "b26d7018",
   "metadata": {},
   "outputs": [],
   "source": [
    "X = data.iloc[:,1:]\n",
    "y = data[\"fraud\"]\n",
    "\n",
    "X_train, X_test, y_train, y_test = train_test_split(X, y, test_size = 0.2, random_state=13)"
   ]
  },
  {
   "cell_type": "code",
   "execution_count": 138,
   "id": "1b14ce18",
   "metadata": {},
   "outputs": [],
   "source": [
    "from imblearn.over_sampling import ADASYN\n",
    "\n",
    "adasyn = ADASYN(random_state=42)\n",
    "X_adasyn, y_adasyn = adasyn.fit_resample(X, y)"
   ]
  },
  {
   "cell_type": "code",
   "execution_count": 139,
   "id": "40382f36",
   "metadata": {},
   "outputs": [
    {
     "data": {
      "image/png": "[encoded data removed]",
      "text/plain": [
       "<Figure size 432x288 with 1 Axes>"
      ]
     },
     "metadata": {
      "image/png": {
       "height": 231,
       "width": 349
      }
     },
     "output_type": "display_data"
    }
   ],
   "source": [
    "labels = 'Not Fraud', 'Fraud'\n",
    "explode = (0, 0)\n",
    "\n",
    "fig1, ax1 = plt.subplots()\n",
    "ax1.pie(y_somteenn.value_counts(), explode=explode, labels=labels, autopct='%1.1f%%',\n",
    "        shadow=True, startangle=60)\n",
    "ax1.axis('equal')\n",
    "plt.show()"
   ]
  },
  {
   "cell_type": "code",
   "execution_count": 140,
   "id": "9c5207ee",
   "metadata": {},
   "outputs": [],
   "source": [
    "from sklearn.model_selection import train_test_split\n",
    "x_train,x_test,y_train,y_test = train_test_split(X_adasyn, y_adasyn, test_size = 0.10, random_state = 31)"
   ]
  },
  {
   "cell_type": "code",
   "execution_count": 141,
   "id": "7e5d8fce",
   "metadata": {},
   "outputs": [
    {
     "data": {
      "text/plain": [
       "(25014, 2780, 25014, 2780)"
      ]
     },
     "execution_count": 141,
     "metadata": {},
     "output_type": "execute_result"
    }
   ],
   "source": [
    "len(x_train), len(x_test), len(y_train), len(y_test)"
   ]
  },
  {
   "cell_type": "code",
   "execution_count": 142,
   "id": "32339660",
   "metadata": {},
   "outputs": [
    {
     "data": {
      "text/plain": [
       "0.6280575539568345"
      ]
     },
     "execution_count": 142,
     "metadata": {},
     "output_type": "execute_result"
    }
   ],
   "source": [
    "# applying logistic regression\n",
    "from sklearn.linear_model import LogisticRegression\n",
    "log_clf = LogisticRegression(max_iter = 1000, random_state = 4)\n",
    "log_clf.fit(x_train, y_train)\n",
    "log_score = log_clf.score(x_test, y_test)\n",
    "log_score"
   ]
  },
  {
   "cell_type": "code",
   "execution_count": 143,
   "id": "38755a02",
   "metadata": {
    "scrolled": true
   },
   "outputs": [
    {
     "name": "stdout",
     "output_type": "stream",
     "text": [
      "              precision    recall  f1-score   support\n",
      "\n",
      "           0       0.63      0.62      0.62      1399\n",
      "           1       0.62      0.64      0.63      1381\n",
      "\n",
      "    accuracy                           0.63      2780\n",
      "   macro avg       0.63      0.63      0.63      2780\n",
      "weighted avg       0.63      0.63      0.63      2780\n",
      "\n"
     ]
    }
   ],
   "source": [
    "from sklearn.metrics import classification_report\n",
    "y_preds = log_clf.predict(x_test)\n",
    "print(classification_report(y_test, y_preds))"
   ]
  },
  {
   "cell_type": "code",
   "execution_count": 144,
   "id": "33daad72",
   "metadata": {},
   "outputs": [
    {
     "data": {
      "image/png": "[encoded data removed]",
      "text/plain": [
       "<Figure size 432x288 with 1 Axes>"
      ]
     },
     "metadata": {
      "image/png": {
       "height": 281,
       "width": 389
      }
     },
     "output_type": "display_data"
    }
   ],
   "source": [
    "from sklearn.metrics import plot_roc_curve\n",
    "plot_roc_curve(log_clf, x_test, y_test)\n",
    "plt.xlabel('False Positive Rate')\n",
    "plt.ylabel('True Positive Rate')\n",
    "plt.title('Receiver Operating Characteristic Curve');"
   ]
  },
  {
   "cell_type": "code",
   "execution_count": 145,
   "id": "0b706e85",
   "metadata": {},
   "outputs": [],
   "source": [
    "## applying other models\n",
    "from sklearn.ensemble import (AdaBoostClassifier, GradientBoostingClassifier, RandomForestClassifier)\n",
    "from sklearn.tree import DecisionTreeClassifier\n",
    "from sklearn.linear_model import LogisticRegression\n",
    "\n",
    "models = []\n",
    "\n",
    "models.append((\"Random Forest Classifier: \", RandomForestClassifier()))\n",
    "models.append((\"Decision Tree Classifier: \", DecisionTreeClassifier()))\n",
    "models.append((\"AdaBoost Classifier: \" , AdaBoostClassifier()))\n",
    "models.append((\"Gradient Boosting Classifier: \", GradientBoostingClassifier()))\n",
    "models.append((\"Logistic Regression: \", LogisticRegression()))"
   ]
  },
  {
   "cell_type": "code",
   "execution_count": 146,
   "id": "0303630c",
   "metadata": {
    "scrolled": true
   },
   "outputs": [
    {
     "name": "stdout",
     "output_type": "stream",
     "text": [
      "Random Forest Classifier:  0.9976013512244514 0.00035750723811290414\n",
      "Decision Tree Classifier:  0.9908451890081466 0.001234351397316759\n",
      "AdaBoost Classifier:  0.903014280995577 0.003751734179027738\n",
      "Gradient Boosting Classifier:  0.9610619873577653 0.0029393014413830335\n",
      "Logistic Regression:  0.6190130304064663 0.006596190547645455\n"
     ]
    }
   ],
   "source": [
    "from sklearn.model_selection import KFold, cross_val_score\n",
    "\n",
    "results = []\n",
    "names = []\n",
    "\n",
    "for name, model in models:\n",
    "    kfold = KFold(n_splits=5, random_state=13, shuffle=True)\n",
    "    cv_results = cross_val_score(model, x_train, y_train,\n",
    "                                cv=kfold, scoring='accuracy')\n",
    "    results.append(cv_results)\n",
    "    names.append(name)\n",
    "    \n",
    "    print(name, cv_results.mean(), cv_results.std())\n"
   ]
  }
 ],
 "metadata": {
  "kernelspec": {
   "display_name": "Python 3",
   "language": "python",
   "name": "python3"
  },
  "language_info": {
   "codemirror_mode": {
    "name": "ipython",
    "version": 3
   },
   "file_extension": ".py",
   "mimetype": "text/x-python",
   "name": "python",
   "nbconvert_exporter": "python",
   "pygments_lexer": "ipython3",
   "version": "3.8.8"
  }
 },
 "nbformat": 4,
 "nbformat_minor": 5
}
